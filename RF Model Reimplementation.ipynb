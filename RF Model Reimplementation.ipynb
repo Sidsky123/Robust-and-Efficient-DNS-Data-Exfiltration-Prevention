{
 "cells": [
  {
   "cell_type": "code",
   "execution_count": 45,
   "id": "b4dde3f1",
   "metadata": {},
   "outputs": [],
   "source": [
    "import time\n",
    "import ast\n",
    "import pandas as pd\n",
    "import matplotlib.pyplot as plt\n",
    "import seaborn as sns\n",
    "from sklearn.model_selection import StratifiedKFold\n",
    "from sklearn.compose import ColumnTransformer\n",
    "import joblib\n",
    "from sklearn.preprocessing import OrdinalEncoder, OneHotEncoder, StandardScaler\n",
    "from sklearn.metrics import classification_report, RocCurveDisplay\n",
    "from sklearn.linear_model import LogisticRegression\n",
    "from sklearn.ensemble import RandomForestClassifier\n",
    "from sklearn.pipeline import Pipeline\n",
    "from statistics import mean\n",
    "sns.set_theme()"
   ]
  },
  {
   "cell_type": "code",
   "execution_count": 23,
   "id": "a0aafeb9",
   "metadata": {},
   "outputs": [],
   "source": [
    "stateful_df = pd.read_csv(\"Data/Prepared Data/stateful.csv\")\n",
    "stateless_df = pd.read_csv(\"Data/Prepared Data/stateless.csv\")"
   ]
  },
  {
   "cell_type": "code",
   "execution_count": 24,
   "id": "eebe19fe",
   "metadata": {},
   "outputs": [
    {
     "name": "stdout",
     "output_type": "stream",
     "text": [
      "Percentage of missing values in timestamp : 0.0\n",
      "Percentage of missing values in FQDN_count : 0.0\n",
      "Percentage of missing values in subdomain_length : 0.0\n",
      "Percentage of missing values in upper : 0.0\n",
      "Percentage of missing values in lower : 0.0\n",
      "Percentage of missing values in numeric : 0.0\n",
      "Percentage of missing values in entropy : 0.0\n",
      "Percentage of missing values in special : 0.0\n",
      "Percentage of missing values in labels : 0.0\n",
      "Percentage of missing values in labels_max : 0.0\n",
      "Percentage of missing values in labels_average : 0.0\n",
      "Percentage of missing values in longest_word : 4.093971165236638e-05\n",
      "Percentage of missing values in sld : 0.0\n",
      "Percentage of missing values in len : 0.0\n",
      "Percentage of missing values in subdomain : 0.0\n",
      "Percentage of missing values in original_index : 0.0\n",
      "Percentage of missing values in data_type : 0.0\n",
      "Percentage of missing values in attack : 0.0\n",
      "Percentage of missing values in origin : 0.0\n"
     ]
    }
   ],
   "source": [
    "for col in stateless_df.columns:\n",
    "    print(f\"Percentage of missing values in {col} : {stateless_df[col].isna().sum()/stateless_df.shape[0]}\")"
   ]
  },
  {
   "cell_type": "code",
   "execution_count": 25,
   "id": "be7fa418",
   "metadata": {},
   "outputs": [],
   "source": [
    "stateless_df = stateless_df.fillna(\"\")"
   ]
  },
  {
   "cell_type": "markdown",
   "id": "d986120f",
   "metadata": {},
   "source": [
    "# Stateless Model - Reimplementation"
   ]
  },
  {
   "cell_type": "code",
   "execution_count": 26,
   "id": "6e5a98d0",
   "metadata": {
    "scrolled": false
   },
   "outputs": [
    {
     "name": "stdout",
     "output_type": "stream",
     "text": [
      "Train Accuracy: 0.75304406967684\n",
      "Test Accuracy: 0.7526792258473485\n",
      "Time elapsed: 38.73\n",
      "Train Accuracy: 0.7570592090384288\n",
      "Test Accuracy: 0.7367308936754665\n",
      "Time elapsed: 38.93\n",
      "Train Accuracy: 0.7505980002278096\n",
      "Test Accuracy: 0.7625427556424241\n",
      "Time elapsed: 39.78\n",
      "Train Accuracy: 0.75024803184052\n",
      "Test Accuracy: 0.763962441066547\n",
      "Time elapsed: 41.45\n",
      "Train Accuracy: 0.7541637158718918\n",
      "Test Accuracy: 0.7482930758970431\n",
      "Time elapsed: 34.95\n",
      "Total time elapsed for predictions: 193.85\n"
     ]
    },
    {
     "data": {
      "image/png": "[encoded data removed]",
      "text/plain": [
       "<Figure size 432x288 with 1 Axes>"
      ]
     },
     "metadata": {},
     "output_type": "display_data"
    }
   ],
   "source": [
    "stateless_df[\"Predictions\"] = 0\n",
    "skf = StratifiedKFold(n_splits=5)\n",
    "X = stateless_df[[col for col in stateless_df.columns \\\n",
    "                  if col not in [\"timestamp\", \"attack\", \"origin\", \"data_type\", \"original_index\"]]]\n",
    "y = stateless_df[\"attack\"]\n",
    "trained_pipes_rf = []\n",
    "categorical_transformer_pipes=[]\n",
    "accuracies = []\n",
    "total_prediction_time_stateless = 0\n",
    "\n",
    "for i, (train_index, test_index) in enumerate(skf.split(X, y)):\n",
    "    X_train, X_test = X.loc[train_index], X.loc[test_index]\n",
    "    y_train, y_test = y.loc[train_index], y.loc[test_index]\n",
    "    category_pipeline = ColumnTransformer(\n",
    "    [\n",
    "    # ('ordinal_encoder', OrdinalEncoder(handle_unknown=\"use_encoded_value\", unknown_value=-1), [\"longest_word\", \"sld\"]),\n",
    "        ('onehot_encoder', OneHotEncoder(handle_unknown=\"ignore\"), [\"longest_word\", \"sld\"]),\n",
    "     ('scaler', StandardScaler(), [col for col in X_train if col not in [\"longest_word\", \"sld\"]])\n",
    "     ]\n",
    "    )\n",
    "    X_train = category_pipeline.fit_transform(X_train)\n",
    "    pipe = Pipeline([\n",
    "        ('rf', RandomForestClassifier(random_state=0))\n",
    "    ])    \n",
    "    pipe.fit(X_train, y_train)\n",
    "    start_fold = time.time()\n",
    "    X_test = category_pipeline.transform(X_test)\n",
    "    #print(X_test)\n",
    "    print(\"Train Accuracy:\", pipe.score(X_train, y_train))\n",
    "    print(\"Test Accuracy:\", pipe.score(X_test, y_test))\n",
    "    stateless_df.loc[test_index, 'Predictions'] = pipe.predict(X_test)\n",
    "    \n",
    "    end_fold = time.time()\n",
    "    print(f\"Time elapsed: {(end_fold - start_fold):.2f}\")\n",
    "    total_prediction_time_stateless += (end_fold - start_fold)\n",
    "    \n",
    "    trained_pipes_rf.append(pipe)\n",
    "    categorical_transformer_pipes.append(category_pipeline)\n",
    "\n",
    "print(f\"Total time elapsed for predictions: {(total_prediction_time_stateless):.2f}\")\n",
    "    \n",
    "rf_disp = RocCurveDisplay.from_estimator(pipe, X_test, y_test)\n",
    "plt.show()    \n",
    "# get importance\n",
    "# importance = pipe[\"rf\"].coef_[0]\n",
    "\n",
    "# plt.bar([col for col in [\"longest_word\", \"sld\"]+[col for col in X if col not in [\"longest_word\", \"sld\"]]], importance)\n",
    "# plt.xticks(rotation=90)\n",
    "# plt.title(\"Feature Importance\")\n",
    "# plt.show()\n"
   ]
  },
  {
   "cell_type": "code",
   "execution_count": 27,
   "id": "18029dfe",
   "metadata": {},
   "outputs": [
    {
     "name": "stdout",
     "output_type": "stream",
     "text": [
      "Total prediction time for 757211 rows is 193.853\n",
      "Time to evaluate a single data point: 0.00025601\n"
     ]
    }
   ],
   "source": [
    "print(f\"Total prediction time for {stateless_df.shape[0]} rows is {total_prediction_time_stateless:.3f}\")\n",
    "single_datapoint_evaluation_time_stateless = total_prediction_time_stateless/stateless_df.shape[0]\n",
    "print(f\"Time to evaluate a single data point: {single_datapoint_evaluation_time_stateless:.8f}\")"
   ]
  },
  {
   "cell_type": "markdown",
   "id": "8f95e996",
   "metadata": {},
   "source": [
    "## Overall Results"
   ]
  },
  {
   "cell_type": "code",
   "execution_count": 28,
   "id": "466228c8",
   "metadata": {
    "scrolled": true
   },
   "outputs": [
    {
     "data": {
      "text/html": [
       "<div>\n",
       "<style scoped>\n",
       "    .dataframe tbody tr th:only-of-type {\n",
       "        vertical-align: middle;\n",
       "    }\n",
       "\n",
       "    .dataframe tbody tr th {\n",
       "        vertical-align: top;\n",
       "    }\n",
       "\n",
       "    .dataframe thead th {\n",
       "        text-align: right;\n",
       "    }\n",
       "</style>\n",
       "<table border=\"1\" class=\"dataframe\">\n",
       "  <thead>\n",
       "    <tr style=\"text-align: right;\">\n",
       "      <th></th>\n",
       "      <th>precision</th>\n",
       "      <th>recall</th>\n",
       "      <th>f1-score</th>\n",
       "      <th>support</th>\n",
       "    </tr>\n",
       "  </thead>\n",
       "  <tbody>\n",
       "    <tr>\n",
       "      <th>0</th>\n",
       "      <td>0.999460</td>\n",
       "      <td>0.595984</td>\n",
       "      <td>0.746704</td>\n",
       "      <td>462858.000000</td>\n",
       "    </tr>\n",
       "    <tr>\n",
       "      <th>1</th>\n",
       "      <td>0.611389</td>\n",
       "      <td>0.999494</td>\n",
       "      <td>0.758689</td>\n",
       "      <td>294353.000000</td>\n",
       "    </tr>\n",
       "    <tr>\n",
       "      <th>accuracy</th>\n",
       "      <td>0.752842</td>\n",
       "      <td>0.752842</td>\n",
       "      <td>0.752842</td>\n",
       "      <td>0.752842</td>\n",
       "    </tr>\n",
       "    <tr>\n",
       "      <th>macro avg</th>\n",
       "      <td>0.805425</td>\n",
       "      <td>0.797739</td>\n",
       "      <td>0.752696</td>\n",
       "      <td>757211.000000</td>\n",
       "    </tr>\n",
       "    <tr>\n",
       "      <th>weighted avg</th>\n",
       "      <td>0.848604</td>\n",
       "      <td>0.752842</td>\n",
       "      <td>0.751363</td>\n",
       "      <td>757211.000000</td>\n",
       "    </tr>\n",
       "  </tbody>\n",
       "</table>\n",
       "</div>"
      ],
      "text/plain": [
       "              precision    recall  f1-score        support\n",
       "0              0.999460  0.595984  0.746704  462858.000000\n",
       "1              0.611389  0.999494  0.758689  294353.000000\n",
       "accuracy       0.752842  0.752842  0.752842       0.752842\n",
       "macro avg      0.805425  0.797739  0.752696  757211.000000\n",
       "weighted avg   0.848604  0.752842  0.751363  757211.000000"
      ]
     },
     "metadata": {},
     "output_type": "display_data"
    }
   ],
   "source": [
    "display(pd.DataFrame(classification_report(stateless_df[\"attack\"], stateless_df[\"Predictions\"], output_dict=True)).T)"
   ]
  },
  {
   "cell_type": "markdown",
   "id": "5fb6cdf3",
   "metadata": {},
   "source": [
    "## Light-attack"
   ]
  },
  {
   "cell_type": "code",
   "execution_count": 29,
   "id": "8d78e799",
   "metadata": {},
   "outputs": [
    {
     "data": {
      "text/html": [
       "<div>\n",
       "<style scoped>\n",
       "    .dataframe tbody tr th:only-of-type {\n",
       "        vertical-align: middle;\n",
       "    }\n",
       "\n",
       "    .dataframe tbody tr th {\n",
       "        vertical-align: top;\n",
       "    }\n",
       "\n",
       "    .dataframe thead th {\n",
       "        text-align: right;\n",
       "    }\n",
       "</style>\n",
       "<table border=\"1\" class=\"dataframe\">\n",
       "  <thead>\n",
       "    <tr style=\"text-align: right;\">\n",
       "      <th></th>\n",
       "      <th>precision</th>\n",
       "      <th>recall</th>\n",
       "      <th>f1-score</th>\n",
       "      <th>support</th>\n",
       "    </tr>\n",
       "  </thead>\n",
       "  <tbody>\n",
       "    <tr>\n",
       "      <th>0</th>\n",
       "      <td>0.999672</td>\n",
       "      <td>0.608743</td>\n",
       "      <td>0.756700</td>\n",
       "      <td>60091.000000</td>\n",
       "    </tr>\n",
       "    <tr>\n",
       "      <th>1</th>\n",
       "      <td>0.644752</td>\n",
       "      <td>0.999719</td>\n",
       "      <td>0.783925</td>\n",
       "      <td>42683.000000</td>\n",
       "    </tr>\n",
       "    <tr>\n",
       "      <th>accuracy</th>\n",
       "      <td>0.771119</td>\n",
       "      <td>0.771119</td>\n",
       "      <td>0.771119</td>\n",
       "      <td>0.771119</td>\n",
       "    </tr>\n",
       "    <tr>\n",
       "      <th>macro avg</th>\n",
       "      <td>0.822212</td>\n",
       "      <td>0.804231</td>\n",
       "      <td>0.770312</td>\n",
       "      <td>102774.000000</td>\n",
       "    </tr>\n",
       "    <tr>\n",
       "      <th>weighted avg</th>\n",
       "      <td>0.852271</td>\n",
       "      <td>0.771119</td>\n",
       "      <td>0.768007</td>\n",
       "      <td>102774.000000</td>\n",
       "    </tr>\n",
       "  </tbody>\n",
       "</table>\n",
       "</div>"
      ],
      "text/plain": [
       "              precision    recall  f1-score        support\n",
       "0              0.999672  0.608743  0.756700   60091.000000\n",
       "1              0.644752  0.999719  0.783925   42683.000000\n",
       "accuracy       0.771119  0.771119  0.771119       0.771119\n",
       "macro avg      0.822212  0.804231  0.770312  102774.000000\n",
       "weighted avg   0.852271  0.771119  0.768007  102774.000000"
      ]
     },
     "metadata": {},
     "output_type": "display_data"
    }
   ],
   "source": [
    "temp = stateless_df[(stateless_df[\"origin\"]==\"light-attack\")\n",
    "                  | (stateless_df[\"origin\"]==\"light-benign\")]\n",
    "display(pd.DataFrame(classification_report(temp[\"attack\"], temp[\"Predictions\"], output_dict=True)).T)"
   ]
  },
  {
   "cell_type": "markdown",
   "id": "21131930",
   "metadata": {},
   "source": [
    "## Heavy-attack"
   ]
  },
  {
   "cell_type": "code",
   "execution_count": 30,
   "id": "55914699",
   "metadata": {},
   "outputs": [
    {
     "data": {
      "text/html": [
       "<div>\n",
       "<style scoped>\n",
       "    .dataframe tbody tr th:only-of-type {\n",
       "        vertical-align: middle;\n",
       "    }\n",
       "\n",
       "    .dataframe tbody tr th {\n",
       "        vertical-align: top;\n",
       "    }\n",
       "\n",
       "    .dataframe thead th {\n",
       "        text-align: right;\n",
       "    }\n",
       "</style>\n",
       "<table border=\"1\" class=\"dataframe\">\n",
       "  <thead>\n",
       "    <tr style=\"text-align: right;\">\n",
       "      <th></th>\n",
       "      <th>precision</th>\n",
       "      <th>recall</th>\n",
       "      <th>f1-score</th>\n",
       "      <th>support</th>\n",
       "    </tr>\n",
       "  </thead>\n",
       "  <tbody>\n",
       "    <tr>\n",
       "      <th>0</th>\n",
       "      <td>0.998747</td>\n",
       "      <td>0.601253</td>\n",
       "      <td>0.750624</td>\n",
       "      <td>181694.000000</td>\n",
       "    </tr>\n",
       "    <tr>\n",
       "      <th>1</th>\n",
       "      <td>0.776377</td>\n",
       "      <td>0.999456</td>\n",
       "      <td>0.873905</td>\n",
       "      <td>251670.000000</td>\n",
       "    </tr>\n",
       "    <tr>\n",
       "      <th>accuracy</th>\n",
       "      <td>0.832503</td>\n",
       "      <td>0.832503</td>\n",
       "      <td>0.832503</td>\n",
       "      <td>0.832503</td>\n",
       "    </tr>\n",
       "    <tr>\n",
       "      <th>macro avg</th>\n",
       "      <td>0.887562</td>\n",
       "      <td>0.800354</td>\n",
       "      <td>0.812265</td>\n",
       "      <td>433364.000000</td>\n",
       "    </tr>\n",
       "    <tr>\n",
       "      <th>weighted avg</th>\n",
       "      <td>0.869609</td>\n",
       "      <td>0.832503</td>\n",
       "      <td>0.822218</td>\n",
       "      <td>433364.000000</td>\n",
       "    </tr>\n",
       "  </tbody>\n",
       "</table>\n",
       "</div>"
      ],
      "text/plain": [
       "              precision    recall  f1-score        support\n",
       "0              0.998747  0.601253  0.750624  181694.000000\n",
       "1              0.776377  0.999456  0.873905  251670.000000\n",
       "accuracy       0.832503  0.832503  0.832503       0.832503\n",
       "macro avg      0.887562  0.800354  0.812265  433364.000000\n",
       "weighted avg   0.869609  0.832503  0.822218  433364.000000"
      ]
     },
     "metadata": {},
     "output_type": "display_data"
    }
   ],
   "source": [
    "temp = stateless_df[(stateless_df[\"origin\"]==\"heavy-attack\")\n",
    "                  | (stateless_df[\"origin\"]==\"heavy-benign\")]\n",
    "display(pd.DataFrame(classification_report(temp[\"attack\"], temp[\"Predictions\"], output_dict=True)).T)"
   ]
  },
  {
   "cell_type": "code",
   "execution_count": 31,
   "id": "b9cfe853",
   "metadata": {},
   "outputs": [
    {
     "data": {
      "text/plain": [
       "1    0.635498\n",
       "0    0.364502\n",
       "Name: Predictions, dtype: float64"
      ]
     },
     "execution_count": 31,
     "metadata": {},
     "output_type": "execute_result"
    }
   ],
   "source": [
    "stateless_df.Predictions.value_counts(normalize=True)"
   ]
  },
  {
   "cell_type": "markdown",
   "id": "6447bd71",
   "metadata": {},
   "source": [
    "# Stateful Model Reimplementation"
   ]
  },
  {
   "cell_type": "code",
   "execution_count": 32,
   "id": "4f93d61f",
   "metadata": {},
   "outputs": [
    {
     "data": {
      "text/plain": [
       "Index(['rr', 'A_frequency', 'NS_frequency', 'CNAME_frequency', 'SOA_frequency',\n",
       "       'NULL_frequency', 'PTR_frequency', 'HINFO_frequency', 'MX_frequency',\n",
       "       'TXT_frequency', 'AAAA_frequency', 'SRV_frequency', 'OPT_frequency',\n",
       "       'rr_type', 'rr_count', 'rr_name_entropy', 'rr_name_length',\n",
       "       'distinct_ns', 'distinct_ip', 'unique_country', 'unique_asn',\n",
       "       'distinct_domains', 'reverse_dns', 'a_records', 'unique_ttl',\n",
       "       'ttl_mean', 'ttl_variance', 'original_index', 'data_type', 'attack',\n",
       "       'origin'],\n",
       "      dtype='object')"
      ]
     },
     "execution_count": 32,
     "metadata": {},
     "output_type": "execute_result"
    }
   ],
   "source": [
    "stateful_df.columns"
   ]
  },
  {
   "cell_type": "code",
   "execution_count": 33,
   "id": "d6808653",
   "metadata": {
    "scrolled": true
   },
   "outputs": [
    {
     "name": "stdout",
     "output_type": "stream",
     "text": [
      "Train Accuracy: 0.7993790656416322\n",
      "Test Accuracy: 0.8063180786326091\n",
      "Time elapsed: 8.49\n",
      "Train Accuracy: 0.8036330859769939\n",
      "Test Accuracy: 0.7898742870223765\n",
      "Time elapsed: 8.29\n",
      "Train Accuracy: 0.7999799698594074\n",
      "Test Accuracy: 0.8033994010034147\n",
      "Time elapsed: 8.43\n",
      "Train Accuracy: 0.8006047194826501\n",
      "Test Accuracy: 0.8018923713778829\n",
      "Time elapsed: 9.35\n",
      "Train Accuracy: 0.8020497510539669\n",
      "Test Accuracy: 0.7958833292001297\n",
      "Time elapsed: 8.81\n",
      "Total time elapsed for predictions: 43.36\n"
     ]
    },
    {
     "data": {
      "image/png": "[encoded data removed]",
      "text/plain": [
       "<Figure size 432x288 with 1 Axes>"
      ]
     },
     "metadata": {},
     "output_type": "display_data"
    }
   ],
   "source": [
    "stateful_df[\"Predictions\"] = 0\n",
    "skf = StratifiedKFold(n_splits=5)\n",
    "categorical_features = [\"rr_type\", \"distinct_ip\", \"unique_country\",\n",
    "\"unique_asn\", \"distinct_domains\", \"reverse_dns\"]\n",
    "X = stateful_df[[col for col in stateful_df.columns \\\n",
    "                 if col not in [\"unique_ttl\", \"attack\", \"origin\", \"data_type\", \"original_index\"]]]\n",
    "y = stateful_df[\"attack\"]\n",
    "trained_pipes_rf = []\n",
    "categorical_transformer_pipes=[]\n",
    "accuracies = []\n",
    "total_prediction_time_stateful = 0\n",
    "\n",
    "for i, (train_index, test_index) in enumerate(skf.split(X, y)):\n",
    "    X_train, X_test = X.loc[train_index], X.loc[test_index]\n",
    "    y_train, y_test = y.loc[train_index], y.loc[test_index]\n",
    "    category_pipeline = ColumnTransformer(\n",
    "    [\n",
    "    # ('ordinal_encoder', OrdinalEncoder(handle_unknown=\"use_encoded_value\", unknown_value=-1), categorical_features),\n",
    "    ('onehot_encoder', OneHotEncoder(handle_unknown=\"ignore\"), categorical_features),\n",
    "     ('scaler', StandardScaler(), [col for col in X_train if col not in categorical_features])\n",
    "     ]\n",
    "    )\n",
    "    X_train = category_pipeline.fit_transform(X_train)\n",
    "    pipe = Pipeline([\n",
    "        ('rf', RandomForestClassifier(random_state=0))\n",
    "    ])\n",
    "    \n",
    "    pipe.fit(X_train, y_train)\n",
    "    start_fold = time.time()\n",
    "    X_test = category_pipeline.transform(X_test)\n",
    "    #print(X_test)\n",
    "    print(\"Train Accuracy:\", pipe.score(X_train, y_train))\n",
    "    print(\"Test Accuracy:\", pipe.score(X_test, y_test))\n",
    "    stateful_df.loc[test_index, 'Predictions'] = pipe.predict(X_test)\n",
    "    \n",
    "    end_fold = time.time()\n",
    "    print(f\"Time elapsed: {(end_fold - start_fold):.2f}\")\n",
    "    total_prediction_time_stateful += (end_fold - start_fold)\n",
    "    \n",
    "    trained_pipes_rf.append(pipe)\n",
    "    categorical_transformer_pipes.append(category_pipeline)\n",
    "\n",
    "print(f\"Total time elapsed for predictions: {(total_prediction_time_stateful):.2f}\")\n",
    "    \n",
    "    #display(pd.DataFrame(classification_report(y_test, pipe.predict(X_test), output_dict=True)).T)\n",
    "rf_disp = RocCurveDisplay.from_estimator(pipe, X_test, y_test)\n",
    "plt.show()    \n",
    "# get importance\n",
    "# importance = pipe[\"rf\"].coef_[0]\n",
    "\n",
    "# plt.bar([col for col in X.columns], importance)\n",
    "# plt.xticks(rotation=90)\n",
    "# plt.title(\"Feature Importance\")\n",
    "# plt.show()"
   ]
  },
  {
   "cell_type": "code",
   "execution_count": 34,
   "id": "f4b14d5e",
   "metadata": {},
   "outputs": [
    {
     "name": "stdout",
     "output_type": "stream",
     "text": [
      "Total prediction time for 757211 rows is 43.363\n",
      "Time to evaluate a single data point: 0.00005727\n"
     ]
    }
   ],
   "source": [
    "print(f\"Total prediction time for {stateless_df.shape[0]} rows is {total_prediction_time_stateful:.3f}\")\n",
    "single_datapoint_evaluation_time_stateful = total_prediction_time_stateful/stateless_df.shape[0]\n",
    "print(f\"Time to evaluate a single data point: {single_datapoint_evaluation_time_stateful:.8f}\")"
   ]
  },
  {
   "cell_type": "markdown",
   "id": "40ead34c",
   "metadata": {},
   "source": [
    "## Overall Results"
   ]
  },
  {
   "cell_type": "code",
   "execution_count": 35,
   "id": "92067025",
   "metadata": {
    "scrolled": true
   },
   "outputs": [
    {
     "data": {
      "text/html": [
       "<div>\n",
       "<style scoped>\n",
       "    .dataframe tbody tr th:only-of-type {\n",
       "        vertical-align: middle;\n",
       "    }\n",
       "\n",
       "    .dataframe tbody tr th {\n",
       "        vertical-align: top;\n",
       "    }\n",
       "\n",
       "    .dataframe thead th {\n",
       "        text-align: right;\n",
       "    }\n",
       "</style>\n",
       "<table border=\"1\" class=\"dataframe\">\n",
       "  <thead>\n",
       "    <tr style=\"text-align: right;\">\n",
       "      <th></th>\n",
       "      <th>precision</th>\n",
       "      <th>recall</th>\n",
       "      <th>f1-score</th>\n",
       "      <th>support</th>\n",
       "    </tr>\n",
       "  </thead>\n",
       "  <tbody>\n",
       "    <tr>\n",
       "      <th>0</th>\n",
       "      <td>0.992485</td>\n",
       "      <td>0.711403</td>\n",
       "      <td>0.828760</td>\n",
       "      <td>178782.000000</td>\n",
       "    </tr>\n",
       "    <tr>\n",
       "      <th>1</th>\n",
       "      <td>0.614829</td>\n",
       "      <td>0.988443</td>\n",
       "      <td>0.758104</td>\n",
       "      <td>83323.000000</td>\n",
       "    </tr>\n",
       "    <tr>\n",
       "      <th>accuracy</th>\n",
       "      <td>0.799473</td>\n",
       "      <td>0.799473</td>\n",
       "      <td>0.799473</td>\n",
       "      <td>0.799473</td>\n",
       "    </tr>\n",
       "    <tr>\n",
       "      <th>macro avg</th>\n",
       "      <td>0.803657</td>\n",
       "      <td>0.849923</td>\n",
       "      <td>0.793432</td>\n",
       "      <td>262105.000000</td>\n",
       "    </tr>\n",
       "    <tr>\n",
       "      <th>weighted avg</th>\n",
       "      <td>0.872429</td>\n",
       "      <td>0.799473</td>\n",
       "      <td>0.806298</td>\n",
       "      <td>262105.000000</td>\n",
       "    </tr>\n",
       "  </tbody>\n",
       "</table>\n",
       "</div>"
      ],
      "text/plain": [
       "              precision    recall  f1-score        support\n",
       "0              0.992485  0.711403  0.828760  178782.000000\n",
       "1              0.614829  0.988443  0.758104   83323.000000\n",
       "accuracy       0.799473  0.799473  0.799473       0.799473\n",
       "macro avg      0.803657  0.849923  0.793432  262105.000000\n",
       "weighted avg   0.872429  0.799473  0.806298  262105.000000"
      ]
     },
     "metadata": {},
     "output_type": "display_data"
    }
   ],
   "source": [
    "display(pd.DataFrame(classification_report(stateful_df[\"attack\"], stateful_df[\"Predictions\"], output_dict=True)).T)"
   ]
  },
  {
   "cell_type": "markdown",
   "id": "ab5f7768",
   "metadata": {},
   "source": [
    "## Light Attack Results"
   ]
  },
  {
   "cell_type": "code",
   "execution_count": 36,
   "id": "ec5a393e",
   "metadata": {},
   "outputs": [
    {
     "data": {
      "text/html": [
       "<div>\n",
       "<style scoped>\n",
       "    .dataframe tbody tr th:only-of-type {\n",
       "        vertical-align: middle;\n",
       "    }\n",
       "\n",
       "    .dataframe tbody tr th {\n",
       "        vertical-align: top;\n",
       "    }\n",
       "\n",
       "    .dataframe thead th {\n",
       "        text-align: right;\n",
       "    }\n",
       "</style>\n",
       "<table border=\"1\" class=\"dataframe\">\n",
       "  <thead>\n",
       "    <tr style=\"text-align: right;\">\n",
       "      <th></th>\n",
       "      <th>precision</th>\n",
       "      <th>recall</th>\n",
       "      <th>f1-score</th>\n",
       "      <th>support</th>\n",
       "    </tr>\n",
       "  </thead>\n",
       "  <tbody>\n",
       "    <tr>\n",
       "      <th>0</th>\n",
       "      <td>0.988495</td>\n",
       "      <td>0.713194</td>\n",
       "      <td>0.828575</td>\n",
       "      <td>22768.000000</td>\n",
       "    </tr>\n",
       "    <tr>\n",
       "      <th>1</th>\n",
       "      <td>0.629735</td>\n",
       "      <td>0.983267</td>\n",
       "      <td>0.767758</td>\n",
       "      <td>11295.000000</td>\n",
       "    </tr>\n",
       "    <tr>\n",
       "      <th>accuracy</th>\n",
       "      <td>0.802748</td>\n",
       "      <td>0.802748</td>\n",
       "      <td>0.802748</td>\n",
       "      <td>0.802748</td>\n",
       "    </tr>\n",
       "    <tr>\n",
       "      <th>macro avg</th>\n",
       "      <td>0.809115</td>\n",
       "      <td>0.848230</td>\n",
       "      <td>0.798166</td>\n",
       "      <td>34063.000000</td>\n",
       "    </tr>\n",
       "    <tr>\n",
       "      <th>weighted avg</th>\n",
       "      <td>0.869533</td>\n",
       "      <td>0.802748</td>\n",
       "      <td>0.808409</td>\n",
       "      <td>34063.000000</td>\n",
       "    </tr>\n",
       "  </tbody>\n",
       "</table>\n",
       "</div>"
      ],
      "text/plain": [
       "              precision    recall  f1-score       support\n",
       "0              0.988495  0.713194  0.828575  22768.000000\n",
       "1              0.629735  0.983267  0.767758  11295.000000\n",
       "accuracy       0.802748  0.802748  0.802748      0.802748\n",
       "macro avg      0.809115  0.848230  0.798166  34063.000000\n",
       "weighted avg   0.869533  0.802748  0.808409  34063.000000"
      ]
     },
     "metadata": {},
     "output_type": "display_data"
    }
   ],
   "source": [
    "temp = stateful_df[(stateful_df[\"origin\"]==\"light-attack\")\n",
    "                  | (stateful_df[\"origin\"]==\"light-benign\")]\n",
    "display(pd.DataFrame(classification_report(temp[\"attack\"], temp[\"Predictions\"], output_dict=True)).T)"
   ]
  },
  {
   "cell_type": "markdown",
   "id": "f82ed112",
   "metadata": {},
   "source": [
    "## Heavy Attack Results"
   ]
  },
  {
   "cell_type": "code",
   "execution_count": 37,
   "id": "a6b527af",
   "metadata": {},
   "outputs": [
    {
     "data": {
      "text/html": [
       "<div>\n",
       "<style scoped>\n",
       "    .dataframe tbody tr th:only-of-type {\n",
       "        vertical-align: middle;\n",
       "    }\n",
       "\n",
       "    .dataframe tbody tr th {\n",
       "        vertical-align: top;\n",
       "    }\n",
       "\n",
       "    .dataframe thead th {\n",
       "        text-align: right;\n",
       "    }\n",
       "</style>\n",
       "<table border=\"1\" class=\"dataframe\">\n",
       "  <thead>\n",
       "    <tr style=\"text-align: right;\">\n",
       "      <th></th>\n",
       "      <th>precision</th>\n",
       "      <th>recall</th>\n",
       "      <th>f1-score</th>\n",
       "      <th>support</th>\n",
       "    </tr>\n",
       "  </thead>\n",
       "  <tbody>\n",
       "    <tr>\n",
       "      <th>0</th>\n",
       "      <td>0.984461</td>\n",
       "      <td>0.710487</td>\n",
       "      <td>0.825331</td>\n",
       "      <td>69016.000000</td>\n",
       "    </tr>\n",
       "    <tr>\n",
       "      <th>1</th>\n",
       "      <td>0.780994</td>\n",
       "      <td>0.989254</td>\n",
       "      <td>0.872874</td>\n",
       "      <td>72028.000000</td>\n",
       "    </tr>\n",
       "    <tr>\n",
       "      <th>accuracy</th>\n",
       "      <td>0.852847</td>\n",
       "      <td>0.852847</td>\n",
       "      <td>0.852847</td>\n",
       "      <td>0.852847</td>\n",
       "    </tr>\n",
       "    <tr>\n",
       "      <th>macro avg</th>\n",
       "      <td>0.882727</td>\n",
       "      <td>0.849871</td>\n",
       "      <td>0.849103</td>\n",
       "      <td>141044.000000</td>\n",
       "    </tr>\n",
       "    <tr>\n",
       "      <th>weighted avg</th>\n",
       "      <td>0.880555</td>\n",
       "      <td>0.852847</td>\n",
       "      <td>0.849610</td>\n",
       "      <td>141044.000000</td>\n",
       "    </tr>\n",
       "  </tbody>\n",
       "</table>\n",
       "</div>"
      ],
      "text/plain": [
       "              precision    recall  f1-score        support\n",
       "0              0.984461  0.710487  0.825331   69016.000000\n",
       "1              0.780994  0.989254  0.872874   72028.000000\n",
       "accuracy       0.852847  0.852847  0.852847       0.852847\n",
       "macro avg      0.882727  0.849871  0.849103  141044.000000\n",
       "weighted avg   0.880555  0.852847  0.849610  141044.000000"
      ]
     },
     "metadata": {},
     "output_type": "display_data"
    }
   ],
   "source": [
    "temp = stateful_df[(stateful_df[\"origin\"]==\"heavy-attack\")\n",
    "                  | (stateful_df[\"origin\"]==\"heavy-benign\")]\n",
    "display(pd.DataFrame(classification_report(temp[\"attack\"], temp[\"Predictions\"], output_dict=True)).T)"
   ]
  },
  {
   "cell_type": "code",
   "execution_count": 38,
   "id": "388e1f2c",
   "metadata": {},
   "outputs": [
    {
     "data": {
      "text/plain": [
       "only-benign     86998\n",
       "heavy-attack    72028\n",
       "heavy-benign    69016\n",
       "light-benign    22768\n",
       "light-attack    11295\n",
       "Name: origin, dtype: int64"
      ]
     },
     "execution_count": 38,
     "metadata": {},
     "output_type": "execute_result"
    }
   ],
   "source": [
    "stateful_df.origin.value_counts()"
   ]
  },
  {
   "cell_type": "code",
   "execution_count": null,
   "id": "5c8a1ac3",
   "metadata": {},
   "outputs": [],
   "source": []
  },
  {
   "cell_type": "markdown",
   "id": "7cd288aa",
   "metadata": {},
   "source": [
    "## TWO STEP MODEL"
   ]
  },
  {
   "cell_type": "code",
   "execution_count": 39,
   "id": "be315f51",
   "metadata": {},
   "outputs": [],
   "source": [
    "WINDOW_SIZE=100\n",
    "SUSPICIOUS_THRESHOLD = 0.4\n",
    "ATTACK_THRESHOLD = 0.7"
   ]
  },
  {
   "cell_type": "code",
   "execution_count": 40,
   "id": "ad5230ab",
   "metadata": {},
   "outputs": [],
   "source": [
    "def two_step(stateless_df, stateful_df, is_light=True):\n",
    "    estimated_time = 0\n",
    "       \n",
    "    if is_light:\n",
    "        light_or_heavy_string = \"light\"\n",
    "    else:\n",
    "        light_or_heavy_string = \"heavy\"\n",
    "        \n",
    "    stateless_df_subset = stateless_df[stateless_df.origin.isin([light_or_heavy_string+\"-benign\", light_or_heavy_string+\"-attack\"])].reset_index()\n",
    "    stateless_df_subset[\"Final_two_step_prediction\"] = stateless_df_subset[\"Predictions\"]\n",
    "    stateful_df_subset = stateful_df[stateful_df.origin.isin([light_or_heavy_string+\"-benign\", light_or_heavy_string+\"-attack\"])].reset_index()\n",
    "    stateful_df_subset[\"Final_two_step_prediction\"] = stateful_df_subset[\"Predictions\"] \n",
    "    stateful_df_subset['unique_ttl'] = stateful_df_subset['unique_ttl'].apply(ast.literal_eval)\n",
    "    stateful_df_subset = stateful_df_subset.explode(\"unique_ttl\")\n",
    "\n",
    "    time_windows = []\n",
    "    attack_ratios = []\n",
    "\n",
    "    for i in range(0, stateless_df_subset.shape[0], WINDOW_SIZE):\n",
    "        current_data = stateless_df_subset.iloc[i:i+WINDOW_SIZE]\n",
    "        attack_ratio = (current_data[current_data[\"Predictions\"]==1].shape[0]/current_data.shape[0])\n",
    "        time_windows.append(i)\n",
    "        attack_ratios.append(attack_ratio)\n",
    "        estimated_time += (single_datapoint_evaluation_time_stateless * WINDOW_SIZE)\n",
    "        if attack_ratio >= ATTACK_THRESHOLD:\n",
    "            stateless_df_subset.loc[[i for i in range(i, min(i+WINDOW_SIZE, stateless_df_subset.shape[0]))], 'Final_two_step_prediction'] = 1\n",
    "        elif attack_ratio < SUSPICIOUS_THRESHOLD:\n",
    "            stateless_df_subset.loc[[i for i in range(i, min(i+WINDOW_SIZE, stateless_df_subset.shape[0]))], 'Final_two_step_prediction'] = 0\n",
    "        else:\n",
    "            estimated_time += (single_datapoint_evaluation_time_stateful * WINDOW_SIZE)\n",
    "            stateful_data_window = stateful_df_subset.iloc[i:i+WINDOW_SIZE]\n",
    "            stateful_attack_ratio = (stateful_data_window[stateful_data_window[\"Predictions\"]==1].shape[0]/stateful_data_window.shape[0])\n",
    "            if stateful_attack_ratio >= 0.5:\n",
    "                stateless_df_subset.loc[[i for i in range(i, min(i+WINDOW_SIZE, stateless_df_subset.shape[0]))], 'Final_two_step_prediction'] = 1\n",
    "            elif stateful_attack_ratio < 0.5:\n",
    "                stateless_df_subset.loc[[i for i in range(i, min(i+WINDOW_SIZE, stateless_df_subset.shape[0]))], 'Final_two_step_prediction'] = 0\n",
    "\n",
    "    plt.plot(time_windows, attack_ratios)\n",
    "    plt.title(\"Stateless attack ratio over the 100-datapoint windows\")\n",
    "    plt.show()\n",
    "    display(pd.DataFrame(classification_report(stateless_df_subset[\"attack\"], stateless_df_subset[\"Final_two_step_prediction\"], output_dict=True)).T)\n",
    "    print(\"Total Estimated Time: \", estimated_time)\n",
    "    "
   ]
  },
  {
   "cell_type": "markdown",
   "id": "686ed544",
   "metadata": {},
   "source": [
    "### LIGHT ATTACK"
   ]
  },
  {
   "cell_type": "code",
   "execution_count": 41,
   "id": "1bbb4e62",
   "metadata": {},
   "outputs": [
    {
     "data": {
      "image/png": "[encoded data removed]",
      "text/plain": [
       "<Figure size 432x288 with 1 Axes>"
      ]
     },
     "metadata": {},
     "output_type": "display_data"
    },
    {
     "data": {
      "text/html": [
       "<div>\n",
       "<style scoped>\n",
       "    .dataframe tbody tr th:only-of-type {\n",
       "        vertical-align: middle;\n",
       "    }\n",
       "\n",
       "    .dataframe tbody tr th {\n",
       "        vertical-align: top;\n",
       "    }\n",
       "\n",
       "    .dataframe thead th {\n",
       "        text-align: right;\n",
       "    }\n",
       "</style>\n",
       "<table border=\"1\" class=\"dataframe\">\n",
       "  <thead>\n",
       "    <tr style=\"text-align: right;\">\n",
       "      <th></th>\n",
       "      <th>precision</th>\n",
       "      <th>recall</th>\n",
       "      <th>f1-score</th>\n",
       "      <th>support</th>\n",
       "    </tr>\n",
       "  </thead>\n",
       "  <tbody>\n",
       "    <tr>\n",
       "      <th>0</th>\n",
       "      <td>1.000000</td>\n",
       "      <td>0.948561</td>\n",
       "      <td>0.973602</td>\n",
       "      <td>60091.000000</td>\n",
       "    </tr>\n",
       "    <tr>\n",
       "      <th>1</th>\n",
       "      <td>0.932473</td>\n",
       "      <td>1.000000</td>\n",
       "      <td>0.965056</td>\n",
       "      <td>42683.000000</td>\n",
       "    </tr>\n",
       "    <tr>\n",
       "      <th>accuracy</th>\n",
       "      <td>0.969924</td>\n",
       "      <td>0.969924</td>\n",
       "      <td>0.969924</td>\n",
       "      <td>0.969924</td>\n",
       "    </tr>\n",
       "    <tr>\n",
       "      <th>macro avg</th>\n",
       "      <td>0.966236</td>\n",
       "      <td>0.974281</td>\n",
       "      <td>0.969329</td>\n",
       "      <td>102774.000000</td>\n",
       "    </tr>\n",
       "    <tr>\n",
       "      <th>weighted avg</th>\n",
       "      <td>0.971955</td>\n",
       "      <td>0.969924</td>\n",
       "      <td>0.970053</td>\n",
       "      <td>102774.000000</td>\n",
       "    </tr>\n",
       "  </tbody>\n",
       "</table>\n",
       "</div>"
      ],
      "text/plain": [
       "              precision    recall  f1-score        support\n",
       "0              1.000000  0.948561  0.973602   60091.000000\n",
       "1              0.932473  1.000000  0.965056   42683.000000\n",
       "accuracy       0.969924  0.969924  0.969924       0.969924\n",
       "macro avg      0.966236  0.974281  0.969329  102774.000000\n",
       "weighted avg   0.971955  0.969924  0.970053  102774.000000"
      ]
     },
     "metadata": {},
     "output_type": "display_data"
    },
    {
     "name": "stdout",
     "output_type": "stream",
     "text": [
      "Total Estimated Time:  27.92694032414174\n"
     ]
    }
   ],
   "source": [
    "two_step(stateless_df, stateful_df, is_light=True)"
   ]
  },
  {
   "cell_type": "markdown",
   "id": "b059f384",
   "metadata": {},
   "source": [
    "### HEAVY ATTACK"
   ]
  },
  {
   "cell_type": "code",
   "execution_count": 42,
   "id": "030d58b9",
   "metadata": {},
   "outputs": [
    {
     "data": {
      "image/png": "[encoded data removed]",
      "text/plain": [
       "<Figure size 432x288 with 1 Axes>"
      ]
     },
     "metadata": {},
     "output_type": "display_data"
    },
    {
     "data": {
      "text/html": [
       "<div>\n",
       "<style scoped>\n",
       "    .dataframe tbody tr th:only-of-type {\n",
       "        vertical-align: middle;\n",
       "    }\n",
       "\n",
       "    .dataframe tbody tr th {\n",
       "        vertical-align: top;\n",
       "    }\n",
       "\n",
       "    .dataframe thead th {\n",
       "        text-align: right;\n",
       "    }\n",
       "</style>\n",
       "<table border=\"1\" class=\"dataframe\">\n",
       "  <thead>\n",
       "    <tr style=\"text-align: right;\">\n",
       "      <th></th>\n",
       "      <th>precision</th>\n",
       "      <th>recall</th>\n",
       "      <th>f1-score</th>\n",
       "      <th>support</th>\n",
       "    </tr>\n",
       "  </thead>\n",
       "  <tbody>\n",
       "    <tr>\n",
       "      <th>0</th>\n",
       "      <td>1.000000</td>\n",
       "      <td>0.939492</td>\n",
       "      <td>0.968802</td>\n",
       "      <td>181694.000000</td>\n",
       "    </tr>\n",
       "    <tr>\n",
       "      <th>1</th>\n",
       "      <td>0.958144</td>\n",
       "      <td>1.000000</td>\n",
       "      <td>0.978625</td>\n",
       "      <td>251670.000000</td>\n",
       "    </tr>\n",
       "    <tr>\n",
       "      <th>accuracy</th>\n",
       "      <td>0.974631</td>\n",
       "      <td>0.974631</td>\n",
       "      <td>0.974631</td>\n",
       "      <td>0.974631</td>\n",
       "    </tr>\n",
       "    <tr>\n",
       "      <th>macro avg</th>\n",
       "      <td>0.979072</td>\n",
       "      <td>0.969746</td>\n",
       "      <td>0.973713</td>\n",
       "      <td>433364.000000</td>\n",
       "    </tr>\n",
       "    <tr>\n",
       "      <th>weighted avg</th>\n",
       "      <td>0.975693</td>\n",
       "      <td>0.974631</td>\n",
       "      <td>0.974506</td>\n",
       "      <td>433364.000000</td>\n",
       "    </tr>\n",
       "  </tbody>\n",
       "</table>\n",
       "</div>"
      ],
      "text/plain": [
       "              precision    recall  f1-score        support\n",
       "0              1.000000  0.939492  0.968802  181694.000000\n",
       "1              0.958144  1.000000  0.978625  251670.000000\n",
       "accuracy       0.974631  0.974631  0.974631       0.974631\n",
       "macro avg      0.979072  0.969746  0.973713  433364.000000\n",
       "weighted avg   0.975693  0.974631  0.974506  433364.000000"
      ]
     },
     "metadata": {},
     "output_type": "display_data"
    },
    {
     "name": "stdout",
     "output_type": "stream",
     "text": [
      "Total Estimated Time:  115.35244346571805\n"
     ]
    }
   ],
   "source": [
    "two_step(stateless_df, stateful_df, is_light=False)"
   ]
  },
  {
   "cell_type": "markdown",
   "id": "791883e6",
   "metadata": {},
   "source": [
    "# Saving the stateless and stateful models by training on all the data, in order to evaluate on the robustness queries:"
   ]
  },
  {
   "cell_type": "markdown",
   "id": "25f3471e",
   "metadata": {},
   "source": [
    "## Stateless"
   ]
  },
  {
   "cell_type": "code",
   "execution_count": 68,
   "id": "dd4721c8",
   "metadata": {},
   "outputs": [
    {
     "data": {
      "text/plain": [
       "['rf_baseline_model.pkl']"
      ]
     },
     "execution_count": 68,
     "metadata": {},
     "output_type": "execute_result"
    }
   ],
   "source": [
    "\n",
    "\n",
    "\n",
    "X = stateless_df[[col for col in stateless_df.columns if col not in [\"timestamp\", \"attack\", \"origin\", \"data_type\", \"original_index\", \"Predictions\"]]]\n",
    "y = stateless_df[\"attack\"]\n",
    "\n",
    "# Debug\n",
    "#X = X[[col for col in X.columns if col not in [\"longest_word\", \"sld\"] ]]\n",
    "\n",
    "category_pipeline = ColumnTransformer(\n",
    "[\n",
    " #('ordinal_encoder', OrdinalEncoder(handle_unknown=\"use_encoded_value\", unknown_value=-1), [\"longest_word\", \"sld\"]),\n",
    "    ('onehot_encoder', OneHotEncoder(handle_unknown=\"ignore\"), [\"longest_word\", \"sld\"]),\n",
    " ('scaler', StandardScaler(), [col for col in X if col not in [\"longest_word\", \"sld\"]])\n",
    " ]\n",
    ")\n",
    "\n",
    "pipe = Pipeline([\n",
    "        ('rf', RandomForestClassifier(random_state=0))\n",
    " ]) \n",
    "pipe.fit(category_pipeline.fit_transform(X), y)\n",
    "#pipe.fit(X, y)\n",
    "joblib.dump(category_pipeline, \"rf_baseline_column_transformer.pkl\")\n",
    "joblib.dump(pipe, 'rf_baseline_model.pkl')\n",
    "\n"
   ]
  },
  {
   "cell_type": "code",
   "execution_count": 67,
   "id": "00ccf3a6",
   "metadata": {},
   "outputs": [
    {
     "data": {
      "text/plain": [
       "Index(['FQDN_count', 'subdomain_length', 'upper', 'lower', 'numeric',\n",
       "       'entropy', 'special', 'labels', 'labels_max', 'labels_average', 'len',\n",
       "       'subdomain'],\n",
       "      dtype='object')"
      ]
     },
     "execution_count": 67,
     "metadata": {},
     "output_type": "execute_result"
    }
   ],
   "source": [
    "X.columns"
   ]
  },
  {
   "cell_type": "code",
   "execution_count": 63,
   "id": "769dc77b",
   "metadata": {},
   "outputs": [
    {
     "data": {
      "text/plain": [
       "0.3887331272260968"
      ]
     },
     "execution_count": 63,
     "metadata": {},
     "output_type": "execute_result"
    }
   ],
   "source": [
    "sum(y)/y.shape[0]"
   ]
  },
  {
   "cell_type": "code",
   "execution_count": 64,
   "id": "8e118324",
   "metadata": {},
   "outputs": [
    {
     "data": {
      "text/plain": [
       "0    0.611267\n",
       "1    0.388733\n",
       "Name: attack, dtype: float64"
      ]
     },
     "execution_count": 64,
     "metadata": {},
     "output_type": "execute_result"
    }
   ],
   "source": [
    "stateless_df[\"attack\"].value_counts(normalize=True)"
   ]
  },
  {
   "cell_type": "code",
   "execution_count": 66,
   "id": "a20c5e24",
   "metadata": {},
   "outputs": [
    {
     "data": {
      "text/plain": [
       "0.6354833725342077"
      ]
     },
     "execution_count": 66,
     "metadata": {},
     "output_type": "execute_result"
    }
   ],
   "source": [
    "pipe.predict((X)).sum()/X.shape[0]"
   ]
  },
  {
   "cell_type": "code",
   "execution_count": 56,
   "id": "77f8cbe4",
   "metadata": {},
   "outputs": [
    {
     "data": {
      "image/png": "[encoded data removed]",
      "text/plain": [
       "<Figure size 432x288 with 1 Axes>"
      ]
     },
     "metadata": {},
     "output_type": "display_data"
    }
   ],
   "source": [
    "importance = pipe[\"rf\"].feature_importances_\n",
    "\n",
    "# plot feature importance\n",
    "plt.title(\"Feature Importance\")\n",
    "plt.bar(X.columns, importance)\n",
    "plt.xticks(rotation=90)\n",
    "plt.show()    "
   ]
  },
  {
   "cell_type": "code",
   "execution_count": null,
   "id": "04ec86e3",
   "metadata": {},
   "outputs": [],
   "source": []
  }
 ],
 "metadata": {
  "kernelspec": {
   "display_name": "Python 3 (ipykernel)",
   "language": "python",
   "name": "python3"
  },
  "language_info": {
   "codemirror_mode": {
    "name": "ipython",
    "version": 3
   },
   "file_extension": ".py",
   "mimetype": "text/x-python",
   "name": "python",
   "nbconvert_exporter": "python",
   "pygments_lexer": "ipython3",
   "version": "3.10.4"
  }
 },
 "nbformat": 4,
 "nbformat_minor": 5
}
