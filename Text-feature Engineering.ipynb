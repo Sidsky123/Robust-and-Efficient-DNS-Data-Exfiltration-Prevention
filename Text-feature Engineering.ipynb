{
 "cells": [
  {
   "cell_type": "code",
   "execution_count": 1,
   "id": "1f7b3acf",
   "metadata": {},
   "outputs": [],
   "source": [
    "import pandas as pd\n",
    "import matplotlib.pyplot as plt\n",
    "import seaborn as sns\n",
    "import time\n",
    "import ast\n",
    "from sklearn.model_selection import StratifiedKFold\n",
    "from sklearn.compose import ColumnTransformer\n",
    "from sklearn.preprocessing import OrdinalEncoder, StandardScaler\n",
    "from sklearn.metrics import classification_report, RocCurveDisplay\n",
    "from sklearn.feature_selection import SelectKBest, f_classif\n",
    "from sklearn.linear_model import LogisticRegression\n",
    "from sklearn.ensemble import RandomForestClassifier\n",
    "from sklearn.pipeline import Pipeline\n",
    "from statistics import mean\n",
    "import joblib\n",
    "from utils import *\n",
    "sns.set_theme()"
   ]
  },
  {
   "cell_type": "code",
   "execution_count": 2,
   "id": "2e3cd4f2",
   "metadata": {},
   "outputs": [],
   "source": [
    "stateless_df = pd.read_csv(\"Data/Prepared Data/stateless.csv\")\n",
    "stateless_df = stateless_df.fillna(\"\")"
   ]
  },
  {
   "cell_type": "markdown",
   "id": "85b82180",
   "metadata": {},
   "source": [
    "## Building Text Features"
   ]
  },
  {
   "cell_type": "code",
   "execution_count": null,
   "id": "284d7e5b",
   "metadata": {},
   "outputs": [],
   "source": []
  },
  {
   "cell_type": "code",
   "execution_count": 3,
   "id": "64fc8469",
   "metadata": {},
   "outputs": [
    {
     "data": {
      "text/html": [
       "<div>\n",
       "<style scoped>\n",
       "    .dataframe tbody tr th:only-of-type {\n",
       "        vertical-align: middle;\n",
       "    }\n",
       "\n",
       "    .dataframe tbody tr th {\n",
       "        vertical-align: top;\n",
       "    }\n",
       "\n",
       "    .dataframe thead th {\n",
       "        text-align: right;\n",
       "    }\n",
       "</style>\n",
       "<table border=\"1\" class=\"dataframe\">\n",
       "  <thead>\n",
       "    <tr style=\"text-align: right;\">\n",
       "      <th></th>\n",
       "      <th>timestamp</th>\n",
       "      <th>FQDN_count</th>\n",
       "      <th>subdomain_length</th>\n",
       "      <th>upper</th>\n",
       "      <th>lower</th>\n",
       "      <th>numeric</th>\n",
       "      <th>entropy</th>\n",
       "      <th>special</th>\n",
       "      <th>labels</th>\n",
       "      <th>labels_max</th>\n",
       "      <th>...</th>\n",
       "      <th>origin</th>\n",
       "      <th>sld_three_char</th>\n",
       "      <th>longest_word_islower</th>\n",
       "      <th>longest_word_isupper</th>\n",
       "      <th>longest_word_isnumeric</th>\n",
       "      <th>longest_word_isalnum</th>\n",
       "      <th>sld_islower</th>\n",
       "      <th>sld_isupper</th>\n",
       "      <th>sld_isnumeric</th>\n",
       "      <th>sld_isalnum</th>\n",
       "    </tr>\n",
       "  </thead>\n",
       "  <tbody>\n",
       "    <tr>\n",
       "      <th>0</th>\n",
       "      <td>2020-11-20 13:58:38.988039</td>\n",
       "      <td>26</td>\n",
       "      <td>9</td>\n",
       "      <td>0</td>\n",
       "      <td>10</td>\n",
       "      <td>10</td>\n",
       "      <td>2.742338</td>\n",
       "      <td>6</td>\n",
       "      <td>6</td>\n",
       "      <td>7</td>\n",
       "      <td>...</td>\n",
       "      <td>only-benign</td>\n",
       "      <td>192</td>\n",
       "      <td>False</td>\n",
       "      <td>False</td>\n",
       "      <td>True</td>\n",
       "      <td>True</td>\n",
       "      <td>False</td>\n",
       "      <td>False</td>\n",
       "      <td>True</td>\n",
       "      <td>True</td>\n",
       "    </tr>\n",
       "    <tr>\n",
       "      <th>1</th>\n",
       "      <td>2020-11-20 13:58:39.398160</td>\n",
       "      <td>26</td>\n",
       "      <td>9</td>\n",
       "      <td>0</td>\n",
       "      <td>10</td>\n",
       "      <td>10</td>\n",
       "      <td>2.742338</td>\n",
       "      <td>6</td>\n",
       "      <td>6</td>\n",
       "      <td>7</td>\n",
       "      <td>...</td>\n",
       "      <td>only-benign</td>\n",
       "      <td>192</td>\n",
       "      <td>False</td>\n",
       "      <td>False</td>\n",
       "      <td>True</td>\n",
       "      <td>True</td>\n",
       "      <td>False</td>\n",
       "      <td>False</td>\n",
       "      <td>True</td>\n",
       "      <td>True</td>\n",
       "    </tr>\n",
       "    <tr>\n",
       "      <th>2</th>\n",
       "      <td>2020-11-20 13:58:39.990691</td>\n",
       "      <td>27</td>\n",
       "      <td>10</td>\n",
       "      <td>0</td>\n",
       "      <td>10</td>\n",
       "      <td>11</td>\n",
       "      <td>2.767195</td>\n",
       "      <td>6</td>\n",
       "      <td>6</td>\n",
       "      <td>7</td>\n",
       "      <td>...</td>\n",
       "      <td>only-benign</td>\n",
       "      <td>192</td>\n",
       "      <td>False</td>\n",
       "      <td>False</td>\n",
       "      <td>True</td>\n",
       "      <td>True</td>\n",
       "      <td>False</td>\n",
       "      <td>False</td>\n",
       "      <td>True</td>\n",
       "      <td>True</td>\n",
       "    </tr>\n",
       "    <tr>\n",
       "      <th>3</th>\n",
       "      <td>2020-11-20 13:58:40.400893</td>\n",
       "      <td>27</td>\n",
       "      <td>10</td>\n",
       "      <td>0</td>\n",
       "      <td>10</td>\n",
       "      <td>11</td>\n",
       "      <td>2.767195</td>\n",
       "      <td>6</td>\n",
       "      <td>6</td>\n",
       "      <td>7</td>\n",
       "      <td>...</td>\n",
       "      <td>only-benign</td>\n",
       "      <td>192</td>\n",
       "      <td>False</td>\n",
       "      <td>False</td>\n",
       "      <td>True</td>\n",
       "      <td>True</td>\n",
       "      <td>False</td>\n",
       "      <td>False</td>\n",
       "      <td>True</td>\n",
       "      <td>True</td>\n",
       "    </tr>\n",
       "    <tr>\n",
       "      <th>4</th>\n",
       "      <td>2020-11-20 13:58:41.636293</td>\n",
       "      <td>24</td>\n",
       "      <td>7</td>\n",
       "      <td>0</td>\n",
       "      <td>10</td>\n",
       "      <td>8</td>\n",
       "      <td>2.054029</td>\n",
       "      <td>6</td>\n",
       "      <td>6</td>\n",
       "      <td>7</td>\n",
       "      <td>...</td>\n",
       "      <td>only-benign</td>\n",
       "      <td>224</td>\n",
       "      <td>False</td>\n",
       "      <td>False</td>\n",
       "      <td>True</td>\n",
       "      <td>True</td>\n",
       "      <td>False</td>\n",
       "      <td>False</td>\n",
       "      <td>True</td>\n",
       "      <td>True</td>\n",
       "    </tr>\n",
       "    <tr>\n",
       "      <th>...</th>\n",
       "      <td>...</td>\n",
       "      <td>...</td>\n",
       "      <td>...</td>\n",
       "      <td>...</td>\n",
       "      <td>...</td>\n",
       "      <td>...</td>\n",
       "      <td>...</td>\n",
       "      <td>...</td>\n",
       "      <td>...</td>\n",
       "      <td>...</td>\n",
       "      <td>...</td>\n",
       "      <td>...</td>\n",
       "      <td>...</td>\n",
       "      <td>...</td>\n",
       "      <td>...</td>\n",
       "      <td>...</td>\n",
       "      <td>...</td>\n",
       "      <td>...</td>\n",
       "      <td>...</td>\n",
       "      <td>...</td>\n",
       "      <td>...</td>\n",
       "    </tr>\n",
       "    <tr>\n",
       "      <th>757206</th>\n",
       "      <td>2020-11-24 23:16:24.708760</td>\n",
       "      <td>24</td>\n",
       "      <td>7</td>\n",
       "      <td>0</td>\n",
       "      <td>10</td>\n",
       "      <td>8</td>\n",
       "      <td>2.054029</td>\n",
       "      <td>6</td>\n",
       "      <td>6</td>\n",
       "      <td>7</td>\n",
       "      <td>...</td>\n",
       "      <td>heavy-attack</td>\n",
       "      <td>224</td>\n",
       "      <td>False</td>\n",
       "      <td>False</td>\n",
       "      <td>True</td>\n",
       "      <td>True</td>\n",
       "      <td>False</td>\n",
       "      <td>False</td>\n",
       "      <td>True</td>\n",
       "      <td>True</td>\n",
       "    </tr>\n",
       "    <tr>\n",
       "      <th>757207</th>\n",
       "      <td>2020-11-24 23:16:25.121017</td>\n",
       "      <td>27</td>\n",
       "      <td>10</td>\n",
       "      <td>0</td>\n",
       "      <td>10</td>\n",
       "      <td>11</td>\n",
       "      <td>2.570417</td>\n",
       "      <td>6</td>\n",
       "      <td>6</td>\n",
       "      <td>7</td>\n",
       "      <td>...</td>\n",
       "      <td>heavy-attack</td>\n",
       "      <td>192</td>\n",
       "      <td>False</td>\n",
       "      <td>False</td>\n",
       "      <td>True</td>\n",
       "      <td>True</td>\n",
       "      <td>False</td>\n",
       "      <td>False</td>\n",
       "      <td>True</td>\n",
       "      <td>True</td>\n",
       "    </tr>\n",
       "    <tr>\n",
       "      <th>757208</th>\n",
       "      <td>2020-11-24 23:16:25.531377</td>\n",
       "      <td>27</td>\n",
       "      <td>10</td>\n",
       "      <td>0</td>\n",
       "      <td>10</td>\n",
       "      <td>11</td>\n",
       "      <td>2.570417</td>\n",
       "      <td>6</td>\n",
       "      <td>6</td>\n",
       "      <td>7</td>\n",
       "      <td>...</td>\n",
       "      <td>heavy-attack</td>\n",
       "      <td>192</td>\n",
       "      <td>False</td>\n",
       "      <td>False</td>\n",
       "      <td>True</td>\n",
       "      <td>True</td>\n",
       "      <td>False</td>\n",
       "      <td>False</td>\n",
       "      <td>True</td>\n",
       "      <td>True</td>\n",
       "    </tr>\n",
       "    <tr>\n",
       "      <th>757209</th>\n",
       "      <td>2020-11-24 23:16:25.943739</td>\n",
       "      <td>27</td>\n",
       "      <td>10</td>\n",
       "      <td>0</td>\n",
       "      <td>10</td>\n",
       "      <td>11</td>\n",
       "      <td>2.570417</td>\n",
       "      <td>6</td>\n",
       "      <td>6</td>\n",
       "      <td>7</td>\n",
       "      <td>...</td>\n",
       "      <td>heavy-attack</td>\n",
       "      <td>192</td>\n",
       "      <td>False</td>\n",
       "      <td>False</td>\n",
       "      <td>True</td>\n",
       "      <td>True</td>\n",
       "      <td>False</td>\n",
       "      <td>False</td>\n",
       "      <td>True</td>\n",
       "      <td>True</td>\n",
       "    </tr>\n",
       "    <tr>\n",
       "      <th>757210</th>\n",
       "      <td>2020-11-24 23:16:26.353886</td>\n",
       "      <td>27</td>\n",
       "      <td>10</td>\n",
       "      <td>0</td>\n",
       "      <td>10</td>\n",
       "      <td>11</td>\n",
       "      <td>2.570417</td>\n",
       "      <td>6</td>\n",
       "      <td>6</td>\n",
       "      <td>7</td>\n",
       "      <td>...</td>\n",
       "      <td>heavy-attack</td>\n",
       "      <td>192</td>\n",
       "      <td>False</td>\n",
       "      <td>False</td>\n",
       "      <td>True</td>\n",
       "      <td>True</td>\n",
       "      <td>False</td>\n",
       "      <td>False</td>\n",
       "      <td>True</td>\n",
       "      <td>True</td>\n",
       "    </tr>\n",
       "  </tbody>\n",
       "</table>\n",
       "<p>757211 rows × 28 columns</p>\n",
       "</div>"
      ],
      "text/plain": [
       "                         timestamp  FQDN_count  subdomain_length  upper  \\\n",
       "0       2020-11-20 13:58:38.988039          26                 9      0   \n",
       "1       2020-11-20 13:58:39.398160          26                 9      0   \n",
       "2       2020-11-20 13:58:39.990691          27                10      0   \n",
       "3       2020-11-20 13:58:40.400893          27                10      0   \n",
       "4       2020-11-20 13:58:41.636293          24                 7      0   \n",
       "...                            ...         ...               ...    ...   \n",
       "757206  2020-11-24 23:16:24.708760          24                 7      0   \n",
       "757207  2020-11-24 23:16:25.121017          27                10      0   \n",
       "757208  2020-11-24 23:16:25.531377          27                10      0   \n",
       "757209  2020-11-24 23:16:25.943739          27                10      0   \n",
       "757210  2020-11-24 23:16:26.353886          27                10      0   \n",
       "\n",
       "        lower  numeric   entropy  special  labels  labels_max  ...  \\\n",
       "0          10       10  2.742338        6       6           7  ...   \n",
       "1          10       10  2.742338        6       6           7  ...   \n",
       "2          10       11  2.767195        6       6           7  ...   \n",
       "3          10       11  2.767195        6       6           7  ...   \n",
       "4          10        8  2.054029        6       6           7  ...   \n",
       "...       ...      ...       ...      ...     ...         ...  ...   \n",
       "757206     10        8  2.054029        6       6           7  ...   \n",
       "757207     10       11  2.570417        6       6           7  ...   \n",
       "757208     10       11  2.570417        6       6           7  ...   \n",
       "757209     10       11  2.570417        6       6           7  ...   \n",
       "757210     10       11  2.570417        6       6           7  ...   \n",
       "\n",
       "              origin sld_three_char longest_word_islower  \\\n",
       "0        only-benign            192                False   \n",
       "1        only-benign            192                False   \n",
       "2        only-benign            192                False   \n",
       "3        only-benign            192                False   \n",
       "4        only-benign            224                False   \n",
       "...              ...            ...                  ...   \n",
       "757206  heavy-attack            224                False   \n",
       "757207  heavy-attack            192                False   \n",
       "757208  heavy-attack            192                False   \n",
       "757209  heavy-attack            192                False   \n",
       "757210  heavy-attack            192                False   \n",
       "\n",
       "        longest_word_isupper  longest_word_isnumeric  longest_word_isalnum  \\\n",
       "0                      False                    True                  True   \n",
       "1                      False                    True                  True   \n",
       "2                      False                    True                  True   \n",
       "3                      False                    True                  True   \n",
       "4                      False                    True                  True   \n",
       "...                      ...                     ...                   ...   \n",
       "757206                 False                    True                  True   \n",
       "757207                 False                    True                  True   \n",
       "757208                 False                    True                  True   \n",
       "757209                 False                    True                  True   \n",
       "757210                 False                    True                  True   \n",
       "\n",
       "       sld_islower  sld_isupper sld_isnumeric  sld_isalnum  \n",
       "0            False        False          True         True  \n",
       "1            False        False          True         True  \n",
       "2            False        False          True         True  \n",
       "3            False        False          True         True  \n",
       "4            False        False          True         True  \n",
       "...            ...          ...           ...          ...  \n",
       "757206       False        False          True         True  \n",
       "757207       False        False          True         True  \n",
       "757208       False        False          True         True  \n",
       "757209       False        False          True         True  \n",
       "757210       False        False          True         True  \n",
       "\n",
       "[757211 rows x 28 columns]"
      ]
     },
     "execution_count": 3,
     "metadata": {},
     "output_type": "execute_result"
    }
   ],
   "source": [
    "def three_char_sld(x):\n",
    "    if len(x) == 3 and x.isnumeric():\n",
    "        return int(x)\n",
    "    else:\n",
    "        return -1\n",
    "stateless_df[\"sld_three_char\"] = stateless_df[\"sld\"].apply(three_char_sld)\n",
    "stateless_df[\"longest_word_islower\"] = stateless_df[\"longest_word\"].apply(lambda x: str(x).islower())\n",
    "stateless_df[\"longest_word_isupper\"] = stateless_df[\"longest_word\"].apply(lambda x: str(x).isupper())\n",
    "stateless_df[\"longest_word_isnumeric\"] = stateless_df[\"longest_word\"].apply(lambda x: str(x).isnumeric())\n",
    "stateless_df[\"longest_word_isalnum\"] = stateless_df[\"longest_word\"].apply(lambda x: str(x).isalnum())\n",
    "stateless_df[\"sld_islower\"] = stateless_df[\"sld\"].apply(lambda x: str(x).islower())\n",
    "stateless_df[\"sld_isupper\"] = stateless_df[\"sld\"].apply(lambda x: str(x).isupper())\n",
    "stateless_df[\"sld_isnumeric\"] = stateless_df[\"sld\"].apply(lambda x: str(x).isnumeric())\n",
    "stateless_df[\"sld_isalnum\"] = stateless_df[\"sld\"].apply(lambda x: str(x).isalnum())\n",
    "stateless_df"
   ]
  },
  {
   "cell_type": "markdown",
   "id": "f32cb2ec",
   "metadata": {},
   "source": [
    "# ANOVA to reduce features"
   ]
  },
  {
   "cell_type": "code",
   "execution_count": 4,
   "id": "eb36ca18",
   "metadata": {
    "scrolled": true
   },
   "outputs": [
    {
     "name": "stdout",
     "output_type": "stream",
     "text": [
      "number of numeric columns:  19\n",
      "number of categorical columns:  4\n"
     ]
    }
   ],
   "source": [
    "print(\"number of numeric columns: \", len([col for col in stateless_df.columns if col not in [\"timestamp\", \"longest_word\", \"longest_word_single_char\", \"sld_three_char\", \"sld\", \"subdomain\", 'original_index', 'data_type', 'attack', 'origin']]))\n",
    "print(\"number of categorical columns: \", len([\"longest_word\", \"longest_word_single_char\", \"sld_three_char\", \"sld\"]))"
   ]
  },
  {
   "cell_type": "markdown",
   "id": "10e8a565",
   "metadata": {},
   "source": [
    "## Reduce numeric features:"
   ]
  },
  {
   "cell_type": "code",
   "execution_count": 5,
   "id": "40906bff",
   "metadata": {},
   "outputs": [],
   "source": [
    "skf = StratifiedKFold(n_splits=5)\n",
    "X = stateless_df[[col for col in stateless_df.columns if col not in [\"timestamp\", \"longest_word\", \"longest_word_single_char\", \"sld_three_char\", \"sld\", \"subdomain\", \"Predictions\", 'original_index', 'data_type', 'attack', 'origin']]]\n",
    "y = stateless_df[\"attack\"]\n",
    "for train_index, test_index in skf.split(X, y):\n",
    "    X_train, X_test = X.loc[train_index], X.loc[test_index]\n",
    "    y_train, y_test = y.loc[train_index], y.loc[test_index]\n",
    "    selector = SelectKBest(f_classif, k=10)\n",
    "    selector.fit(X_train, y_train)\n",
    "    cols = selector.get_support(indices=True)\n",
    "    #print(cols)"
   ]
  },
  {
   "cell_type": "code",
   "execution_count": 6,
   "id": "23635e75",
   "metadata": {},
   "outputs": [
    {
     "name": "stdout",
     "output_type": "stream",
     "text": [
      "Accepted Features:\n",
      "['FQDN_count' 'subdomain_length' 'lower' 'numeric' 'special' 'labels'\n",
      " 'longest_word_islower' 'longest_word_isnumeric' 'sld_islower'\n",
      " 'sld_isnumeric']\n"
     ]
    }
   ],
   "source": [
    "print(\"Accepted Features:\")\n",
    "print(selector.get_feature_names_out())\n"
   ]
  },
  {
   "cell_type": "code",
   "execution_count": 7,
   "id": "e8ea5573",
   "metadata": {},
   "outputs": [
    {
     "name": "stdout",
     "output_type": "stream",
     "text": [
      "The features that are rejected are:  ['upper', 'entropy', 'labels_max', 'labels_average', 'len', 'longest_word_isupper', 'longest_word_isalnum', 'sld_isupper', 'sld_isalnum']\n"
     ]
    }
   ],
   "source": [
    "print(\"The features that are rejected are: \", [col for col in X.columns if col not in selector.get_feature_names_out()])"
   ]
  },
  {
   "cell_type": "code",
   "execution_count": 8,
   "id": "706ba709",
   "metadata": {
    "scrolled": true
   },
   "outputs": [
    {
     "name": "stdout",
     "output_type": "stream",
     "text": [
      "p-values of all features:\n",
      "[0.00000000e+00 0.00000000e+00 0.00000000e+00 0.00000000e+00\n",
      " 0.00000000e+00 0.00000000e+00 0.00000000e+00 0.00000000e+00\n",
      " 0.00000000e+00 0.00000000e+00 0.00000000e+00 0.00000000e+00\n",
      " 0.00000000e+00 0.00000000e+00 4.77496024e-05 0.00000000e+00\n",
      " 0.00000000e+00 0.00000000e+00 0.00000000e+00]\n"
     ]
    }
   ],
   "source": [
    "print(\"p-values of all features:\")\n",
    "print(selector.pvalues_)"
   ]
  },
  {
   "cell_type": "markdown",
   "id": "f589e9f7",
   "metadata": {},
   "source": [
    "# Logistic Regression:"
   ]
  },
  {
   "cell_type": "code",
   "execution_count": 9,
   "id": "ac39883e",
   "metadata": {},
   "outputs": [
    {
     "name": "stdout",
     "output_type": "stream",
     "text": [
      "Train Accuracy: 0.7520304803158965\n",
      "Test Accuracy: 0.7519264673837681\n",
      "Total time elapsed for building new features: 0.15\n",
      "Total time elapsed for prediction: 0.15\n",
      "Train Accuracy: 0.7558772403341868\n",
      "Test Accuracy: 0.7357404154725902\n",
      "Total time elapsed for building new features: 0.20\n",
      "Total time elapsed for prediction: 0.16\n",
      "Train Accuracy: 0.7493747616665759\n",
      "Test Accuracy: 0.7617767858321998\n",
      "Total time elapsed for building new features: 0.16\n",
      "Total time elapsed for prediction: 0.17\n",
      "Train Accuracy: 0.749066063136278\n",
      "Test Accuracy: 0.7629785660516898\n",
      "Total time elapsed for building new features: 0.15\n",
      "Total time elapsed for prediction: 0.16\n",
      "Train Accuracy: 0.7530940011786671\n",
      "Test Accuracy: 0.746899803224997\n",
      "Total time elapsed for building new features: 0.16\n",
      "Total time elapsed for prediction: 0.15\n"
     ]
    },
    {
     "data": {
      "image/png": "[encoded data removed]",
      "text/plain": [
       "<Figure size 432x288 with 1 Axes>"
      ]
     },
     "metadata": {
      "needs_background": "light"
     },
     "output_type": "display_data"
    },
    {
     "data": {
      "image/png": "[encoded data removed]",
      "text/plain": [
       "<Figure size 432x288 with 1 Axes>"
      ]
     },
     "metadata": {
      "needs_background": "light"
     },
     "output_type": "display_data"
    }
   ],
   "source": [
    "\n",
    "skf = StratifiedKFold(n_splits=5)\n",
    "#stateless_df = pd.read_csv(\"stateless.csv\")\n",
    "#stateless_df = stateless_df.fillna(\"\")\n",
    "stateless_df[\"Predictions\"] = 0\n",
    "#features_to_use_directly = [col for col in stateless_df.columns if col in selector.get_feature_names_out()]\n",
    "#features_to_compute = [feature for feature in selector.get_feature_names_out() if feature not in features_to_use_directly]\n",
    "X = stateless_df[[col for col in selector.get_feature_names_out() if not col.startswith(\"longest_word\") and not col.startswith(\"sld\")]+ [\"sld\", \"longest_word\"]]\n",
    "y = stateless_df[\"attack\"]\n",
    "trained_pipes_lr = []\n",
    "categorical_transformer_pipes=[]\n",
    "accuracies = []\n",
    "total_prediction_time_stateless = 0\n",
    "for i, (train_index, test_index) in enumerate(skf.split(X, y)):\n",
    "    X_train, X_test = X.loc[train_index], X.loc[test_index]\n",
    "    y_train, y_test = y.loc[train_index], y.loc[test_index]\n",
    "    \n",
    "    \n",
    "    \n",
    "    X_train[\"longest_word_islower\"] = X_train[\"longest_word\"].apply(lambda x: str(x).islower())\n",
    "    X_train[\"longest_word_isnumeric\"] = X_train[\"longest_word\"].apply(lambda x: str(x).isnumeric())\n",
    "    X_train[\"sld_islower\"] = X_train[\"sld\"].apply(lambda x: str(x).islower())\n",
    "    X_train[\"sld_isnumeric\"] = X_train[\"sld\"].apply(lambda x: str(x).isnumeric())\n",
    "    \n",
    "    transformation_time_start = time.time()\n",
    "    \n",
    "    X_test[\"longest_word_islower\"] = X_test[\"longest_word\"].apply(lambda x: str(x).islower())\n",
    "    X_test[\"longest_word_isnumeric\"] = X_test[\"longest_word\"].apply(lambda x: str(x).isnumeric())\n",
    "    X_test[\"sld_islower\"] = X_test[\"sld\"].apply(lambda x: str(x).islower())\n",
    "    X_test[\"sld_isnumeric\"] = X_test[\"sld\"].apply(lambda x: str(x).isnumeric())\n",
    "    \n",
    "    transformation_time_end = time.time()\n",
    "    \n",
    "    category_pipeline = ColumnTransformer(\n",
    "    [\n",
    "     #('ordinal_encoder', OrdinalEncoder(handle_unknown=\"use_encoded_value\", unknown_value=-1), [\"longest_word\", \"sld\"]),\n",
    "     ('scaler', StandardScaler(), [col for col in X_train if col not in [\"longest_word\", \"sld\"]])\n",
    "     ]\n",
    "    )\n",
    "    X_train = category_pipeline.fit_transform(X_train)\n",
    "    pipe = Pipeline([\n",
    "        ('lr', LogisticRegression(random_state=0, max_iter=300))\n",
    "    ])    \n",
    "    \n",
    "    \n",
    "    \n",
    "    pipe.fit(X_train, y_train)\n",
    "    \n",
    "    \n",
    "    prediction_time_start = time.time()\n",
    "    X_test = category_pipeline.transform(X_test)\n",
    "    #print(X_test)\n",
    "    print(\"Train Accuracy:\", pipe.score(X_train, y_train))\n",
    "    print(\"Test Accuracy:\", pipe.score(X_test, y_test))\n",
    "    stateless_df.loc[test_index, 'Predictions'] = pipe.predict(X_test)\n",
    "    prediction_time_end = time.time()\n",
    "    print(f\"Total time elapsed for building new features: {(transformation_time_end - transformation_time_start):.2f}\")\n",
    "    print(f\"Total time elapsed for prediction: {(prediction_time_end - prediction_time_start):.2f}\")\n",
    "    total_prediction_time_stateless += ((prediction_time_end - prediction_time_start) + (transformation_time_end - transformation_time_start))\n",
    "    trained_pipes_lr.append(pipe)\n",
    "    categorical_transformer_pipes.append(category_pipeline)\n",
    "\n",
    "    \n",
    "lr_disp = RocCurveDisplay.from_estimator(pipe, X_test, y_test)\n",
    "plt.show()    \n",
    "# get importance\n",
    "importance = pipe[\"lr\"].coef_[0]\n",
    "\n",
    "plt.bar(selector.get_feature_names_out(), importance)\n",
    "plt.xticks(rotation=90)\n",
    "plt.title(\"Feature Importance\")\n",
    "plt.show()"
   ]
  },
  {
   "cell_type": "code",
   "execution_count": 10,
   "id": "73d916f4",
   "metadata": {},
   "outputs": [
    {
     "name": "stdout",
     "output_type": "stream",
     "text": [
      "Total prediction time for 757211 rows is 1.609\n",
      "Time to evaluate a single data point: 0.00000212\n"
     ]
    }
   ],
   "source": [
    "print(f\"Total prediction time for {stateless_df.shape[0]} rows is {total_prediction_time_stateless:.3f}\")\n",
    "single_datapoint_evaluation_time_stateless = total_prediction_time_stateless/stateless_df.shape[0]\n",
    "print(f\"Time to evaluate a single data point: {single_datapoint_evaluation_time_stateless:.8f}\")"
   ]
  },
  {
   "cell_type": "markdown",
   "id": "298d0adf",
   "metadata": {},
   "source": [
    "# Overall Results"
   ]
  },
  {
   "cell_type": "code",
   "execution_count": 11,
   "id": "0c8a36d5",
   "metadata": {},
   "outputs": [
    {
     "data": {
      "text/html": [
       "<div>\n",
       "<style scoped>\n",
       "    .dataframe tbody tr th:only-of-type {\n",
       "        vertical-align: middle;\n",
       "    }\n",
       "\n",
       "    .dataframe tbody tr th {\n",
       "        vertical-align: top;\n",
       "    }\n",
       "\n",
       "    .dataframe thead th {\n",
       "        text-align: right;\n",
       "    }\n",
       "</style>\n",
       "<table border=\"1\" class=\"dataframe\">\n",
       "  <thead>\n",
       "    <tr style=\"text-align: right;\">\n",
       "      <th></th>\n",
       "      <th>precision</th>\n",
       "      <th>recall</th>\n",
       "      <th>f1-score</th>\n",
       "      <th>support</th>\n",
       "    </tr>\n",
       "  </thead>\n",
       "  <tbody>\n",
       "    <tr>\n",
       "      <th>0</th>\n",
       "      <td>0.994365</td>\n",
       "      <td>0.597449</td>\n",
       "      <td>0.746422</td>\n",
       "      <td>462858.000000</td>\n",
       "    </tr>\n",
       "    <tr>\n",
       "      <th>1</th>\n",
       "      <td>0.611104</td>\n",
       "      <td>0.994676</td>\n",
       "      <td>0.757078</td>\n",
       "      <td>294353.000000</td>\n",
       "    </tr>\n",
       "    <tr>\n",
       "      <th>accuracy</th>\n",
       "      <td>0.751864</td>\n",
       "      <td>0.751864</td>\n",
       "      <td>0.751864</td>\n",
       "      <td>0.751864</td>\n",
       "    </tr>\n",
       "    <tr>\n",
       "      <th>macro avg</th>\n",
       "      <td>0.802735</td>\n",
       "      <td>0.796063</td>\n",
       "      <td>0.751750</td>\n",
       "      <td>757211.000000</td>\n",
       "    </tr>\n",
       "    <tr>\n",
       "      <th>weighted avg</th>\n",
       "      <td>0.845379</td>\n",
       "      <td>0.751864</td>\n",
       "      <td>0.750564</td>\n",
       "      <td>757211.000000</td>\n",
       "    </tr>\n",
       "  </tbody>\n",
       "</table>\n",
       "</div>"
      ],
      "text/plain": [
       "              precision    recall  f1-score        support\n",
       "0              0.994365  0.597449  0.746422  462858.000000\n",
       "1              0.611104  0.994676  0.757078  294353.000000\n",
       "accuracy       0.751864  0.751864  0.751864       0.751864\n",
       "macro avg      0.802735  0.796063  0.751750  757211.000000\n",
       "weighted avg   0.845379  0.751864  0.750564  757211.000000"
      ]
     },
     "metadata": {},
     "output_type": "display_data"
    }
   ],
   "source": [
    "display(pd.DataFrame(classification_report(stateless_df[\"attack\"], stateless_df[\"Predictions\"], output_dict=True)).T)\n"
   ]
  },
  {
   "cell_type": "markdown",
   "id": "1815676d",
   "metadata": {},
   "source": [
    "## Light-attack"
   ]
  },
  {
   "cell_type": "code",
   "execution_count": 12,
   "id": "753aa60c",
   "metadata": {},
   "outputs": [
    {
     "data": {
      "text/html": [
       "<div>\n",
       "<style scoped>\n",
       "    .dataframe tbody tr th:only-of-type {\n",
       "        vertical-align: middle;\n",
       "    }\n",
       "\n",
       "    .dataframe tbody tr th {\n",
       "        vertical-align: top;\n",
       "    }\n",
       "\n",
       "    .dataframe thead th {\n",
       "        text-align: right;\n",
       "    }\n",
       "</style>\n",
       "<table border=\"1\" class=\"dataframe\">\n",
       "  <thead>\n",
       "    <tr style=\"text-align: right;\">\n",
       "      <th></th>\n",
       "      <th>precision</th>\n",
       "      <th>recall</th>\n",
       "      <th>f1-score</th>\n",
       "      <th>support</th>\n",
       "    </tr>\n",
       "  </thead>\n",
       "  <tbody>\n",
       "    <tr>\n",
       "      <th>0</th>\n",
       "      <td>0.996655</td>\n",
       "      <td>0.609958</td>\n",
       "      <td>0.756770</td>\n",
       "      <td>60091.000000</td>\n",
       "    </tr>\n",
       "    <tr>\n",
       "      <th>1</th>\n",
       "      <td>0.644868</td>\n",
       "      <td>0.997118</td>\n",
       "      <td>0.783210</td>\n",
       "      <td>42683.000000</td>\n",
       "    </tr>\n",
       "    <tr>\n",
       "      <th>accuracy</th>\n",
       "      <td>0.770749</td>\n",
       "      <td>0.770749</td>\n",
       "      <td>0.770749</td>\n",
       "      <td>0.770749</td>\n",
       "    </tr>\n",
       "    <tr>\n",
       "      <th>macro avg</th>\n",
       "      <td>0.820762</td>\n",
       "      <td>0.803538</td>\n",
       "      <td>0.769990</td>\n",
       "      <td>102774.000000</td>\n",
       "    </tr>\n",
       "    <tr>\n",
       "      <th>weighted avg</th>\n",
       "      <td>0.850555</td>\n",
       "      <td>0.770749</td>\n",
       "      <td>0.767750</td>\n",
       "      <td>102774.000000</td>\n",
       "    </tr>\n",
       "  </tbody>\n",
       "</table>\n",
       "</div>"
      ],
      "text/plain": [
       "              precision    recall  f1-score        support\n",
       "0              0.996655  0.609958  0.756770   60091.000000\n",
       "1              0.644868  0.997118  0.783210   42683.000000\n",
       "accuracy       0.770749  0.770749  0.770749       0.770749\n",
       "macro avg      0.820762  0.803538  0.769990  102774.000000\n",
       "weighted avg   0.850555  0.770749  0.767750  102774.000000"
      ]
     },
     "metadata": {},
     "output_type": "display_data"
    }
   ],
   "source": [
    "temp = stateless_df[(stateless_df[\"origin\"]==\"light-attack\")\n",
    "                  | (stateless_df[\"origin\"]==\"light-benign\")]\n",
    "display(pd.DataFrame(classification_report(temp[\"attack\"], temp[\"Predictions\"], output_dict=True)).T)"
   ]
  },
  {
   "cell_type": "markdown",
   "id": "b15a79b4",
   "metadata": {},
   "source": [
    "## Heavy-attack"
   ]
  },
  {
   "cell_type": "code",
   "execution_count": 13,
   "id": "c09858ed",
   "metadata": {},
   "outputs": [
    {
     "data": {
      "text/html": [
       "<div>\n",
       "<style scoped>\n",
       "    .dataframe tbody tr th:only-of-type {\n",
       "        vertical-align: middle;\n",
       "    }\n",
       "\n",
       "    .dataframe tbody tr th {\n",
       "        vertical-align: top;\n",
       "    }\n",
       "\n",
       "    .dataframe thead th {\n",
       "        text-align: right;\n",
       "    }\n",
       "</style>\n",
       "<table border=\"1\" class=\"dataframe\">\n",
       "  <thead>\n",
       "    <tr style=\"text-align: right;\">\n",
       "      <th></th>\n",
       "      <th>precision</th>\n",
       "      <th>recall</th>\n",
       "      <th>f1-score</th>\n",
       "      <th>support</th>\n",
       "    </tr>\n",
       "  </thead>\n",
       "  <tbody>\n",
       "    <tr>\n",
       "      <th>0</th>\n",
       "      <td>0.986990</td>\n",
       "      <td>0.602904</td>\n",
       "      <td>0.748553</td>\n",
       "      <td>181694.00000</td>\n",
       "    </tr>\n",
       "    <tr>\n",
       "      <th>1</th>\n",
       "      <td>0.776193</td>\n",
       "      <td>0.994262</td>\n",
       "      <td>0.871798</td>\n",
       "      <td>251670.00000</td>\n",
       "    </tr>\n",
       "    <tr>\n",
       "      <th>accuracy</th>\n",
       "      <td>0.830180</td>\n",
       "      <td>0.830180</td>\n",
       "      <td>0.830180</td>\n",
       "      <td>0.83018</td>\n",
       "    </tr>\n",
       "    <tr>\n",
       "      <th>macro avg</th>\n",
       "      <td>0.881591</td>\n",
       "      <td>0.798583</td>\n",
       "      <td>0.810175</td>\n",
       "      <td>433364.00000</td>\n",
       "    </tr>\n",
       "    <tr>\n",
       "      <th>weighted avg</th>\n",
       "      <td>0.864572</td>\n",
       "      <td>0.830180</td>\n",
       "      <td>0.820126</td>\n",
       "      <td>433364.00000</td>\n",
       "    </tr>\n",
       "  </tbody>\n",
       "</table>\n",
       "</div>"
      ],
      "text/plain": [
       "              precision    recall  f1-score       support\n",
       "0              0.986990  0.602904  0.748553  181694.00000\n",
       "1              0.776193  0.994262  0.871798  251670.00000\n",
       "accuracy       0.830180  0.830180  0.830180       0.83018\n",
       "macro avg      0.881591  0.798583  0.810175  433364.00000\n",
       "weighted avg   0.864572  0.830180  0.820126  433364.00000"
      ]
     },
     "metadata": {},
     "output_type": "display_data"
    }
   ],
   "source": [
    "temp = stateless_df[(stateless_df[\"origin\"]==\"heavy-attack\")\n",
    "                  | (stateless_df[\"origin\"]==\"heavy-benign\")]\n",
    "display(pd.DataFrame(classification_report(temp[\"attack\"], temp[\"Predictions\"], output_dict=True)).T)"
   ]
  },
  {
   "cell_type": "code",
   "execution_count": 14,
   "id": "c1f6c6ee",
   "metadata": {
    "scrolled": true
   },
   "outputs": [
    {
     "data": {
      "text/plain": [
       "1    479110\n",
       "0    278101\n",
       "Name: Predictions, dtype: int64"
      ]
     },
     "execution_count": 14,
     "metadata": {},
     "output_type": "execute_result"
    }
   ],
   "source": [
    "stateless_df.Predictions.value_counts(normalize=False)"
   ]
  },
  {
   "cell_type": "markdown",
   "id": "8bd88e5a",
   "metadata": {},
   "source": [
    "## RF"
   ]
  },
  {
   "cell_type": "code",
   "execution_count": 16,
   "id": "937ba05f",
   "metadata": {},
   "outputs": [
    {
     "name": "stdout",
     "output_type": "stream",
     "text": [
      "Train Accuracy: 0.7526264180346272\n",
      "Test Accuracy: 0.7524877346592447\n",
      "Total time elapsed for building new features: 0.17\n",
      "Total time elapsed for prediction: 7.51\n",
      "Train Accuracy: 0.7566811771483849\n",
      "Test Accuracy: 0.7363280992062968\n",
      "Total time elapsed for building new features: 0.16\n",
      "Total time elapsed for prediction: 7.77\n",
      "Train Accuracy: 0.7502315238977234\n",
      "Test Accuracy: 0.7621663739253312\n",
      "Total time elapsed for building new features: 0.16\n",
      "Total time elapsed for prediction: 8.00\n",
      "Train Accuracy: 0.7498716507447558\n",
      "Test Accuracy: 0.763625678477569\n",
      "Total time elapsed for building new features: 0.15\n",
      "Total time elapsed for prediction: 7.66\n",
      "Train Accuracy: 0.7537724776276106\n",
      "Test Accuracy: 0.747989329248161\n",
      "Total time elapsed for building new features: 0.16\n",
      "Total time elapsed for prediction: 7.35\n"
     ]
    },
    {
     "data": {
      "image/png": "[encoded data removed]",
      "text/plain": [
       "<Figure size 432x288 with 1 Axes>"
      ]
     },
     "metadata": {
      "needs_background": "light"
     },
     "output_type": "display_data"
    }
   ],
   "source": [
    "\n",
    "skf = StratifiedKFold(n_splits=5)\n",
    "#stateless_df = pd.read_csv(\"stateless.csv\")\n",
    "#stateless_df = stateless_df.fillna(\"\")\n",
    "stateless_df[\"Predictions\"] = 0\n",
    "#features_to_use_directly = [col for col in stateless_df.columns if col in selector.get_feature_names_out()]\n",
    "#features_to_compute = [feature for feature in selector.get_feature_names_out() if feature not in features_to_use_directly]\n",
    "X = stateless_df[[col for col in selector.get_feature_names_out() if not col.startswith(\"longest_word\") and not col.startswith(\"sld\")]+ [\"sld\", \"longest_word\"]]\n",
    "y = stateless_df[\"attack\"]\n",
    "trained_pipes_lr = []\n",
    "categorical_transformer_pipes=[]\n",
    "accuracies = []\n",
    "total_prediction_time_stateless = 0\n",
    "for i, (train_index, test_index) in enumerate(skf.split(X, y)):\n",
    "    X_train, X_test = X.loc[train_index], X.loc[test_index]\n",
    "    y_train, y_test = y.loc[train_index], y.loc[test_index]\n",
    "    \n",
    "    \n",
    "    \n",
    "    X_train[\"longest_word_islower\"] = X_train[\"longest_word\"].apply(lambda x: str(x).islower())\n",
    "    X_train[\"longest_word_isnumeric\"] = X_train[\"longest_word\"].apply(lambda x: str(x).isnumeric())\n",
    "    X_train[\"sld_islower\"] = X_train[\"sld\"].apply(lambda x: str(x).islower())\n",
    "    X_train[\"sld_isnumeric\"] = X_train[\"sld\"].apply(lambda x: str(x).isnumeric())\n",
    "    \n",
    "    transformation_time_start = time.time()\n",
    "    \n",
    "    X_test[\"longest_word_islower\"] = X_test[\"longest_word\"].apply(lambda x: str(x).islower())\n",
    "    X_test[\"longest_word_isnumeric\"] = X_test[\"longest_word\"].apply(lambda x: str(x).isnumeric())\n",
    "    X_test[\"sld_islower\"] = X_test[\"sld\"].apply(lambda x: str(x).islower())\n",
    "    X_test[\"sld_isnumeric\"] = X_test[\"sld\"].apply(lambda x: str(x).isnumeric())\n",
    "    \n",
    "    transformation_time_end = time.time()\n",
    "    \n",
    "    category_pipeline = ColumnTransformer(\n",
    "    [\n",
    "     #('ordinal_encoder', OrdinalEncoder(handle_unknown=\"use_encoded_value\", unknown_value=-1), [\"longest_word\", \"sld\"]),\n",
    "     ('scaler', StandardScaler(), [col for col in X_train if col not in [\"longest_word\", \"sld\"]])\n",
    "     ]\n",
    "    )\n",
    "    X_train = category_pipeline.fit_transform(X_train)\n",
    "    pipe = Pipeline([\n",
    "        ('rf', RandomForestClassifier(random_state=0))\n",
    "    ])    \n",
    "    \n",
    "    \n",
    "    \n",
    "    pipe.fit(X_train, y_train)\n",
    "    \n",
    "    \n",
    "    prediction_time_start = time.time()\n",
    "    X_test = category_pipeline.transform(X_test)\n",
    "    #print(X_test)\n",
    "    print(\"Train Accuracy:\", pipe.score(X_train, y_train))\n",
    "    print(\"Test Accuracy:\", pipe.score(X_test, y_test))\n",
    "    stateless_df.loc[test_index, 'Predictions'] = pipe.predict(X_test)\n",
    "    prediction_time_end = time.time()\n",
    "    print(f\"Total time elapsed for building new features: {(transformation_time_end - transformation_time_start):.2f}\")\n",
    "    print(f\"Total time elapsed for prediction: {(prediction_time_end - prediction_time_start):.2f}\")\n",
    "    total_prediction_time_stateless += ((prediction_time_end - prediction_time_start) + (transformation_time_end - transformation_time_start))\n",
    "    trained_pipes_lr.append(pipe)\n",
    "    categorical_transformer_pipes.append(category_pipeline)\n",
    "\n",
    "    \n",
    "rf_disp = RocCurveDisplay.from_estimator(pipe, X_test, y_test)\n",
    "plt.show()    \n",
    "# get importance\n"
   ]
  },
  {
   "cell_type": "code",
   "execution_count": 17,
   "id": "e9f98907",
   "metadata": {},
   "outputs": [
    {
     "name": "stdout",
     "output_type": "stream",
     "text": [
      "Total prediction time for 757211 rows is 39.082\n",
      "Time to evaluate a single data point: 0.00005161\n"
     ]
    }
   ],
   "source": [
    "print(f\"Total prediction time for {stateless_df.shape[0]} rows is {total_prediction_time_stateless:.3f}\")\n",
    "single_datapoint_evaluation_time_stateless = total_prediction_time_stateless/stateless_df.shape[0]\n",
    "print(f\"Time to evaluate a single data point: {single_datapoint_evaluation_time_stateless:.8f}\")"
   ]
  },
  {
   "cell_type": "markdown",
   "id": "ed32a04a",
   "metadata": {},
   "source": [
    "### Overall Results"
   ]
  },
  {
   "cell_type": "code",
   "execution_count": 18,
   "id": "83b53987",
   "metadata": {},
   "outputs": [
    {
     "data": {
      "text/html": [
       "<div>\n",
       "<style scoped>\n",
       "    .dataframe tbody tr th:only-of-type {\n",
       "        vertical-align: middle;\n",
       "    }\n",
       "\n",
       "    .dataframe tbody tr th {\n",
       "        vertical-align: top;\n",
       "    }\n",
       "\n",
       "    .dataframe thead th {\n",
       "        text-align: right;\n",
       "    }\n",
       "</style>\n",
       "<table border=\"1\" class=\"dataframe\">\n",
       "  <thead>\n",
       "    <tr style=\"text-align: right;\">\n",
       "      <th></th>\n",
       "      <th>precision</th>\n",
       "      <th>recall</th>\n",
       "      <th>f1-score</th>\n",
       "      <th>support</th>\n",
       "    </tr>\n",
       "  </thead>\n",
       "  <tbody>\n",
       "    <tr>\n",
       "      <th>0</th>\n",
       "      <td>0.998660</td>\n",
       "      <td>0.595934</td>\n",
       "      <td>0.746442</td>\n",
       "      <td>462858.000000</td>\n",
       "    </tr>\n",
       "    <tr>\n",
       "      <th>1</th>\n",
       "      <td>0.611181</td>\n",
       "      <td>0.998743</td>\n",
       "      <td>0.758313</td>\n",
       "      <td>294353.000000</td>\n",
       "    </tr>\n",
       "    <tr>\n",
       "      <th>accuracy</th>\n",
       "      <td>0.752519</td>\n",
       "      <td>0.752519</td>\n",
       "      <td>0.752519</td>\n",
       "      <td>0.752519</td>\n",
       "    </tr>\n",
       "    <tr>\n",
       "      <th>macro avg</th>\n",
       "      <td>0.804921</td>\n",
       "      <td>0.797339</td>\n",
       "      <td>0.752377</td>\n",
       "      <td>757211.000000</td>\n",
       "    </tr>\n",
       "    <tr>\n",
       "      <th>weighted avg</th>\n",
       "      <td>0.848034</td>\n",
       "      <td>0.752519</td>\n",
       "      <td>0.751056</td>\n",
       "      <td>757211.000000</td>\n",
       "    </tr>\n",
       "  </tbody>\n",
       "</table>\n",
       "</div>"
      ],
      "text/plain": [
       "              precision    recall  f1-score        support\n",
       "0              0.998660  0.595934  0.746442  462858.000000\n",
       "1              0.611181  0.998743  0.758313  294353.000000\n",
       "accuracy       0.752519  0.752519  0.752519       0.752519\n",
       "macro avg      0.804921  0.797339  0.752377  757211.000000\n",
       "weighted avg   0.848034  0.752519  0.751056  757211.000000"
      ]
     },
     "metadata": {},
     "output_type": "display_data"
    }
   ],
   "source": [
    "display(pd.DataFrame(classification_report(stateless_df[\"attack\"], stateless_df[\"Predictions\"], output_dict=True)).T)\n"
   ]
  },
  {
   "cell_type": "markdown",
   "id": "db6c2aba",
   "metadata": {},
   "source": [
    "# Saving the final model trained on all data, in order to use in the robustness evaluation:"
   ]
  },
  {
   "cell_type": "markdown",
   "id": "cf4c50c5",
   "metadata": {},
   "source": [
    "## LR"
   ]
  },
  {
   "cell_type": "code",
   "execution_count": 17,
   "id": "b331c7d9",
   "metadata": {},
   "outputs": [
    {
     "name": "stderr",
     "output_type": "stream",
     "text": [
      "C:\\Users\\Romario\\AppData\\Local\\Temp\\ipykernel_18352\\918002686.py:5: SettingWithCopyWarning: \n",
      "A value is trying to be set on a copy of a slice from a DataFrame.\n",
      "Try using .loc[row_indexer,col_indexer] = value instead\n",
      "\n",
      "See the caveats in the documentation: https://pandas.pydata.org/pandas-docs/stable/user_guide/indexing.html#returning-a-view-versus-a-copy\n",
      "  X[\"longest_word_islower\"] = X[\"longest_word\"].apply(lambda x: str(x).islower())\n",
      "C:\\Users\\Romario\\AppData\\Local\\Temp\\ipykernel_18352\\918002686.py:6: SettingWithCopyWarning: \n",
      "A value is trying to be set on a copy of a slice from a DataFrame.\n",
      "Try using .loc[row_indexer,col_indexer] = value instead\n",
      "\n",
      "See the caveats in the documentation: https://pandas.pydata.org/pandas-docs/stable/user_guide/indexing.html#returning-a-view-versus-a-copy\n",
      "  X[\"longest_word_isnumeric\"] = X[\"longest_word\"].apply(lambda x: str(x).isnumeric())\n",
      "C:\\Users\\Romario\\AppData\\Local\\Temp\\ipykernel_18352\\918002686.py:7: SettingWithCopyWarning: \n",
      "A value is trying to be set on a copy of a slice from a DataFrame.\n",
      "Try using .loc[row_indexer,col_indexer] = value instead\n",
      "\n",
      "See the caveats in the documentation: https://pandas.pydata.org/pandas-docs/stable/user_guide/indexing.html#returning-a-view-versus-a-copy\n",
      "  X[\"sld_islower\"] = X[\"sld\"].apply(lambda x: str(x).islower())\n",
      "C:\\Users\\Romario\\AppData\\Local\\Temp\\ipykernel_18352\\918002686.py:8: SettingWithCopyWarning: \n",
      "A value is trying to be set on a copy of a slice from a DataFrame.\n",
      "Try using .loc[row_indexer,col_indexer] = value instead\n",
      "\n",
      "See the caveats in the documentation: https://pandas.pydata.org/pandas-docs/stable/user_guide/indexing.html#returning-a-view-versus-a-copy\n",
      "  X[\"sld_isnumeric\"] = X[\"sld\"].apply(lambda x: str(x).isnumeric())\n"
     ]
    },
    {
     "data": {
      "text/plain": [
       "['lr_optimized_features_model.pkl']"
      ]
     },
     "execution_count": 17,
     "metadata": {},
     "output_type": "execute_result"
    }
   ],
   "source": [
    "\n",
    "\n",
    "\n",
    "X = stateless_df[[col for col in selector.get_feature_names_out() if not col.startswith(\"longest_word\") and not col.startswith(\"sld\")]+ [\"sld\", \"longest_word\"]]\n",
    "y = stateless_df[\"attack\"]\n",
    "\n",
    "\n",
    "X[\"longest_word_islower\"] = X[\"longest_word\"].apply(lambda x: str(x).islower())\n",
    "X[\"longest_word_isnumeric\"] = X[\"longest_word\"].apply(lambda x: str(x).isnumeric())\n",
    "X[\"sld_islower\"] = X[\"sld\"].apply(lambda x: str(x).islower())\n",
    "X[\"sld_isnumeric\"] = X[\"sld\"].apply(lambda x: str(x).isnumeric())\n",
    "\n",
    "\n",
    "category_pipeline = ColumnTransformer(\n",
    "[\n",
    " #('ordinal_encoder', OrdinalEncoder(handle_unknown=\"use_encoded_value\", unknown_value=-1), [\"longest_word\", \"sld\"]),\n",
    " ('scaler', StandardScaler(), [col for col in X if col not in [\"longest_word\", \"sld\"]])\n",
    " ]\n",
    ")\n",
    "\n",
    "pipe = Pipeline([\n",
    "    ('lr', LogisticRegression(random_state=0, max_iter=300))\n",
    "])    \n",
    "pipe.fit(category_pipeline.fit_transform(X), y)\n",
    "joblib.dump(category_pipeline, \"lr_optimized_features_column_transformer.pkl\")\n",
    "joblib.dump(pipe, 'lr_optimized_features_model.pkl')\n",
    "\n"
   ]
  },
  {
   "cell_type": "markdown",
   "id": "899b1b3c",
   "metadata": {},
   "source": [
    "## RF"
   ]
  },
  {
   "cell_type": "code",
   "execution_count": 20,
   "id": "347594cd",
   "metadata": {},
   "outputs": [
    {
     "name": "stderr",
     "output_type": "stream",
     "text": [
      "C:\\Users\\Romario\\AppData\\Local\\Temp\\ipykernel_18352\\2115082065.py:5: SettingWithCopyWarning: \n",
      "A value is trying to be set on a copy of a slice from a DataFrame.\n",
      "Try using .loc[row_indexer,col_indexer] = value instead\n",
      "\n",
      "See the caveats in the documentation: https://pandas.pydata.org/pandas-docs/stable/user_guide/indexing.html#returning-a-view-versus-a-copy\n",
      "  X[\"longest_word_islower\"] = X[\"longest_word\"].apply(lambda x: str(x).islower())\n",
      "C:\\Users\\Romario\\AppData\\Local\\Temp\\ipykernel_18352\\2115082065.py:6: SettingWithCopyWarning: \n",
      "A value is trying to be set on a copy of a slice from a DataFrame.\n",
      "Try using .loc[row_indexer,col_indexer] = value instead\n",
      "\n",
      "See the caveats in the documentation: https://pandas.pydata.org/pandas-docs/stable/user_guide/indexing.html#returning-a-view-versus-a-copy\n",
      "  X[\"longest_word_isnumeric\"] = X[\"longest_word\"].apply(lambda x: str(x).isnumeric())\n",
      "C:\\Users\\Romario\\AppData\\Local\\Temp\\ipykernel_18352\\2115082065.py:7: SettingWithCopyWarning: \n",
      "A value is trying to be set on a copy of a slice from a DataFrame.\n",
      "Try using .loc[row_indexer,col_indexer] = value instead\n",
      "\n",
      "See the caveats in the documentation: https://pandas.pydata.org/pandas-docs/stable/user_guide/indexing.html#returning-a-view-versus-a-copy\n",
      "  X[\"sld_islower\"] = X[\"sld\"].apply(lambda x: str(x).islower())\n",
      "C:\\Users\\Romario\\AppData\\Local\\Temp\\ipykernel_18352\\2115082065.py:8: SettingWithCopyWarning: \n",
      "A value is trying to be set on a copy of a slice from a DataFrame.\n",
      "Try using .loc[row_indexer,col_indexer] = value instead\n",
      "\n",
      "See the caveats in the documentation: https://pandas.pydata.org/pandas-docs/stable/user_guide/indexing.html#returning-a-view-versus-a-copy\n",
      "  X[\"sld_isnumeric\"] = X[\"sld\"].apply(lambda x: str(x).isnumeric())\n"
     ]
    },
    {
     "data": {
      "text/plain": [
       "['rf_optimized_features_model.pkl']"
      ]
     },
     "execution_count": 20,
     "metadata": {},
     "output_type": "execute_result"
    }
   ],
   "source": [
    "\n",
    "\n",
    "\n",
    "X = stateless_df[[col for col in selector.get_feature_names_out() if not col.startswith(\"longest_word\") and not col.startswith(\"sld\")]+ [\"sld\", \"longest_word\"]]\n",
    "y = stateless_df[\"attack\"]\n",
    "\n",
    "\n",
    "X[\"longest_word_islower\"] = X[\"longest_word\"].apply(lambda x: str(x).islower())\n",
    "X[\"longest_word_isnumeric\"] = X[\"longest_word\"].apply(lambda x: str(x).isnumeric())\n",
    "X[\"sld_islower\"] = X[\"sld\"].apply(lambda x: str(x).islower())\n",
    "X[\"sld_isnumeric\"] = X[\"sld\"].apply(lambda x: str(x).isnumeric())\n",
    "\n",
    "\n",
    "category_pipeline = ColumnTransformer(\n",
    "[\n",
    " #('ordinal_encoder', OrdinalEncoder(handle_unknown=\"use_encoded_value\", unknown_value=-1), [\"longest_word\", \"sld\"]),\n",
    " ('scaler', StandardScaler(), [col for col in X if col not in [\"longest_word\", \"sld\"]])\n",
    " ]\n",
    ")\n",
    "\n",
    "pipe = Pipeline([\n",
    "    ('rf', RandomForestClassifier(random_state=0))\n",
    "])    \n",
    "pipe.fit(category_pipeline.fit_transform(X), y)\n",
    "joblib.dump(category_pipeline, \"rf_optimized_features_column_transformer.pkl\")\n",
    "joblib.dump(pipe, 'rf_optimized_features_model.pkl')\n",
    "\n"
   ]
  },
  {
   "cell_type": "code",
   "execution_count": 24,
   "id": "de4def67",
   "metadata": {},
   "outputs": [
    {
     "data": {
      "text/plain": [
       "benign        462858\n",
       "text           74581\n",
       "audio          53413\n",
       "compressed     45987\n",
       "video          42383\n",
       "exe            41079\n",
       "image          36910\n",
       "Name: data_type, dtype: int64"
      ]
     },
     "execution_count": 24,
     "metadata": {},
     "output_type": "execute_result"
    }
   ],
   "source": [
    "stateless_df[\"data_type\"].value_counts()"
   ]
  },
  {
   "cell_type": "code",
   "execution_count": null,
   "id": "f8a97225",
   "metadata": {},
   "outputs": [],
   "source": []
  }
 ],
 "metadata": {
  "kernelspec": {
   "display_name": "Python 3 (ipykernel)",
   "language": "python",
   "name": "python3"
  },
  "language_info": {
   "codemirror_mode": {
    "name": "ipython",
    "version": 3
   },
   "file_extension": ".py",
   "mimetype": "text/x-python",
   "name": "python",
   "nbconvert_exporter": "python",
   "pygments_lexer": "ipython3",
   "version": "3.10.4"
  }
 },
 "nbformat": 4,
 "nbformat_minor": 5
}
