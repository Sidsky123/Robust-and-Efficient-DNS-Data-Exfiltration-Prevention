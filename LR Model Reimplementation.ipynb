{
 "cells": [
  {
   "cell_type": "code",
   "execution_count": 35,
   "id": "719f142b",
   "metadata": {},
   "outputs": [],
   "source": [
    "import pandas as pd\n",
    "import matplotlib.pyplot as plt\n",
    "import seaborn as sns\n",
    "import time\n",
    "import ast\n",
    "from sklearn.model_selection import StratifiedKFold\n",
    "from sklearn.compose import ColumnTransformer\n",
    "from sklearn.preprocessing import OrdinalEncoder, StandardScaler, OneHotEncoder\n",
    "from sklearn.metrics import classification_report, RocCurveDisplay\n",
    "from sklearn.linear_model import LogisticRegression\n",
    "from sklearn.pipeline import Pipeline\n",
    "from statistics import mean\n",
    "import joblib\n",
    "from utils import *\n",
    "sns.set_theme()"
   ]
  },
  {
   "cell_type": "code",
   "execution_count": 2,
   "id": "812a2c3c",
   "metadata": {},
   "outputs": [],
   "source": [
    "stateful_df = pd.read_csv(\"Data/Prepared Data/stateful.csv\")\n",
    "stateless_df = pd.read_csv(\"Data/Prepared Data/stateless.csv\")"
   ]
  },
  {
   "cell_type": "code",
   "execution_count": 3,
   "id": "a84959ec",
   "metadata": {},
   "outputs": [
    {
     "name": "stdout",
     "output_type": "stream",
     "text": [
      "Percentage of missing values in timestamp : 0.0\n",
      "Percentage of missing values in FQDN_count : 0.0\n",
      "Percentage of missing values in subdomain_length : 0.0\n",
      "Percentage of missing values in upper : 0.0\n",
      "Percentage of missing values in lower : 0.0\n",
      "Percentage of missing values in numeric : 0.0\n",
      "Percentage of missing values in entropy : 0.0\n",
      "Percentage of missing values in special : 0.0\n",
      "Percentage of missing values in labels : 0.0\n",
      "Percentage of missing values in labels_max : 0.0\n",
      "Percentage of missing values in labels_average : 0.0\n",
      "Percentage of missing values in longest_word : 4.093971165236638e-05\n",
      "Percentage of missing values in sld : 0.0\n",
      "Percentage of missing values in len : 0.0\n",
      "Percentage of missing values in subdomain : 0.0\n",
      "Percentage of missing values in original_index : 0.0\n",
      "Percentage of missing values in data_type : 0.0\n",
      "Percentage of missing values in attack : 0.0\n",
      "Percentage of missing values in origin : 0.0\n"
     ]
    }
   ],
   "source": [
    "for col in stateless_df.columns:\n",
    "    print(f\"Percentage of missing values in {col} : {stateless_df[col].isna().sum()/stateless_df.shape[0]}\")"
   ]
  },
  {
   "cell_type": "code",
   "execution_count": 4,
   "id": "646abca9",
   "metadata": {},
   "outputs": [],
   "source": [
    "stateless_df = stateless_df.fillna(\"\")"
   ]
  },
  {
   "cell_type": "markdown",
   "id": "419d91b7",
   "metadata": {},
   "source": [
    "# Stateless Model - Reimplementation"
   ]
  },
  {
   "cell_type": "code",
   "execution_count": 5,
   "id": "e2e2ab22",
   "metadata": {
    "scrolled": true
   },
   "outputs": [
    {
     "name": "stderr",
     "output_type": "stream",
     "text": [
      "D:\\Python 3.10\\lib\\site-packages\\sklearn\\linear_model\\_logistic.py:444: ConvergenceWarning: lbfgs failed to converge (status=1):\n",
      "STOP: TOTAL NO. of ITERATIONS REACHED LIMIT.\n",
      "\n",
      "Increase the number of iterations (max_iter) or scale the data as shown in:\n",
      "    https://scikit-learn.org/stable/modules/preprocessing.html\n",
      "Please also refer to the documentation for alternative solver options:\n",
      "    https://scikit-learn.org/stable/modules/linear_model.html#logistic-regression\n",
      "  n_iter_i = _check_optimize_result(\n"
     ]
    },
    {
     "name": "stdout",
     "output_type": "stream",
     "text": [
      "Train Accuracy: 0.7528806407733654\n",
      "Test Accuracy: 0.7526131944031748\n",
      "Total time elapsed for prediction: 0.61\n"
     ]
    },
    {
     "name": "stderr",
     "output_type": "stream",
     "text": [
      "D:\\Python 3.10\\lib\\site-packages\\sklearn\\linear_model\\_logistic.py:444: ConvergenceWarning: lbfgs failed to converge (status=1):\n",
      "STOP: TOTAL NO. of ITERATIONS REACHED LIMIT.\n",
      "\n",
      "Increase the number of iterations (max_iter) or scale the data as shown in:\n",
      "    https://scikit-learn.org/stable/modules/preprocessing.html\n",
      "Please also refer to the documentation for alternative solver options:\n",
      "    https://scikit-learn.org/stable/modules/linear_model.html#logistic-regression\n",
      "  n_iter_i = _check_optimize_result(\n"
     ]
    },
    {
     "name": "stdout",
     "output_type": "stream",
     "text": [
      "Train Accuracy: 0.756899081993301\n",
      "Test Accuracy: 0.7367242904874474\n",
      "Total time elapsed for prediction: 0.56\n"
     ]
    },
    {
     "name": "stderr",
     "output_type": "stream",
     "text": [
      "D:\\Python 3.10\\lib\\site-packages\\sklearn\\linear_model\\_logistic.py:444: ConvergenceWarning: lbfgs failed to converge (status=1):\n",
      "STOP: TOTAL NO. of ITERATIONS REACHED LIMIT.\n",
      "\n",
      "Increase the number of iterations (max_iter) or scale the data as shown in:\n",
      "    https://scikit-learn.org/stable/modules/preprocessing.html\n",
      "Please also refer to the documentation for alternative solver options:\n",
      "    https://scikit-learn.org/stable/modules/linear_model.html#logistic-regression\n",
      "  n_iter_i = _check_optimize_result(\n"
     ]
    },
    {
     "name": "stdout",
     "output_type": "stream",
     "text": [
      "Train Accuracy: 0.7504296192112835\n",
      "Test Accuracy: 0.7623314536258106\n",
      "Total time elapsed for prediction: 0.63\n"
     ]
    },
    {
     "name": "stderr",
     "output_type": "stream",
     "text": [
      "D:\\Python 3.10\\lib\\site-packages\\sklearn\\linear_model\\_logistic.py:444: ConvergenceWarning: lbfgs failed to converge (status=1):\n",
      "STOP: TOTAL NO. of ITERATIONS REACHED LIMIT.\n",
      "\n",
      "Increase the number of iterations (max_iter) or scale the data as shown in:\n",
      "    https://scikit-learn.org/stable/modules/preprocessing.html\n",
      "Please also refer to the documentation for alternative solver options:\n",
      "    https://scikit-learn.org/stable/modules/linear_model.html#logistic-regression\n",
      "  n_iter_i = _check_optimize_result(\n"
     ]
    },
    {
     "name": "stdout",
     "output_type": "stream",
     "text": [
      "Train Accuracy: 0.7500301269956039\n",
      "Test Accuracy: 0.7637115199218183\n",
      "Total time elapsed for prediction: 0.63\n"
     ]
    },
    {
     "name": "stderr",
     "output_type": "stream",
     "text": [
      "D:\\Python 3.10\\lib\\site-packages\\sklearn\\linear_model\\_logistic.py:444: ConvergenceWarning: lbfgs failed to converge (status=1):\n",
      "STOP: TOTAL NO. of ITERATIONS REACHED LIMIT.\n",
      "\n",
      "Increase the number of iterations (max_iter) or scale the data as shown in:\n",
      "    https://scikit-learn.org/stable/modules/preprocessing.html\n",
      "Please also refer to the documentation for alternative solver options:\n",
      "    https://scikit-learn.org/stable/modules/linear_model.html#logistic-regression\n",
      "  n_iter_i = _check_optimize_result(\n"
     ]
    },
    {
     "name": "stdout",
     "output_type": "stream",
     "text": [
      "Train Accuracy: 0.753988731678247\n",
      "Test Accuracy: 0.7480157420002377\n",
      "Total time elapsed for prediction: 0.59\n"
     ]
    },
    {
     "data": {
      "image/png": "[encoded data removed]",
      "text/plain": [
       "<Figure size 432x288 with 1 Axes>"
      ]
     },
     "metadata": {
      "needs_background": "light"
     },
     "output_type": "display_data"
    },
    {
     "ename": "ValueError",
     "evalue": "shape mismatch: objects cannot be broadcast to a single shape.  Mismatch is between arg 0 with shape (15,) and arg 1 with shape (67704,).",
     "output_type": "error",
     "traceback": [
      "\u001b[1;31m---------------------------------------------------------------------------\u001b[0m",
      "\u001b[1;31mValueError\u001b[0m                                Traceback (most recent call last)",
      "Input \u001b[1;32mIn [5]\u001b[0m, in \u001b[0;36m<cell line: 43>\u001b[1;34m()\u001b[0m\n\u001b[0;32m     40\u001b[0m \u001b[38;5;66;03m# get importance\u001b[39;00m\n\u001b[0;32m     41\u001b[0m importance \u001b[38;5;241m=\u001b[39m pipe[\u001b[38;5;124m\"\u001b[39m\u001b[38;5;124mlr\u001b[39m\u001b[38;5;124m\"\u001b[39m]\u001b[38;5;241m.\u001b[39mcoef_[\u001b[38;5;241m0\u001b[39m]\n\u001b[1;32m---> 43\u001b[0m \u001b[43mplt\u001b[49m\u001b[38;5;241;43m.\u001b[39;49m\u001b[43mbar\u001b[49m\u001b[43m(\u001b[49m\u001b[43m[\u001b[49m\u001b[43mcol\u001b[49m\u001b[43m \u001b[49m\u001b[38;5;28;43;01mfor\u001b[39;49;00m\u001b[43m \u001b[49m\u001b[43mcol\u001b[49m\u001b[43m \u001b[49m\u001b[38;5;129;43;01min\u001b[39;49;00m\u001b[43m \u001b[49m\u001b[43m[\u001b[49m\u001b[38;5;124;43m\"\u001b[39;49m\u001b[38;5;124;43mlongest_word\u001b[39;49m\u001b[38;5;124;43m\"\u001b[39;49m\u001b[43m,\u001b[49m\u001b[43m \u001b[49m\u001b[38;5;124;43m\"\u001b[39;49m\u001b[38;5;124;43msld\u001b[39;49m\u001b[38;5;124;43m\"\u001b[39;49m\u001b[43m]\u001b[49m\u001b[38;5;241;43m+\u001b[39;49m\u001b[43m[\u001b[49m\u001b[43mcol\u001b[49m\u001b[43m \u001b[49m\u001b[38;5;28;43;01mfor\u001b[39;49;00m\u001b[43m \u001b[49m\u001b[43mcol\u001b[49m\u001b[43m \u001b[49m\u001b[38;5;129;43;01min\u001b[39;49;00m\u001b[43m \u001b[49m\u001b[43mX\u001b[49m\u001b[43m \u001b[49m\u001b[38;5;28;43;01mif\u001b[39;49;00m\u001b[43m \u001b[49m\u001b[43mcol\u001b[49m\u001b[43m \u001b[49m\u001b[38;5;129;43;01mnot\u001b[39;49;00m\u001b[43m \u001b[49m\u001b[38;5;129;43;01min\u001b[39;49;00m\u001b[43m \u001b[49m\u001b[43m[\u001b[49m\u001b[38;5;124;43m\"\u001b[39;49m\u001b[38;5;124;43mlongest_word\u001b[39;49m\u001b[38;5;124;43m\"\u001b[39;49m\u001b[43m,\u001b[49m\u001b[43m \u001b[49m\u001b[38;5;124;43m\"\u001b[39;49m\u001b[38;5;124;43msld\u001b[39;49m\u001b[38;5;124;43m\"\u001b[39;49m\u001b[43m]\u001b[49m\u001b[43m]\u001b[49m\u001b[43m]\u001b[49m\u001b[43m,\u001b[49m\u001b[43m \u001b[49m\u001b[43mimportance\u001b[49m\u001b[43m)\u001b[49m\n\u001b[0;32m     44\u001b[0m plt\u001b[38;5;241m.\u001b[39mxticks(rotation\u001b[38;5;241m=\u001b[39m\u001b[38;5;241m90\u001b[39m)\n\u001b[0;32m     45\u001b[0m plt\u001b[38;5;241m.\u001b[39mtitle(\u001b[38;5;124m\"\u001b[39m\u001b[38;5;124mFeature Importance\u001b[39m\u001b[38;5;124m\"\u001b[39m)\n",
      "File \u001b[1;32mD:\\Python 3.10\\lib\\site-packages\\matplotlib\\pyplot.py:2399\u001b[0m, in \u001b[0;36mbar\u001b[1;34m(x, height, width, bottom, align, data, **kwargs)\u001b[0m\n\u001b[0;32m   2395\u001b[0m \u001b[38;5;129m@_copy_docstring_and_deprecators\u001b[39m(Axes\u001b[38;5;241m.\u001b[39mbar)\n\u001b[0;32m   2396\u001b[0m \u001b[38;5;28;01mdef\u001b[39;00m \u001b[38;5;21mbar\u001b[39m(\n\u001b[0;32m   2397\u001b[0m         x, height, width\u001b[38;5;241m=\u001b[39m\u001b[38;5;241m0.8\u001b[39m, bottom\u001b[38;5;241m=\u001b[39m\u001b[38;5;28;01mNone\u001b[39;00m, \u001b[38;5;241m*\u001b[39m, align\u001b[38;5;241m=\u001b[39m\u001b[38;5;124m'\u001b[39m\u001b[38;5;124mcenter\u001b[39m\u001b[38;5;124m'\u001b[39m,\n\u001b[0;32m   2398\u001b[0m         data\u001b[38;5;241m=\u001b[39m\u001b[38;5;28;01mNone\u001b[39;00m, \u001b[38;5;241m*\u001b[39m\u001b[38;5;241m*\u001b[39mkwargs):\n\u001b[1;32m-> 2399\u001b[0m     \u001b[38;5;28;01mreturn\u001b[39;00m gca()\u001b[38;5;241m.\u001b[39mbar(\n\u001b[0;32m   2400\u001b[0m         x, height, width\u001b[38;5;241m=\u001b[39mwidth, bottom\u001b[38;5;241m=\u001b[39mbottom, align\u001b[38;5;241m=\u001b[39malign,\n\u001b[0;32m   2401\u001b[0m         \u001b[38;5;241m*\u001b[39m\u001b[38;5;241m*\u001b[39m({\u001b[38;5;124m\"\u001b[39m\u001b[38;5;124mdata\u001b[39m\u001b[38;5;124m\"\u001b[39m: data} \u001b[38;5;28;01mif\u001b[39;00m data \u001b[38;5;129;01mis\u001b[39;00m \u001b[38;5;129;01mnot\u001b[39;00m \u001b[38;5;28;01mNone\u001b[39;00m \u001b[38;5;28;01melse\u001b[39;00m {}), \u001b[38;5;241m*\u001b[39m\u001b[38;5;241m*\u001b[39mkwargs)\n",
      "File \u001b[1;32mD:\\Python 3.10\\lib\\site-packages\\matplotlib\\__init__.py:1412\u001b[0m, in \u001b[0;36m_preprocess_data.<locals>.inner\u001b[1;34m(ax, data, *args, **kwargs)\u001b[0m\n\u001b[0;32m   1409\u001b[0m \u001b[38;5;129m@functools\u001b[39m\u001b[38;5;241m.\u001b[39mwraps(func)\n\u001b[0;32m   1410\u001b[0m \u001b[38;5;28;01mdef\u001b[39;00m \u001b[38;5;21minner\u001b[39m(ax, \u001b[38;5;241m*\u001b[39margs, data\u001b[38;5;241m=\u001b[39m\u001b[38;5;28;01mNone\u001b[39;00m, \u001b[38;5;241m*\u001b[39m\u001b[38;5;241m*\u001b[39mkwargs):\n\u001b[0;32m   1411\u001b[0m     \u001b[38;5;28;01mif\u001b[39;00m data \u001b[38;5;129;01mis\u001b[39;00m \u001b[38;5;28;01mNone\u001b[39;00m:\n\u001b[1;32m-> 1412\u001b[0m         \u001b[38;5;28;01mreturn\u001b[39;00m func(ax, \u001b[38;5;241m*\u001b[39m\u001b[38;5;28mmap\u001b[39m(sanitize_sequence, args), \u001b[38;5;241m*\u001b[39m\u001b[38;5;241m*\u001b[39mkwargs)\n\u001b[0;32m   1414\u001b[0m     bound \u001b[38;5;241m=\u001b[39m new_sig\u001b[38;5;241m.\u001b[39mbind(ax, \u001b[38;5;241m*\u001b[39margs, \u001b[38;5;241m*\u001b[39m\u001b[38;5;241m*\u001b[39mkwargs)\n\u001b[0;32m   1415\u001b[0m     auto_label \u001b[38;5;241m=\u001b[39m (bound\u001b[38;5;241m.\u001b[39marguments\u001b[38;5;241m.\u001b[39mget(label_namer)\n\u001b[0;32m   1416\u001b[0m                   \u001b[38;5;129;01mor\u001b[39;00m bound\u001b[38;5;241m.\u001b[39mkwargs\u001b[38;5;241m.\u001b[39mget(label_namer))\n",
      "File \u001b[1;32mD:\\Python 3.10\\lib\\site-packages\\matplotlib\\axes\\_axes.py:2342\u001b[0m, in \u001b[0;36mAxes.bar\u001b[1;34m(self, x, height, width, bottom, align, **kwargs)\u001b[0m\n\u001b[0;32m   2339\u001b[0m     \u001b[38;5;28;01mif\u001b[39;00m yerr \u001b[38;5;129;01mis\u001b[39;00m \u001b[38;5;129;01mnot\u001b[39;00m \u001b[38;5;28;01mNone\u001b[39;00m:\n\u001b[0;32m   2340\u001b[0m         yerr \u001b[38;5;241m=\u001b[39m \u001b[38;5;28mself\u001b[39m\u001b[38;5;241m.\u001b[39m_convert_dx(yerr, y0, y, \u001b[38;5;28mself\u001b[39m\u001b[38;5;241m.\u001b[39mconvert_yunits)\n\u001b[1;32m-> 2342\u001b[0m x, height, width, y, linewidth, hatch \u001b[38;5;241m=\u001b[39m \u001b[43mnp\u001b[49m\u001b[38;5;241;43m.\u001b[39;49m\u001b[43mbroadcast_arrays\u001b[49m\u001b[43m(\u001b[49m\n\u001b[0;32m   2343\u001b[0m \u001b[43m    \u001b[49m\u001b[38;5;66;43;03m# Make args iterable too.\u001b[39;49;00m\n\u001b[0;32m   2344\u001b[0m \u001b[43m    \u001b[49m\u001b[43mnp\u001b[49m\u001b[38;5;241;43m.\u001b[39;49m\u001b[43matleast_1d\u001b[49m\u001b[43m(\u001b[49m\u001b[43mx\u001b[49m\u001b[43m)\u001b[49m\u001b[43m,\u001b[49m\u001b[43m \u001b[49m\u001b[43mheight\u001b[49m\u001b[43m,\u001b[49m\u001b[43m \u001b[49m\u001b[43mwidth\u001b[49m\u001b[43m,\u001b[49m\u001b[43m \u001b[49m\u001b[43my\u001b[49m\u001b[43m,\u001b[49m\u001b[43m \u001b[49m\u001b[43mlinewidth\u001b[49m\u001b[43m,\u001b[49m\u001b[43m \u001b[49m\u001b[43mhatch\u001b[49m\u001b[43m)\u001b[49m\n\u001b[0;32m   2346\u001b[0m \u001b[38;5;66;03m# Now that units have been converted, set the tick locations.\u001b[39;00m\n\u001b[0;32m   2347\u001b[0m \u001b[38;5;28;01mif\u001b[39;00m orientation \u001b[38;5;241m==\u001b[39m \u001b[38;5;124m'\u001b[39m\u001b[38;5;124mvertical\u001b[39m\u001b[38;5;124m'\u001b[39m:\n",
      "File \u001b[1;32m<__array_function__ internals>:180\u001b[0m, in \u001b[0;36mbroadcast_arrays\u001b[1;34m(*args, **kwargs)\u001b[0m\n",
      "File \u001b[1;32mD:\\Python 3.10\\lib\\site-packages\\numpy\\lib\\stride_tricks.py:540\u001b[0m, in \u001b[0;36mbroadcast_arrays\u001b[1;34m(subok, *args)\u001b[0m\n\u001b[0;32m    533\u001b[0m \u001b[38;5;66;03m# nditer is not used here to avoid the limit of 32 arrays.\u001b[39;00m\n\u001b[0;32m    534\u001b[0m \u001b[38;5;66;03m# Otherwise, something like the following one-liner would suffice:\u001b[39;00m\n\u001b[0;32m    535\u001b[0m \u001b[38;5;66;03m# return np.nditer(args, flags=['multi_index', 'zerosize_ok'],\u001b[39;00m\n\u001b[0;32m    536\u001b[0m \u001b[38;5;66;03m#                  order='C').itviews\u001b[39;00m\n\u001b[0;32m    538\u001b[0m args \u001b[38;5;241m=\u001b[39m [np\u001b[38;5;241m.\u001b[39marray(_m, copy\u001b[38;5;241m=\u001b[39m\u001b[38;5;28;01mFalse\u001b[39;00m, subok\u001b[38;5;241m=\u001b[39msubok) \u001b[38;5;28;01mfor\u001b[39;00m _m \u001b[38;5;129;01min\u001b[39;00m args]\n\u001b[1;32m--> 540\u001b[0m shape \u001b[38;5;241m=\u001b[39m \u001b[43m_broadcast_shape\u001b[49m\u001b[43m(\u001b[49m\u001b[38;5;241;43m*\u001b[39;49m\u001b[43margs\u001b[49m\u001b[43m)\u001b[49m\n\u001b[0;32m    542\u001b[0m \u001b[38;5;28;01mif\u001b[39;00m \u001b[38;5;28mall\u001b[39m(array\u001b[38;5;241m.\u001b[39mshape \u001b[38;5;241m==\u001b[39m shape \u001b[38;5;28;01mfor\u001b[39;00m array \u001b[38;5;129;01min\u001b[39;00m args):\n\u001b[0;32m    543\u001b[0m     \u001b[38;5;66;03m# Common case where nothing needs to be broadcasted.\u001b[39;00m\n\u001b[0;32m    544\u001b[0m     \u001b[38;5;28;01mreturn\u001b[39;00m args\n",
      "File \u001b[1;32mD:\\Python 3.10\\lib\\site-packages\\numpy\\lib\\stride_tricks.py:422\u001b[0m, in \u001b[0;36m_broadcast_shape\u001b[1;34m(*args)\u001b[0m\n\u001b[0;32m    417\u001b[0m \u001b[38;5;124;03m\"\"\"Returns the shape of the arrays that would result from broadcasting the\u001b[39;00m\n\u001b[0;32m    418\u001b[0m \u001b[38;5;124;03msupplied arrays against each other.\u001b[39;00m\n\u001b[0;32m    419\u001b[0m \u001b[38;5;124;03m\"\"\"\u001b[39;00m\n\u001b[0;32m    420\u001b[0m \u001b[38;5;66;03m# use the old-iterator because np.nditer does not handle size 0 arrays\u001b[39;00m\n\u001b[0;32m    421\u001b[0m \u001b[38;5;66;03m# consistently\u001b[39;00m\n\u001b[1;32m--> 422\u001b[0m b \u001b[38;5;241m=\u001b[39m \u001b[43mnp\u001b[49m\u001b[38;5;241;43m.\u001b[39;49m\u001b[43mbroadcast\u001b[49m\u001b[43m(\u001b[49m\u001b[38;5;241;43m*\u001b[39;49m\u001b[43margs\u001b[49m\u001b[43m[\u001b[49m\u001b[43m:\u001b[49m\u001b[38;5;241;43m32\u001b[39;49m\u001b[43m]\u001b[49m\u001b[43m)\u001b[49m\n\u001b[0;32m    423\u001b[0m \u001b[38;5;66;03m# unfortunately, it cannot handle 32 or more arguments directly\u001b[39;00m\n\u001b[0;32m    424\u001b[0m \u001b[38;5;28;01mfor\u001b[39;00m pos \u001b[38;5;129;01min\u001b[39;00m \u001b[38;5;28mrange\u001b[39m(\u001b[38;5;241m32\u001b[39m, \u001b[38;5;28mlen\u001b[39m(args), \u001b[38;5;241m31\u001b[39m):\n\u001b[0;32m    425\u001b[0m     \u001b[38;5;66;03m# ironically, np.broadcast does not properly handle np.broadcast\u001b[39;00m\n\u001b[0;32m    426\u001b[0m     \u001b[38;5;66;03m# objects (it treats them as scalars)\u001b[39;00m\n\u001b[0;32m    427\u001b[0m     \u001b[38;5;66;03m# use broadcasting to avoid allocating the full array\u001b[39;00m\n",
      "\u001b[1;31mValueError\u001b[0m: shape mismatch: objects cannot be broadcast to a single shape.  Mismatch is between arg 0 with shape (15,) and arg 1 with shape (67704,)."
     ]
    },
    {
     "data": {
      "image/png": "[encoded data removed]",
      "text/plain": [
       "<Figure size 432x288 with 1 Axes>"
      ]
     },
     "metadata": {
      "needs_background": "light"
     },
     "output_type": "display_data"
    }
   ],
   "source": [
    "stateless_df[\"Predictions\"] = 0\n",
    "skf = StratifiedKFold(n_splits=5)\n",
    "X = stateless_df[[col for col in stateless_df.columns if col not in [\"timestamp\", \"attack\", \"origin\", \"data_type\", \"original_index\"]]]\n",
    "y = stateless_df[\"attack\"]\n",
    "trained_pipes_lr = []\n",
    "categorical_transformer_pipes=[]\n",
    "accuracies = []\n",
    "total_prediction_time_stateless = 0\n",
    "for i, (train_index, test_index) in enumerate(skf.split(X, y)):\n",
    "    X_train, X_test = X.loc[train_index], X.loc[test_index]\n",
    "    y_train, y_test = y.loc[train_index], y.loc[test_index]\n",
    "    category_pipeline = ColumnTransformer(\n",
    "    [\n",
    "     #('ordinal_encoder', OrdinalEncoder(handle_unknown=\"use_encoded_value\", unknown_value=-1), [\"longest_word\", \"sld\"]),\n",
    "    ('onehot_encoder', OneHotEncoder(handle_unknown=\"ignore\"), [\"longest_word\", \"sld\"]),\n",
    "     ('scaler', StandardScaler(), [col for col in X_train if col not in [\"longest_word\", \"sld\"]])\n",
    "     ]\n",
    "    )\n",
    "    X_train = category_pipeline.fit_transform(X_train)\n",
    "    pipe = Pipeline([\n",
    "        ('lr', LogisticRegression(random_state=0, max_iter=300))\n",
    "    ])    \n",
    "    pipe.fit(X_train, y_train)\n",
    "    \n",
    "    prediction_time_start = time.time()\n",
    "    X_test = category_pipeline.transform(X_test)\n",
    "    #print(X_test)\n",
    "    print(\"Train Accuracy:\", pipe.score(X_train, y_train))\n",
    "    print(\"Test Accuracy:\", pipe.score(X_test, y_test))\n",
    "    stateless_df.loc[test_index, 'Predictions'] = pipe.predict(X_test)\n",
    "    prediction_time_end = time.time()\n",
    "    print(f\"Total time elapsed for prediction: {(prediction_time_end - prediction_time_start):.2f}\")\n",
    "    total_prediction_time_stateless += (prediction_time_end - prediction_time_start)\n",
    "    trained_pipes_lr.append(pipe)\n",
    "    categorical_transformer_pipes.append(category_pipeline)\n",
    "\n",
    "    \n",
    "lr_disp = RocCurveDisplay.from_estimator(pipe, X_test, y_test)\n",
    "plt.show()    \n",
    "# get importance\n",
    "#importance = pipe[\"lr\"].coef_[0]\n",
    "\n",
    "# plt.bar([stateless_df.columns if col not in [\"timestamp\", \"attack\", \"origin\", \"data_type\", \"original_index\"]], importance)\n",
    "# plt.xticks(rotation=90)\n",
    "# plt.title(\"Feature Importance\")\n",
    "# plt.show()"
   ]
  },
  {
   "cell_type": "code",
   "execution_count": 14,
   "id": "f319cecc",
   "metadata": {},
   "outputs": [
    {
     "name": "stdout",
     "output_type": "stream",
     "text": [
      "Total prediction time for 757211 rows is 3.033\n",
      "Time to evaluate a single data point: 0.00000400\n"
     ]
    }
   ],
   "source": [
    "print(f\"Total prediction time for {stateless_df.shape[0]} rows is {total_prediction_time_stateless:.3f}\")\n",
    "single_datapoint_evaluation_time_stateless = total_prediction_time_stateless/stateless_df.shape[0]\n",
    "print(f\"Time to evaluate a single data point: {single_datapoint_evaluation_time_stateless:.8f}\")"
   ]
  },
  {
   "cell_type": "markdown",
   "id": "85f1364d",
   "metadata": {},
   "source": [
    "## Overall Results"
   ]
  },
  {
   "cell_type": "code",
   "execution_count": null,
   "id": "cef99187",
   "metadata": {},
   "outputs": [],
   "source": []
  },
  {
   "cell_type": "code",
   "execution_count": 15,
   "id": "d7e56787",
   "metadata": {
    "scrolled": true
   },
   "outputs": [
    {
     "data": {
      "text/html": [
       "<div>\n",
       "<style scoped>\n",
       "    .dataframe tbody tr th:only-of-type {\n",
       "        vertical-align: middle;\n",
       "    }\n",
       "\n",
       "    .dataframe tbody tr th {\n",
       "        vertical-align: top;\n",
       "    }\n",
       "\n",
       "    .dataframe thead th {\n",
       "        text-align: right;\n",
       "    }\n",
       "</style>\n",
       "<table border=\"1\" class=\"dataframe\">\n",
       "  <thead>\n",
       "    <tr style=\"text-align: right;\">\n",
       "      <th></th>\n",
       "      <th>precision</th>\n",
       "      <th>recall</th>\n",
       "      <th>f1-score</th>\n",
       "      <th>support</th>\n",
       "    </tr>\n",
       "  </thead>\n",
       "  <tbody>\n",
       "    <tr>\n",
       "      <th>0</th>\n",
       "      <td>0.999055</td>\n",
       "      <td>0.595960</td>\n",
       "      <td>0.746572</td>\n",
       "      <td>462858.000000</td>\n",
       "    </tr>\n",
       "    <tr>\n",
       "      <th>1</th>\n",
       "      <td>0.611284</td>\n",
       "      <td>0.999113</td>\n",
       "      <td>0.758499</td>\n",
       "      <td>294353.000000</td>\n",
       "    </tr>\n",
       "    <tr>\n",
       "      <th>accuracy</th>\n",
       "      <td>0.752679</td>\n",
       "      <td>0.752679</td>\n",
       "      <td>0.752679</td>\n",
       "      <td>0.752679</td>\n",
       "    </tr>\n",
       "    <tr>\n",
       "      <th>macro avg</th>\n",
       "      <td>0.805170</td>\n",
       "      <td>0.797537</td>\n",
       "      <td>0.752536</td>\n",
       "      <td>757211.000000</td>\n",
       "    </tr>\n",
       "    <tr>\n",
       "      <th>weighted avg</th>\n",
       "      <td>0.848316</td>\n",
       "      <td>0.752679</td>\n",
       "      <td>0.751209</td>\n",
       "      <td>757211.000000</td>\n",
       "    </tr>\n",
       "  </tbody>\n",
       "</table>\n",
       "</div>"
      ],
      "text/plain": [
       "              precision    recall  f1-score        support\n",
       "0              0.999055  0.595960  0.746572  462858.000000\n",
       "1              0.611284  0.999113  0.758499  294353.000000\n",
       "accuracy       0.752679  0.752679  0.752679       0.752679\n",
       "macro avg      0.805170  0.797537  0.752536  757211.000000\n",
       "weighted avg   0.848316  0.752679  0.751209  757211.000000"
      ]
     },
     "metadata": {},
     "output_type": "display_data"
    }
   ],
   "source": [
    "display(pd.DataFrame(classification_report(stateless_df[\"attack\"], stateless_df[\"Predictions\"], output_dict=True)).T)"
   ]
  },
  {
   "cell_type": "markdown",
   "id": "1815676d",
   "metadata": {},
   "source": [
    "## Light-attack"
   ]
  },
  {
   "cell_type": "code",
   "execution_count": 16,
   "id": "753aa60c",
   "metadata": {},
   "outputs": [
    {
     "data": {
      "text/html": [
       "<div>\n",
       "<style scoped>\n",
       "    .dataframe tbody tr th:only-of-type {\n",
       "        vertical-align: middle;\n",
       "    }\n",
       "\n",
       "    .dataframe tbody tr th {\n",
       "        vertical-align: top;\n",
       "    }\n",
       "\n",
       "    .dataframe thead th {\n",
       "        text-align: right;\n",
       "    }\n",
       "</style>\n",
       "<table border=\"1\" class=\"dataframe\">\n",
       "  <thead>\n",
       "    <tr style=\"text-align: right;\">\n",
       "      <th></th>\n",
       "      <th>precision</th>\n",
       "      <th>recall</th>\n",
       "      <th>f1-score</th>\n",
       "      <th>support</th>\n",
       "    </tr>\n",
       "  </thead>\n",
       "  <tbody>\n",
       "    <tr>\n",
       "      <th>0</th>\n",
       "      <td>0.999535</td>\n",
       "      <td>0.608660</td>\n",
       "      <td>0.756596</td>\n",
       "      <td>60091.000000</td>\n",
       "    </tr>\n",
       "    <tr>\n",
       "      <th>1</th>\n",
       "      <td>0.644677</td>\n",
       "      <td>0.999602</td>\n",
       "      <td>0.783833</td>\n",
       "      <td>42683.000000</td>\n",
       "    </tr>\n",
       "    <tr>\n",
       "      <th>accuracy</th>\n",
       "      <td>0.771022</td>\n",
       "      <td>0.771022</td>\n",
       "      <td>0.771022</td>\n",
       "      <td>0.771022</td>\n",
       "    </tr>\n",
       "    <tr>\n",
       "      <th>macro avg</th>\n",
       "      <td>0.822106</td>\n",
       "      <td>0.804131</td>\n",
       "      <td>0.770215</td>\n",
       "      <td>102774.000000</td>\n",
       "    </tr>\n",
       "    <tr>\n",
       "      <th>weighted avg</th>\n",
       "      <td>0.852159</td>\n",
       "      <td>0.771022</td>\n",
       "      <td>0.767908</td>\n",
       "      <td>102774.000000</td>\n",
       "    </tr>\n",
       "  </tbody>\n",
       "</table>\n",
       "</div>"
      ],
      "text/plain": [
       "              precision    recall  f1-score        support\n",
       "0              0.999535  0.608660  0.756596   60091.000000\n",
       "1              0.644677  0.999602  0.783833   42683.000000\n",
       "accuracy       0.771022  0.771022  0.771022       0.771022\n",
       "macro avg      0.822106  0.804131  0.770215  102774.000000\n",
       "weighted avg   0.852159  0.771022  0.767908  102774.000000"
      ]
     },
     "metadata": {},
     "output_type": "display_data"
    }
   ],
   "source": [
    "temp = stateless_df[(stateless_df[\"origin\"]==\"light-attack\")\n",
    "                  | (stateless_df[\"origin\"]==\"light-benign\")]\n",
    "display(pd.DataFrame(classification_report(temp[\"attack\"], temp[\"Predictions\"], output_dict=True)).T)"
   ]
  },
  {
   "cell_type": "markdown",
   "id": "b15a79b4",
   "metadata": {},
   "source": [
    "## Heavy-attack"
   ]
  },
  {
   "cell_type": "code",
   "execution_count": 17,
   "id": "c09858ed",
   "metadata": {},
   "outputs": [
    {
     "data": {
      "text/html": [
       "<div>\n",
       "<style scoped>\n",
       "    .dataframe tbody tr th:only-of-type {\n",
       "        vertical-align: middle;\n",
       "    }\n",
       "\n",
       "    .dataframe tbody tr th {\n",
       "        vertical-align: top;\n",
       "    }\n",
       "\n",
       "    .dataframe thead th {\n",
       "        text-align: right;\n",
       "    }\n",
       "</style>\n",
       "<table border=\"1\" class=\"dataframe\">\n",
       "  <thead>\n",
       "    <tr style=\"text-align: right;\">\n",
       "      <th></th>\n",
       "      <th>precision</th>\n",
       "      <th>recall</th>\n",
       "      <th>f1-score</th>\n",
       "      <th>support</th>\n",
       "    </tr>\n",
       "  </thead>\n",
       "  <tbody>\n",
       "    <tr>\n",
       "      <th>0</th>\n",
       "      <td>0.997772</td>\n",
       "      <td>0.601429</td>\n",
       "      <td>0.750486</td>\n",
       "      <td>181694.00000</td>\n",
       "    </tr>\n",
       "    <tr>\n",
       "      <th>1</th>\n",
       "      <td>0.776380</td>\n",
       "      <td>0.999030</td>\n",
       "      <td>0.873744</td>\n",
       "      <td>251670.00000</td>\n",
       "    </tr>\n",
       "    <tr>\n",
       "      <th>accuracy</th>\n",
       "      <td>0.832330</td>\n",
       "      <td>0.832330</td>\n",
       "      <td>0.832330</td>\n",
       "      <td>0.83233</td>\n",
       "    </tr>\n",
       "    <tr>\n",
       "      <th>macro avg</th>\n",
       "      <td>0.887076</td>\n",
       "      <td>0.800230</td>\n",
       "      <td>0.812115</td>\n",
       "      <td>433364.00000</td>\n",
       "    </tr>\n",
       "    <tr>\n",
       "      <th>weighted avg</th>\n",
       "      <td>0.869202</td>\n",
       "      <td>0.832330</td>\n",
       "      <td>0.822066</td>\n",
       "      <td>433364.00000</td>\n",
       "    </tr>\n",
       "  </tbody>\n",
       "</table>\n",
       "</div>"
      ],
      "text/plain": [
       "              precision    recall  f1-score       support\n",
       "0              0.997772  0.601429  0.750486  181694.00000\n",
       "1              0.776380  0.999030  0.873744  251670.00000\n",
       "accuracy       0.832330  0.832330  0.832330       0.83233\n",
       "macro avg      0.887076  0.800230  0.812115  433364.00000\n",
       "weighted avg   0.869202  0.832330  0.822066  433364.00000"
      ]
     },
     "metadata": {},
     "output_type": "display_data"
    }
   ],
   "source": [
    "temp = stateless_df[(stateless_df[\"origin\"]==\"heavy-attack\")\n",
    "                  | (stateless_df[\"origin\"]==\"heavy-benign\")]\n",
    "display(pd.DataFrame(classification_report(temp[\"attack\"], temp[\"Predictions\"], output_dict=True)).T)"
   ]
  },
  {
   "cell_type": "code",
   "execution_count": 18,
   "id": "c1f6c6ee",
   "metadata": {},
   "outputs": [
    {
     "data": {
      "text/plain": [
       "1    481105\n",
       "0    276106\n",
       "Name: Predictions, dtype: int64"
      ]
     },
     "execution_count": 18,
     "metadata": {},
     "output_type": "execute_result"
    }
   ],
   "source": [
    "stateless_df.Predictions.value_counts(normalize=False)"
   ]
  },
  {
   "cell_type": "markdown",
   "id": "eb537e00",
   "metadata": {},
   "source": [
    "# Stateful Model Reimplementation"
   ]
  },
  {
   "cell_type": "code",
   "execution_count": 19,
   "id": "ced7132f",
   "metadata": {},
   "outputs": [
    {
     "data": {
      "text/plain": [
       "Index(['rr', 'A_frequency', 'NS_frequency', 'CNAME_frequency', 'SOA_frequency',\n",
       "       'NULL_frequency', 'PTR_frequency', 'HINFO_frequency', 'MX_frequency',\n",
       "       'TXT_frequency', 'AAAA_frequency', 'SRV_frequency', 'OPT_frequency',\n",
       "       'rr_type', 'rr_count', 'rr_name_entropy', 'rr_name_length',\n",
       "       'distinct_ns', 'distinct_ip', 'unique_country', 'unique_asn',\n",
       "       'distinct_domains', 'reverse_dns', 'a_records', 'unique_ttl',\n",
       "       'ttl_mean', 'ttl_variance', 'original_index', 'data_type', 'attack',\n",
       "       'origin'],\n",
       "      dtype='object')"
      ]
     },
     "execution_count": 19,
     "metadata": {},
     "output_type": "execute_result"
    }
   ],
   "source": [
    "stateful_df.columns"
   ]
  },
  {
   "cell_type": "code",
   "execution_count": 22,
   "id": "4a9b9fd0",
   "metadata": {
    "scrolled": false
   },
   "outputs": [
    {
     "name": "stdout",
     "output_type": "stream",
     "text": [
      "Train Accuracy: 0.7969897560138113\n",
      "Test Accuracy: 0.805268880792049\n",
      "Total time elapsed for prediction: 0.33\n",
      "Train Accuracy: 0.8012485454302665\n",
      "Test Accuracy: 0.7882527994506019\n",
      "Total time elapsed for prediction: 0.34\n",
      "Train Accuracy: 0.7975715839072127\n",
      "Test Accuracy: 0.8029606455428168\n",
      "Total time elapsed for prediction: 0.43\n",
      "Train Accuracy: 0.798234486179203\n",
      "Test Accuracy: 0.8003090364548558\n",
      "Total time elapsed for prediction: 0.38\n",
      "Train Accuracy: 0.7992121478033613\n",
      "Test Accuracy: 0.7964174662825967\n",
      "Total time elapsed for prediction: 0.32\n"
     ]
    },
    {
     "data": {
      "image/png": "[encoded data removed]",
      "text/plain": [
       "<Figure size 432x288 with 1 Axes>"
      ]
     },
     "metadata": {
      "needs_background": "light"
     },
     "output_type": "display_data"
    }
   ],
   "source": [
    "stateful_df[\"Predictions\"] = 0\n",
    "skf = StratifiedKFold(n_splits=5)\n",
    "categorical_features = [\"rr_type\", \"distinct_ip\", \"unique_country\",\n",
    "\"unique_asn\", \"distinct_domains\", \"reverse_dns\"]\n",
    "X = stateful_df[[col for col in stateful_df.columns if col not in [\"unique_ttl\", \"attack\", \"origin\", \"data_type\", \"original_index\"]]]\n",
    "y = stateful_df[\"attack\"]\n",
    "trained_pipes_lr = []\n",
    "categorical_transformer_pipes=[]\n",
    "accuracies = []\n",
    "total_prediction_time_stateful = 0\n",
    "for i, (train_index, test_index) in enumerate(skf.split(X, y)):\n",
    "    X_train, X_test = X.loc[train_index], X.loc[test_index]\n",
    "    y_train, y_test = y.loc[train_index], y.loc[test_index]\n",
    "    category_pipeline = ColumnTransformer(\n",
    "    [\n",
    "     #('ordinal_encoder', OrdinalEncoder(handle_unknown=\"use_encoded_value\", unknown_value=-1), categorical_features),\n",
    "    ('onehot_encoder', OneHotEncoder(handle_unknown=\"ignore\"), categorical_features),\n",
    "     ('scaler', StandardScaler(), [col for col in X_train if col not in categorical_features])\n",
    "     ]\n",
    "    )\n",
    "    X_train = category_pipeline.fit_transform(X_train)\n",
    "    pipe = Pipeline([\n",
    "        ('lr', LogisticRegression(random_state=0, max_iter=500))\n",
    "    ])\n",
    "    \n",
    "    pipe.fit(X_train, y_train)\n",
    "    prediction_time_start = time.time()\n",
    "    X_test = category_pipeline.transform(X_test)\n",
    "    #print(X_test)\n",
    "    print(\"Train Accuracy:\", pipe.score(X_train, y_train))\n",
    "    print(\"Test Accuracy:\", pipe.score(X_test, y_test))\n",
    "    stateful_df.loc[test_index, 'Predictions'] = pipe.predict(X_test)\n",
    "    \n",
    "    prediction_time_end = time.time()\n",
    "    print(f\"Total time elapsed for prediction: {(prediction_time_end - prediction_time_start):.2f}\")\n",
    "    total_prediction_time_stateful += (prediction_time_end - prediction_time_start)\n",
    "    \n",
    "    trained_pipes_lr.append(pipe)\n",
    "    categorical_transformer_pipes.append(category_pipeline)\n",
    "\n",
    "    #display(pd.DataFrame(classification_report(y_test, pipe.predict(X_test), output_dict=True)).T)\n",
    "lr_disp = RocCurveDisplay.from_estimator(pipe, X_test, y_test)\n",
    "plt.show()    \n",
    "# get importance\n",
    "# importance = pipe[\"lr\"].coef_[0]\n",
    "\n",
    "# plt.bar([col for col in X.columns], importance)\n",
    "# plt.xticks(rotation=90)\n",
    "# plt.title(\"Feature Importance\")\n",
    "# plt.show()"
   ]
  },
  {
   "cell_type": "code",
   "execution_count": 23,
   "id": "9a4607c2",
   "metadata": {},
   "outputs": [
    {
     "name": "stdout",
     "output_type": "stream",
     "text": [
      "Total prediction time for 262105 rows is 1.793\n",
      "Time to evaluate a single data point: 0.00000684\n"
     ]
    }
   ],
   "source": [
    "print(f\"Total prediction time for {stateful_df.shape[0]} rows is {total_prediction_time_stateful:.3f}\")\n",
    "single_datapoint_evaluation_time_stateful = total_prediction_time_stateful/stateful_df.shape[0]\n",
    "print(f\"Time to evaluate a single data point: {single_datapoint_evaluation_time_stateful:.8f}\")"
   ]
  },
  {
   "cell_type": "markdown",
   "id": "ae654ce0",
   "metadata": {},
   "source": [
    "## Overall Results"
   ]
  },
  {
   "cell_type": "code",
   "execution_count": 24,
   "id": "5ee7b965",
   "metadata": {
    "scrolled": true
   },
   "outputs": [
    {
     "data": {
      "text/html": [
       "<div>\n",
       "<style scoped>\n",
       "    .dataframe tbody tr th:only-of-type {\n",
       "        vertical-align: middle;\n",
       "    }\n",
       "\n",
       "    .dataframe tbody tr th {\n",
       "        vertical-align: top;\n",
       "    }\n",
       "\n",
       "    .dataframe thead th {\n",
       "        text-align: right;\n",
       "    }\n",
       "</style>\n",
       "<table border=\"1\" class=\"dataframe\">\n",
       "  <thead>\n",
       "    <tr style=\"text-align: right;\">\n",
       "      <th></th>\n",
       "      <th>precision</th>\n",
       "      <th>recall</th>\n",
       "      <th>f1-score</th>\n",
       "      <th>support</th>\n",
       "    </tr>\n",
       "  </thead>\n",
       "  <tbody>\n",
       "    <tr>\n",
       "      <th>0</th>\n",
       "      <td>0.993352</td>\n",
       "      <td>0.709546</td>\n",
       "      <td>0.827799</td>\n",
       "      <td>178782.000000</td>\n",
       "    </tr>\n",
       "    <tr>\n",
       "      <th>1</th>\n",
       "      <td>0.613637</td>\n",
       "      <td>0.989811</td>\n",
       "      <td>0.757598</td>\n",
       "      <td>83323.000000</td>\n",
       "    </tr>\n",
       "    <tr>\n",
       "      <th>accuracy</th>\n",
       "      <td>0.798642</td>\n",
       "      <td>0.798642</td>\n",
       "      <td>0.798642</td>\n",
       "      <td>0.798642</td>\n",
       "    </tr>\n",
       "    <tr>\n",
       "      <th>macro avg</th>\n",
       "      <td>0.803494</td>\n",
       "      <td>0.849678</td>\n",
       "      <td>0.792698</td>\n",
       "      <td>262105.000000</td>\n",
       "    </tr>\n",
       "    <tr>\n",
       "      <th>weighted avg</th>\n",
       "      <td>0.872641</td>\n",
       "      <td>0.798642</td>\n",
       "      <td>0.805482</td>\n",
       "      <td>262105.000000</td>\n",
       "    </tr>\n",
       "  </tbody>\n",
       "</table>\n",
       "</div>"
      ],
      "text/plain": [
       "              precision    recall  f1-score        support\n",
       "0              0.993352  0.709546  0.827799  178782.000000\n",
       "1              0.613637  0.989811  0.757598   83323.000000\n",
       "accuracy       0.798642  0.798642  0.798642       0.798642\n",
       "macro avg      0.803494  0.849678  0.792698  262105.000000\n",
       "weighted avg   0.872641  0.798642  0.805482  262105.000000"
      ]
     },
     "metadata": {},
     "output_type": "display_data"
    }
   ],
   "source": [
    "display(pd.DataFrame(classification_report(stateful_df[\"attack\"], stateful_df[\"Predictions\"], output_dict=True)).T)"
   ]
  },
  {
   "cell_type": "markdown",
   "id": "7b0dafb0",
   "metadata": {},
   "source": [
    "## Light Attack Results"
   ]
  },
  {
   "cell_type": "code",
   "execution_count": 25,
   "id": "853c9838",
   "metadata": {},
   "outputs": [
    {
     "data": {
      "text/html": [
       "<div>\n",
       "<style scoped>\n",
       "    .dataframe tbody tr th:only-of-type {\n",
       "        vertical-align: middle;\n",
       "    }\n",
       "\n",
       "    .dataframe tbody tr th {\n",
       "        vertical-align: top;\n",
       "    }\n",
       "\n",
       "    .dataframe thead th {\n",
       "        text-align: right;\n",
       "    }\n",
       "</style>\n",
       "<table border=\"1\" class=\"dataframe\">\n",
       "  <thead>\n",
       "    <tr style=\"text-align: right;\">\n",
       "      <th></th>\n",
       "      <th>precision</th>\n",
       "      <th>recall</th>\n",
       "      <th>f1-score</th>\n",
       "      <th>support</th>\n",
       "    </tr>\n",
       "  </thead>\n",
       "  <tbody>\n",
       "    <tr>\n",
       "      <th>0</th>\n",
       "      <td>0.994598</td>\n",
       "      <td>0.711657</td>\n",
       "      <td>0.829668</td>\n",
       "      <td>22768.000000</td>\n",
       "    </tr>\n",
       "    <tr>\n",
       "      <th>1</th>\n",
       "      <td>0.630599</td>\n",
       "      <td>0.992209</td>\n",
       "      <td>0.771115</td>\n",
       "      <td>11295.000000</td>\n",
       "    </tr>\n",
       "    <tr>\n",
       "      <th>accuracy</th>\n",
       "      <td>0.804685</td>\n",
       "      <td>0.804685</td>\n",
       "      <td>0.804685</td>\n",
       "      <td>0.804685</td>\n",
       "    </tr>\n",
       "    <tr>\n",
       "      <th>macro avg</th>\n",
       "      <td>0.812598</td>\n",
       "      <td>0.851933</td>\n",
       "      <td>0.800391</td>\n",
       "      <td>34063.000000</td>\n",
       "    </tr>\n",
       "    <tr>\n",
       "      <th>weighted avg</th>\n",
       "      <td>0.873899</td>\n",
       "      <td>0.804685</td>\n",
       "      <td>0.810252</td>\n",
       "      <td>34063.000000</td>\n",
       "    </tr>\n",
       "  </tbody>\n",
       "</table>\n",
       "</div>"
      ],
      "text/plain": [
       "              precision    recall  f1-score       support\n",
       "0              0.994598  0.711657  0.829668  22768.000000\n",
       "1              0.630599  0.992209  0.771115  11295.000000\n",
       "accuracy       0.804685  0.804685  0.804685      0.804685\n",
       "macro avg      0.812598  0.851933  0.800391  34063.000000\n",
       "weighted avg   0.873899  0.804685  0.810252  34063.000000"
      ]
     },
     "metadata": {},
     "output_type": "display_data"
    }
   ],
   "source": [
    "temp = stateful_df[(stateful_df[\"origin\"]==\"light-attack\")\n",
    "                  | (stateful_df[\"origin\"]==\"light-benign\")]\n",
    "display(pd.DataFrame(classification_report(temp[\"attack\"], temp[\"Predictions\"], output_dict=True)).T)"
   ]
  },
  {
   "cell_type": "markdown",
   "id": "f582de02",
   "metadata": {},
   "source": [
    "## Heavy Attack Results"
   ]
  },
  {
   "cell_type": "code",
   "execution_count": 26,
   "id": "2d1ce300",
   "metadata": {},
   "outputs": [
    {
     "data": {
      "text/html": [
       "<div>\n",
       "<style scoped>\n",
       "    .dataframe tbody tr th:only-of-type {\n",
       "        vertical-align: middle;\n",
       "    }\n",
       "\n",
       "    .dataframe tbody tr th {\n",
       "        vertical-align: top;\n",
       "    }\n",
       "\n",
       "    .dataframe thead th {\n",
       "        text-align: right;\n",
       "    }\n",
       "</style>\n",
       "<table border=\"1\" class=\"dataframe\">\n",
       "  <thead>\n",
       "    <tr style=\"text-align: right;\">\n",
       "      <th></th>\n",
       "      <th>precision</th>\n",
       "      <th>recall</th>\n",
       "      <th>f1-score</th>\n",
       "      <th>support</th>\n",
       "    </tr>\n",
       "  </thead>\n",
       "  <tbody>\n",
       "    <tr>\n",
       "      <th>0</th>\n",
       "      <td>0.984686</td>\n",
       "      <td>0.709010</td>\n",
       "      <td>0.824412</td>\n",
       "      <td>69016.000000</td>\n",
       "    </tr>\n",
       "    <tr>\n",
       "      <th>1</th>\n",
       "      <td>0.780153</td>\n",
       "      <td>0.989435</td>\n",
       "      <td>0.872419</td>\n",
       "      <td>72028.000000</td>\n",
       "    </tr>\n",
       "    <tr>\n",
       "      <th>accuracy</th>\n",
       "      <td>0.852216</td>\n",
       "      <td>0.852216</td>\n",
       "      <td>0.852216</td>\n",
       "      <td>0.852216</td>\n",
       "    </tr>\n",
       "    <tr>\n",
       "      <th>macro avg</th>\n",
       "      <td>0.882420</td>\n",
       "      <td>0.849222</td>\n",
       "      <td>0.848415</td>\n",
       "      <td>141044.000000</td>\n",
       "    </tr>\n",
       "    <tr>\n",
       "      <th>weighted avg</th>\n",
       "      <td>0.880236</td>\n",
       "      <td>0.852216</td>\n",
       "      <td>0.848928</td>\n",
       "      <td>141044.000000</td>\n",
       "    </tr>\n",
       "  </tbody>\n",
       "</table>\n",
       "</div>"
      ],
      "text/plain": [
       "              precision    recall  f1-score        support\n",
       "0              0.984686  0.709010  0.824412   69016.000000\n",
       "1              0.780153  0.989435  0.872419   72028.000000\n",
       "accuracy       0.852216  0.852216  0.852216       0.852216\n",
       "macro avg      0.882420  0.849222  0.848415  141044.000000\n",
       "weighted avg   0.880236  0.852216  0.848928  141044.000000"
      ]
     },
     "metadata": {},
     "output_type": "display_data"
    }
   ],
   "source": [
    "temp = stateful_df[(stateful_df[\"origin\"]==\"heavy-attack\")\n",
    "                  | (stateful_df[\"origin\"]==\"heavy-benign\")]\n",
    "display(pd.DataFrame(classification_report(temp[\"attack\"], temp[\"Predictions\"], output_dict=True)).T)"
   ]
  },
  {
   "cell_type": "code",
   "execution_count": 27,
   "id": "62e0bcc0",
   "metadata": {},
   "outputs": [
    {
     "data": {
      "text/plain": [
       "only-benign     86998\n",
       "heavy-attack    72028\n",
       "heavy-benign    69016\n",
       "light-benign    22768\n",
       "light-attack    11295\n",
       "Name: origin, dtype: int64"
      ]
     },
     "execution_count": 27,
     "metadata": {},
     "output_type": "execute_result"
    }
   ],
   "source": [
    "stateful_df.origin.value_counts()"
   ]
  },
  {
   "cell_type": "markdown",
   "id": "f9b81d62",
   "metadata": {},
   "source": [
    "# Two-step model"
   ]
  },
  {
   "cell_type": "code",
   "execution_count": 28,
   "id": "75b1f965",
   "metadata": {},
   "outputs": [],
   "source": [
    "WINDOW_SIZE=100\n",
    "SUSPICIOUS_THRESHOLD = 0.4\n",
    "ATTACK_THRESHOLD = 0.7"
   ]
  },
  {
   "cell_type": "code",
   "execution_count": 29,
   "id": "6435ffc1",
   "metadata": {},
   "outputs": [],
   "source": [
    "def two_step(stateless_df, stateful_df, is_light=True):\n",
    "    estimated_time = 0\n",
    "       \n",
    "    if is_light:\n",
    "        light_or_heavy_string = \"light\"\n",
    "    else:\n",
    "        light_or_heavy_string = \"heavy\"\n",
    "        \n",
    "    stateless_df_subset = stateless_df[stateless_df.origin.isin([light_or_heavy_string+\"-benign\", light_or_heavy_string+\"-attack\"])].reset_index()\n",
    "    stateless_df_subset[\"Final_two_step_prediction\"] = stateless_df_subset[\"Predictions\"]\n",
    "    stateful_df_subset = stateful_df[stateful_df.origin.isin([light_or_heavy_string+\"-benign\", light_or_heavy_string+\"-attack\"])].reset_index()\n",
    "    stateful_df_subset[\"Final_two_step_prediction\"] = stateful_df_subset[\"Predictions\"] \n",
    "    stateful_df_subset['unique_ttl'] = stateful_df_subset['unique_ttl'].apply(ast.literal_eval)\n",
    "    stateful_df_subset = stateful_df_subset.explode(\"unique_ttl\")\n",
    "\n",
    "    time_windows = []\n",
    "    attack_ratios = []\n",
    "\n",
    "    for i in range(0, stateless_df_subset.shape[0], WINDOW_SIZE):\n",
    "        current_data = stateless_df_subset.iloc[i:i+WINDOW_SIZE]\n",
    "        attack_ratio = (current_data[current_data[\"Predictions\"]==1].shape[0]/current_data.shape[0])\n",
    "        time_windows.append(i)\n",
    "        attack_ratios.append(attack_ratio)\n",
    "        estimated_time += (single_datapoint_evaluation_time_stateless * WINDOW_SIZE)\n",
    "        if attack_ratio >= ATTACK_THRESHOLD:\n",
    "            stateless_df_subset.loc[[i for i in range(i, min(i+WINDOW_SIZE, stateless_df_subset.shape[0]))], 'Final_two_step_prediction'] = 1\n",
    "        elif attack_ratio < SUSPICIOUS_THRESHOLD:\n",
    "            stateless_df_subset.loc[[i for i in range(i, min(i+WINDOW_SIZE, stateless_df_subset.shape[0]))], 'Final_two_step_prediction'] = 0\n",
    "        else:\n",
    "            estimated_time += (single_datapoint_evaluation_time_stateful * WINDOW_SIZE)\n",
    "            stateful_data_window = stateful_df_subset.iloc[i:i+WINDOW_SIZE]\n",
    "            stateful_attack_ratio = (stateful_data_window[stateful_data_window[\"Predictions\"]==1].shape[0]/stateful_data_window.shape[0])\n",
    "            if stateful_attack_ratio >= 0.5:\n",
    "                stateless_df_subset.loc[[i for i in range(i, min(i+WINDOW_SIZE, stateless_df_subset.shape[0]))], 'Final_two_step_prediction'] = 1\n",
    "            elif stateful_attack_ratio < 0.5:\n",
    "                stateless_df_subset.loc[[i for i in range(i, min(i+WINDOW_SIZE, stateless_df_subset.shape[0]))], 'Final_two_step_prediction'] = 0\n",
    "\n",
    "    plt.plot(time_windows, attack_ratios)\n",
    "    plt.title(\"Stateless attack ratio over the 100-datapoint windows\")\n",
    "    plt.show()\n",
    "    display(pd.DataFrame(classification_report(stateless_df_subset[\"attack\"], stateless_df_subset[\"Final_two_step_prediction\"], output_dict=True)).T)\n",
    "    print(\"Total Estimated Time: \", estimated_time)\n",
    "    print(f\"Within this time, at least {exfiltration_data_size(estimated_time, stateless_df_subset, is_light=is_light):.6f} MB of data could have been exfiltrated\")"
   ]
  },
  {
   "cell_type": "markdown",
   "id": "32ffcb53",
   "metadata": {},
   "source": [
    "## Light attack"
   ]
  },
  {
   "cell_type": "code",
   "execution_count": 30,
   "id": "d23bdbfa",
   "metadata": {
    "scrolled": true
   },
   "outputs": [
    {
     "data": {
      "image/png": "[encoded data removed]",
      "text/plain": [
       "<Figure size 432x288 with 1 Axes>"
      ]
     },
     "metadata": {
      "needs_background": "light"
     },
     "output_type": "display_data"
    },
    {
     "data": {
      "text/html": [
       "<div>\n",
       "<style scoped>\n",
       "    .dataframe tbody tr th:only-of-type {\n",
       "        vertical-align: middle;\n",
       "    }\n",
       "\n",
       "    .dataframe tbody tr th {\n",
       "        vertical-align: top;\n",
       "    }\n",
       "\n",
       "    .dataframe thead th {\n",
       "        text-align: right;\n",
       "    }\n",
       "</style>\n",
       "<table border=\"1\" class=\"dataframe\">\n",
       "  <thead>\n",
       "    <tr style=\"text-align: right;\">\n",
       "      <th></th>\n",
       "      <th>precision</th>\n",
       "      <th>recall</th>\n",
       "      <th>f1-score</th>\n",
       "      <th>support</th>\n",
       "    </tr>\n",
       "  </thead>\n",
       "  <tbody>\n",
       "    <tr>\n",
       "      <th>0</th>\n",
       "      <td>1.000000</td>\n",
       "      <td>0.946897</td>\n",
       "      <td>0.972724</td>\n",
       "      <td>60091.000000</td>\n",
       "    </tr>\n",
       "    <tr>\n",
       "      <th>1</th>\n",
       "      <td>0.930440</td>\n",
       "      <td>1.000000</td>\n",
       "      <td>0.963967</td>\n",
       "      <td>42683.000000</td>\n",
       "    </tr>\n",
       "    <tr>\n",
       "      <th>accuracy</th>\n",
       "      <td>0.968951</td>\n",
       "      <td>0.968951</td>\n",
       "      <td>0.968951</td>\n",
       "      <td>0.968951</td>\n",
       "    </tr>\n",
       "    <tr>\n",
       "      <th>macro avg</th>\n",
       "      <td>0.965220</td>\n",
       "      <td>0.973449</td>\n",
       "      <td>0.968346</td>\n",
       "      <td>102774.000000</td>\n",
       "    </tr>\n",
       "    <tr>\n",
       "      <th>weighted avg</th>\n",
       "      <td>0.971111</td>\n",
       "      <td>0.968951</td>\n",
       "      <td>0.969087</td>\n",
       "      <td>102774.000000</td>\n",
       "    </tr>\n",
       "  </tbody>\n",
       "</table>\n",
       "</div>"
      ],
      "text/plain": [
       "              precision    recall  f1-score        support\n",
       "0              1.000000  0.946897  0.972724   60091.000000\n",
       "1              0.930440  1.000000  0.963967   42683.000000\n",
       "accuracy       0.968951  0.968951  0.968951       0.968951\n",
       "macro avg      0.965220  0.973449  0.968346  102774.000000\n",
       "weighted avg   0.971111  0.968951  0.969087  102774.000000"
      ]
     },
     "metadata": {},
     "output_type": "display_data"
    },
    {
     "name": "stdout",
     "output_type": "stream",
     "text": [
      "Total Estimated Time:  0.6038997575930324\n",
      "2.1421067989495186\n",
      "Within this time, at least 0.001046 MB of data could have been exfiltrated\n"
     ]
    }
   ],
   "source": [
    "two_step(stateless_df, stateful_df, is_light=True)"
   ]
  },
  {
   "cell_type": "markdown",
   "id": "36eee997",
   "metadata": {},
   "source": [
    "## Heavy attack"
   ]
  },
  {
   "cell_type": "code",
   "execution_count": 31,
   "id": "4f99b9bd",
   "metadata": {},
   "outputs": [
    {
     "data": {
      "image/png": "[encoded data removed]",
      "text/plain": [
       "<Figure size 432x288 with 1 Axes>"
      ]
     },
     "metadata": {
      "needs_background": "light"
     },
     "output_type": "display_data"
    },
    {
     "data": {
      "text/html": [
       "<div>\n",
       "<style scoped>\n",
       "    .dataframe tbody tr th:only-of-type {\n",
       "        vertical-align: middle;\n",
       "    }\n",
       "\n",
       "    .dataframe tbody tr th {\n",
       "        vertical-align: top;\n",
       "    }\n",
       "\n",
       "    .dataframe thead th {\n",
       "        text-align: right;\n",
       "    }\n",
       "</style>\n",
       "<table border=\"1\" class=\"dataframe\">\n",
       "  <thead>\n",
       "    <tr style=\"text-align: right;\">\n",
       "      <th></th>\n",
       "      <th>precision</th>\n",
       "      <th>recall</th>\n",
       "      <th>f1-score</th>\n",
       "      <th>support</th>\n",
       "    </tr>\n",
       "  </thead>\n",
       "  <tbody>\n",
       "    <tr>\n",
       "      <th>0</th>\n",
       "      <td>1.000000</td>\n",
       "      <td>0.928484</td>\n",
       "      <td>0.962916</td>\n",
       "      <td>181694.000000</td>\n",
       "    </tr>\n",
       "    <tr>\n",
       "      <th>1</th>\n",
       "      <td>0.950904</td>\n",
       "      <td>1.000000</td>\n",
       "      <td>0.974834</td>\n",
       "      <td>251670.000000</td>\n",
       "    </tr>\n",
       "    <tr>\n",
       "      <th>accuracy</th>\n",
       "      <td>0.970016</td>\n",
       "      <td>0.970016</td>\n",
       "      <td>0.970016</td>\n",
       "      <td>0.970016</td>\n",
       "    </tr>\n",
       "    <tr>\n",
       "      <th>macro avg</th>\n",
       "      <td>0.975452</td>\n",
       "      <td>0.964242</td>\n",
       "      <td>0.968875</td>\n",
       "      <td>433364.000000</td>\n",
       "    </tr>\n",
       "    <tr>\n",
       "      <th>weighted avg</th>\n",
       "      <td>0.971488</td>\n",
       "      <td>0.970016</td>\n",
       "      <td>0.969837</td>\n",
       "      <td>433364.000000</td>\n",
       "    </tr>\n",
       "  </tbody>\n",
       "</table>\n",
       "</div>"
      ],
      "text/plain": [
       "              precision    recall  f1-score        support\n",
       "0              1.000000  0.928484  0.962916  181694.000000\n",
       "1              0.950904  1.000000  0.974834  251670.000000\n",
       "accuracy       0.970016  0.970016  0.970016       0.970016\n",
       "macro avg      0.975452  0.964242  0.968875  433364.000000\n",
       "weighted avg   0.971488  0.970016  0.969837  433364.000000"
      ]
     },
     "metadata": {},
     "output_type": "display_data"
    },
    {
     "name": "stdout",
     "output_type": "stream",
     "text": [
      "Total Estimated Time:  2.259655900476174\n",
      "9.714067963776563\n",
      "Within this time, at least 0.012050 MB of data could have been exfiltrated\n"
     ]
    }
   ],
   "source": [
    "two_step(stateless_df, stateful_df, is_light=False)"
   ]
  },
  {
   "cell_type": "markdown",
   "id": "8d0a812a",
   "metadata": {},
   "source": [
    "Some potentially useful libraries we could use:\n",
    "https://github.com/irvinhomem/TunnelFeatureExtractor\n",
    "https://github.com/lucadivit/Pcap_Features_Extraction"
   ]
  },
  {
   "cell_type": "markdown",
   "id": "791883e6",
   "metadata": {},
   "source": [
    "# Saving the stateless and stateful models by training on all the data, in order to evaluate on the robustness queries:"
   ]
  },
  {
   "cell_type": "markdown",
   "id": "25f3471e",
   "metadata": {},
   "source": [
    "## Stateless"
   ]
  },
  {
   "cell_type": "code",
   "execution_count": 39,
   "id": "dd4721c8",
   "metadata": {},
   "outputs": [
    {
     "name": "stderr",
     "output_type": "stream",
     "text": [
      "D:\\Python 3.10\\lib\\site-packages\\sklearn\\linear_model\\_logistic.py:444: ConvergenceWarning: lbfgs failed to converge (status=1):\n",
      "STOP: TOTAL NO. of ITERATIONS REACHED LIMIT.\n",
      "\n",
      "Increase the number of iterations (max_iter) or scale the data as shown in:\n",
      "    https://scikit-learn.org/stable/modules/preprocessing.html\n",
      "Please also refer to the documentation for alternative solver options:\n",
      "    https://scikit-learn.org/stable/modules/linear_model.html#logistic-regression\n",
      "  n_iter_i = _check_optimize_result(\n"
     ]
    },
    {
     "data": {
      "text/plain": [
       "['lr_baseline_model.pkl']"
      ]
     },
     "execution_count": 39,
     "metadata": {},
     "output_type": "execute_result"
    }
   ],
   "source": [
    "\n",
    "\n",
    "\n",
    "X = stateless_df[[col for col in stateless_df.columns if col not in [\"timestamp\", \"attack\", \"origin\", \"data_type\", \"original_index\", \"Predictions\"]]]\n",
    "y = stateless_df[\"attack\"]\n",
    "\n",
    "\n",
    "\n",
    "category_pipeline = ColumnTransformer(\n",
    "[\n",
    " #('ordinal_encoder', OrdinalEncoder(handle_unknown=\"use_encoded_value\", unknown_value=-1), [\"longest_word\", \"sld\"]),\n",
    "    ('onehot_encoder', OneHotEncoder(handle_unknown=\"ignore\"), [\"longest_word\", \"sld\"]),\n",
    " ('scaler', StandardScaler(), [col for col in X if col not in [\"longest_word\", \"sld\"]])\n",
    " ]\n",
    ")\n",
    "\n",
    "pipe = Pipeline([\n",
    "    ('lr', LogisticRegression(random_state=0, max_iter=500))\n",
    "])    \n",
    "pipe.fit(category_pipeline.fit_transform(X), y)\n",
    "joblib.dump(category_pipeline, \"lr_baseline_column_transformer.pkl\")\n",
    "joblib.dump(pipe, 'lr_baseline_model.pkl')\n",
    "\n"
   ]
  },
  {
   "cell_type": "code",
   "execution_count": null,
   "id": "4a7697ee",
   "metadata": {},
   "outputs": [],
   "source": []
  }
 ],
 "metadata": {
  "kernelspec": {
   "display_name": "Python 3 (ipykernel)",
   "language": "python",
   "name": "python3"
  },
  "language_info": {
   "codemirror_mode": {
    "name": "ipython",
    "version": 3
   },
   "file_extension": ".py",
   "mimetype": "text/x-python",
   "name": "python",
   "nbconvert_exporter": "python",
   "pygments_lexer": "ipython3",
   "version": "3.10.4"
  }
 },
 "nbformat": 4,
 "nbformat_minor": 5
}
