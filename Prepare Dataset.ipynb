{
 "cells": [
  {
   "cell_type": "code",
   "execution_count": 1,
   "id": "e39e9ab8",
   "metadata": {},
   "outputs": [],
   "source": [
    "import pandas as pd\n",
    "import glob\n",
    "import ast \n",
    "import os\n"
   ]
  },
  {
   "cell_type": "code",
   "execution_count": 2,
   "id": "9810026f",
   "metadata": {},
   "outputs": [],
   "source": [
    "CSV_DIRECTORY = \"/Data/CICDataset/CICBellEXFDNS2021/Dataset/CSV\"\n",
    "BENIGN_DIRECTORY = \"/Benign\"\n",
    "LIGHT_ATTACK_DIRECTORY = \"/Attack_Light_Benign/Attacks\"\n",
    "LIGHT_BENIGN_DIRECTORY = \"/Attack_Light_Benign/Benign\"\n",
    "HEAVY_ATTACK_DIRECTORY = \"/Attack_Heavy_Benign/Attacks\"\n",
    "HEAVY_BENIGN_DIRECTORY = \"/Attack_Heavy_Benign/Benign\"\n",
    "DATA_TYPE_CATEGORIES = [\"audio\", \"compressed\", \"exe\", \"image\", \"text\", \"video\"]\n",
    "STATEFUL_PREFIX = \"/stateful_features-\"\n",
    "STATELESS_PREFIX = \"/stateless_features-\"\n",
    "directories = {\"benign\": BENIGN_DIRECTORY,\n",
    "              \"light\": {\"attack\": LIGHT_ATTACK_DIRECTORY, \"benign\": LIGHT_BENIGN_DIRECTORY},\n",
    "              \"heavy\": {\"attack\": HEAVY_ATTACK_DIRECTORY, \"benign\": HEAVY_BENIGN_DIRECTORY}}"
   ]
  },
  {
   "cell_type": "code",
   "execution_count": 3,
   "id": "71c7c0c7",
   "metadata": {},
   "outputs": [],
   "source": [
    "path = os.getcwd()\n",
    "benign_csv_files = glob.glob(os.path.join(path+CSV_DIRECTORY+BENIGN_DIRECTORY, \"*.csv\"))\n",
    "light_attack_csv_files = glob.glob(os.path.join(path+CSV_DIRECTORY+LIGHT_ATTACK_DIRECTORY, \"*.csv\"))\n",
    "light_benign_csv_files = glob.glob(os.path.join(path+CSV_DIRECTORY+LIGHT_BENIGN_DIRECTORY, \"*.csv\"))\n",
    "heavy_attack_csv_files = glob.glob(os.path.join(path+CSV_DIRECTORY+HEAVY_ATTACK_DIRECTORY, \"*.csv\"))\n",
    "heavy_benign_csv_files = glob.glob(os.path.join(path+CSV_DIRECTORY+HEAVY_BENIGN_DIRECTORY, \"*.csv\"))\n"
   ]
  },
  {
   "cell_type": "code",
   "execution_count": 4,
   "id": "2539d5b1",
   "metadata": {},
   "outputs": [
    {
     "data": {
      "text/plain": [
       "24"
      ]
     },
     "execution_count": 4,
     "metadata": {},
     "output_type": "execute_result"
    }
   ],
   "source": [
    "# code to create data for ensemble model\n",
    "\n",
    "all_attack_files = []\n",
    "all_attack_files.extend(light_attack_csv_files)\n",
    "all_attack_files.extend(heavy_attack_csv_files)\n",
    "\n",
    "len(all_attack_files)"
   ]
  },
  {
   "cell_type": "code",
   "execution_count": 5,
   "id": "17f92063",
   "metadata": {},
   "outputs": [],
   "source": [
    "def read_benign_files(benign_csv_files):\n",
    "    stateless_df_list = []\n",
    "    stateful_df_list = []\n",
    "    for f in benign_csv_files:\n",
    "        df = pd.read_csv(f)\n",
    "        df[\"original_index\"] = df.index\n",
    "        df[\"data_type\"] = \"benign\"\n",
    "        df[\"attack\"] = 0\n",
    "        \n",
    "        if \"light\" in f:\n",
    "            df[\"origin\"] = \"light-benign\"\n",
    "        elif \"heavy\" in f:\n",
    "            df[\"origin\"] = \"heavy-benign\"\n",
    "        else:\n",
    "            df[\"origin\"] = \"only-benign\"\n",
    "            \n",
    "        if \"stateless\" in f:        \n",
    "            stateless_df_list.append(df)\n",
    "        else:\n",
    "            stateful_df_list.append(df)\n",
    "    benign_stateless_df = pd.concat(stateless_df_list)\n",
    "    benign_stateful_df = pd.concat(stateful_df_list) \n",
    "    return benign_stateless_df, benign_stateful_df"
   ]
  },
  {
   "cell_type": "code",
   "execution_count": 6,
   "id": "39e66995",
   "metadata": {},
   "outputs": [],
   "source": [
    "benign_stateless_df, benign_stateful_df = read_benign_files(benign_csv_files)\n",
    "light_benign_stateless_df, light_benign_stateful_df = read_benign_files(light_benign_csv_files)\n",
    "heavy_benign_stateless_df, heavy_benign_stateful_df = read_benign_files(heavy_benign_csv_files)"
   ]
  },
  {
   "cell_type": "code",
   "execution_count": 7,
   "id": "3f27cb62",
   "metadata": {},
   "outputs": [],
   "source": [
    "def read_attack_files(attack_csv_files):\n",
    "    stateless_df_list = []\n",
    "    stateful_df_list = []\n",
    "    for f in attack_csv_files:\n",
    "        for data_type in DATA_TYPE_CATEGORIES:\n",
    "            if \"stateless\" in f and data_type in f:\n",
    "                df = pd.read_csv(f)\n",
    "                df[\"data_type\"] = data_type\n",
    "                df[\"original_index\"] = df.index\n",
    "                if \"heavy\" in f:\n",
    "                    df[\"origin\"] = \"heavy-attack\"\n",
    "                else:\n",
    "                    df[\"origin\"] = \"light-attack\"\n",
    "                df[\"attack\"] = 1\n",
    "                stateless_df_list.append(df)                \n",
    "            elif \"stateful\" in f and data_type in f:\n",
    "                df = pd.read_csv(f)\n",
    "                df[\"data_type\"] = data_type\n",
    "                df[\"original_index\"] = df.index\n",
    "                df[\"attack\"] = 1\n",
    "                if \"heavy\" in f:\n",
    "                    df[\"origin\"] = \"heavy-attack\"\n",
    "                else:\n",
    "                    df[\"origin\"] = \"light-attack\"\n",
    "                stateful_df_list.append(df)\n",
    "    attack_stateless_df = pd.concat(stateless_df_list)\n",
    "    attack_stateful_df = pd.concat(stateful_df_list) \n",
    "\n",
    "    return attack_stateless_df, attack_stateful_df"
   ]
  },
  {
   "cell_type": "code",
   "execution_count": 8,
   "id": "4da68132",
   "metadata": {},
   "outputs": [],
   "source": [
    "light_attack_stateless_df, light_attack_stateful_df = read_attack_files(light_attack_csv_files)\n",
    "heavy_attack_stateless_df, heavy_attack_stateful_df = read_attack_files(heavy_attack_csv_files)"
   ]
  },
  {
   "cell_type": "code",
   "execution_count": 9,
   "id": "6cca1ff0",
   "metadata": {},
   "outputs": [
    {
     "data": {
      "text/plain": [
       "((69016, 31), (22768, 31), (86998, 31), (72028, 31), (11295, 31))"
      ]
     },
     "execution_count": 9,
     "metadata": {},
     "output_type": "execute_result"
    }
   ],
   "source": [
    "heavy_benign_stateful_df.shape, light_benign_stateful_df.shape, benign_stateful_df.shape, heavy_attack_stateful_df.shape,light_attack_stateful_df.shape"
   ]
  },
  {
   "cell_type": "code",
   "execution_count": 10,
   "id": "167199ff",
   "metadata": {},
   "outputs": [
    {
     "data": {
      "text/plain": [
       "((181694, 19), (60091, 19), (221073, 19), (251670, 19), (42683, 19))"
      ]
     },
     "execution_count": 10,
     "metadata": {},
     "output_type": "execute_result"
    }
   ],
   "source": [
    "heavy_benign_stateless_df.shape, light_benign_stateless_df.shape, benign_stateless_df.shape, heavy_attack_stateless_df.shape,light_attack_stateless_df.shape"
   ]
  },
  {
   "cell_type": "markdown",
   "id": "573c471c",
   "metadata": {},
   "source": [
    "# Prepare the combined dataframes"
   ]
  },
  {
   "cell_type": "code",
   "execution_count": 11,
   "id": "09e9a742",
   "metadata": {},
   "outputs": [],
   "source": [
    "stateless_df = pd.concat([\n",
    "    benign_stateless_df,\n",
    "light_benign_stateless_df,\n",
    "heavy_benign_stateless_df,\n",
    "    light_attack_stateless_df,\n",
    "heavy_attack_stateless_df\n",
    "])\n",
    "stateful_df = pd.concat([\n",
    "    benign_stateful_df,\n",
    "light_benign_stateful_df,\n",
    "heavy_benign_stateful_df,\n",
    "    light_attack_stateful_df,\n",
    "heavy_attack_stateful_df\n",
    "])"
   ]
  },
  {
   "cell_type": "code",
   "execution_count": 13,
   "id": "146fdc76",
   "metadata": {},
   "outputs": [],
   "source": [
    "stateful_df.to_csv(\"Data/Prepared Data/stateful.csv\", index=None)\n",
    "stateless_df.to_csv(\"Data/Prepared Data/stateless.csv\", index=None)"
   ]
  }
 ],
 "metadata": {
  "kernelspec": {
   "display_name": "Python 3 (ipykernel)",
   "language": "python",
   "name": "python3"
  },
  "language_info": {
   "codemirror_mode": {
    "name": "ipython",
    "version": 3
   },
   "file_extension": ".py",
   "mimetype": "text/x-python",
   "name": "python",
   "nbconvert_exporter": "python",
   "pygments_lexer": "ipython3",
   "version": "3.10.4"
  },
  "vscode": {
   "interpreter": {
    "hash": "31f2aee4e71d21fbe5cf8b01ff0e069b9275f58929596ceb00d14d90e3e16cd6"
   }
  }
 },
 "nbformat": 4,
 "nbformat_minor": 5
}
