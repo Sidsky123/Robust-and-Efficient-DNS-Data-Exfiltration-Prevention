{
 "cells": [
  {
   "cell_type": "code",
   "execution_count": 1,
   "id": "c0502e58",
   "metadata": {},
   "outputs": [],
   "source": [
    "import pandas as pd\n",
    "import math\n",
    "from statistics import mean\n",
    "from math import log\n",
    "import joblib\n",
    "import warnings\n",
    "import time\n",
    "from sklearn.compose import ColumnTransformer\n",
    "from sklearn.preprocessing import OrdinalEncoder, StandardScaler\n",
    "from sklearn.metrics import classification_report,  RocCurveDisplay\n",
    "from sklearn.model_selection import StratifiedKFold\n",
    "from sklearn.linear_model import LogisticRegression\n",
    "from sklearn.ensemble import RandomForestClassifier\n",
    "import matplotlib.pyplot as plt\n",
    "\n",
    "from sklearn.pipeline import Pipeline\n",
    "from tqdm import tqdm\n",
    "from IPython.display import display\n",
    "tqdm.pandas()\n",
    "plt.style.use('seaborn-darkgrid')\n",
    "warnings.filterwarnings('always')\n",
    "warnings.simplefilter(\"always\")\n",
    "warnings.filterwarnings(\"ignore\", category=DeprecationWarning)\n",
    "warnings.filterwarnings(\"ignore\", category=UserWarning)"
   ]
  },
  {
   "cell_type": "code",
   "execution_count": 2,
   "id": "1e5ab5b4",
   "metadata": {},
   "outputs": [],
   "source": [
    "df = pd.read_csv(\"Data/Data for Malware Query Generation/output.csv\")"
   ]
  },
  {
   "cell_type": "code",
   "execution_count": 3,
   "id": "ea7347df",
   "metadata": {},
   "outputs": [
    {
     "data": {
      "text/html": [
       "<div>\n",
       "<style scoped>\n",
       "    .dataframe tbody tr th:only-of-type {\n",
       "        vertical-align: middle;\n",
       "    }\n",
       "\n",
       "    .dataframe tbody tr th {\n",
       "        vertical-align: top;\n",
       "    }\n",
       "\n",
       "    .dataframe thead th {\n",
       "        text-align: right;\n",
       "    }\n",
       "</style>\n",
       "<table border=\"1\" class=\"dataframe\">\n",
       "  <thead>\n",
       "    <tr style=\"text-align: right;\">\n",
       "      <th></th>\n",
       "      <th>cardno</th>\n",
       "      <th>encode</th>\n",
       "      <th>attack</th>\n",
       "      <th>data_combined</th>\n",
       "    </tr>\n",
       "  </thead>\n",
       "  <tbody>\n",
       "    <tr>\n",
       "      <th>0</th>\n",
       "      <td>8.638540e+15</td>\n",
       "      <td>cac4c1cac7c6c2c5c1c4c1c3cac3cbc4</td>\n",
       "      <td>1</td>\n",
       "      <td>cac4c1cac7c6c2c5c1c4c1c3cac3cbc4.trtsport.cz</td>\n",
       "    </tr>\n",
       "    <tr>\n",
       "      <th>1</th>\n",
       "      <td>7.106420e+15</td>\n",
       "      <td>c5c3c2c4c6c0c1cbc5c2cbc1c3c7c3c7</td>\n",
       "      <td>1</td>\n",
       "      <td>c5c3c2c4c6c0c1cbc5c2cbc1c3c7c3c7.trtsport.cz</td>\n",
       "    </tr>\n",
       "    <tr>\n",
       "      <th>2</th>\n",
       "      <td>6.492570e+15</td>\n",
       "      <td>c4c6cbc0c7c4c7c7cac0c6c3c1c7c1c2</td>\n",
       "      <td>1</td>\n",
       "      <td>c4c6cbc0c7c4c7c7cac0c6c3c1c7c1c2.trtsport.cz</td>\n",
       "    </tr>\n",
       "    <tr>\n",
       "      <th>3</th>\n",
       "      <td>2.868560e+15</td>\n",
       "      <td>c0cac4cac7c4c2c4c7c3c7c0c7c5c2c4</td>\n",
       "      <td>1</td>\n",
       "      <td>c0cac4cac7c4c2c4c7c3c7c0c7c5c2c4.trtsport.cz</td>\n",
       "    </tr>\n",
       "    <tr>\n",
       "      <th>4</th>\n",
       "      <td>1.438690e+15</td>\n",
       "      <td>c3c6c1cac4cbc2c4c0c7c2cbcac0c3cb</td>\n",
       "      <td>1</td>\n",
       "      <td>c3c6c1cac4cbc2c4c0c7c2cbcac0c3cb.trtsport.cz</td>\n",
       "    </tr>\n",
       "    <tr>\n",
       "      <th>...</th>\n",
       "      <td>...</td>\n",
       "      <td>...</td>\n",
       "      <td>...</td>\n",
       "      <td>...</td>\n",
       "    </tr>\n",
       "    <tr>\n",
       "      <th>396</th>\n",
       "      <td>3.168660e+15</td>\n",
       "      <td>c7cbc5cacac6c6cbc3c3c1cbc6c7c4c7</td>\n",
       "      <td>1</td>\n",
       "      <td>c7cbc5cacac6c6cbc3c3c1cbc6c7c4c7.energy-utama.com</td>\n",
       "    </tr>\n",
       "    <tr>\n",
       "      <th>397</th>\n",
       "      <td>4.012780e+15</td>\n",
       "      <td>c6c2c3c0c5c5c5c6c4c4cbc2c5c2c7c2</td>\n",
       "      <td>1</td>\n",
       "      <td>c6c2c3c0c5c5c5c6c4c4cbc2c5c2c7c2.energy-utama.com</td>\n",
       "    </tr>\n",
       "    <tr>\n",
       "      <th>398</th>\n",
       "      <td>7.677590e+15</td>\n",
       "      <td>c5c4c5c5c7cbc1c5c0c4c5c3c1c4cac2</td>\n",
       "      <td>1</td>\n",
       "      <td>c5c4c5c5c7cbc1c5c0c4c5c3c1c4cac2.energy-utama.com</td>\n",
       "    </tr>\n",
       "    <tr>\n",
       "      <th>399</th>\n",
       "      <td>9.458110e+15</td>\n",
       "      <td>c6c2c6c2c5c6c4c6c6c2c2c2a1c6c6c5</td>\n",
       "      <td>1</td>\n",
       "      <td>c6c2c6c2c5c6c4c6c6c2c2c2a1c6c6c5.energy-utama.com</td>\n",
       "    </tr>\n",
       "    <tr>\n",
       "      <th>400</th>\n",
       "      <td>5.583980e+15</td>\n",
       "      <td>c6c2c6c2c5c6c4c6c7c2c2c2c1c6c6ca</td>\n",
       "      <td>1</td>\n",
       "      <td>c6c2c6c2c5c6c4c6c7c2c2c2c1c6c6ca.energy-utama.com</td>\n",
       "    </tr>\n",
       "  </tbody>\n",
       "</table>\n",
       "<p>401 rows × 4 columns</p>\n",
       "</div>"
      ],
      "text/plain": [
       "           cardno                            encode  attack  \\\n",
       "0    8.638540e+15  cac4c1cac7c6c2c5c1c4c1c3cac3cbc4       1   \n",
       "1    7.106420e+15  c5c3c2c4c6c0c1cbc5c2cbc1c3c7c3c7       1   \n",
       "2    6.492570e+15  c4c6cbc0c7c4c7c7cac0c6c3c1c7c1c2       1   \n",
       "3    2.868560e+15  c0cac4cac7c4c2c4c7c3c7c0c7c5c2c4       1   \n",
       "4    1.438690e+15  c3c6c1cac4cbc2c4c0c7c2cbcac0c3cb       1   \n",
       "..            ...                               ...     ...   \n",
       "396  3.168660e+15  c7cbc5cacac6c6cbc3c3c1cbc6c7c4c7       1   \n",
       "397  4.012780e+15  c6c2c3c0c5c5c5c6c4c4cbc2c5c2c7c2       1   \n",
       "398  7.677590e+15  c5c4c5c5c7cbc1c5c0c4c5c3c1c4cac2       1   \n",
       "399  9.458110e+15  c6c2c6c2c5c6c4c6c6c2c2c2a1c6c6c5       1   \n",
       "400  5.583980e+15  c6c2c6c2c5c6c4c6c7c2c2c2c1c6c6ca       1   \n",
       "\n",
       "                                         data_combined  \n",
       "0         cac4c1cac7c6c2c5c1c4c1c3cac3cbc4.trtsport.cz  \n",
       "1         c5c3c2c4c6c0c1cbc5c2cbc1c3c7c3c7.trtsport.cz  \n",
       "2         c4c6cbc0c7c4c7c7cac0c6c3c1c7c1c2.trtsport.cz  \n",
       "3         c0cac4cac7c4c2c4c7c3c7c0c7c5c2c4.trtsport.cz  \n",
       "4         c3c6c1cac4cbc2c4c0c7c2cbcac0c3cb.trtsport.cz  \n",
       "..                                                 ...  \n",
       "396  c7cbc5cacac6c6cbc3c3c1cbc6c7c4c7.energy-utama.com  \n",
       "397  c6c2c3c0c5c5c5c6c4c4cbc2c5c2c7c2.energy-utama.com  \n",
       "398  c5c4c5c5c7cbc1c5c0c4c5c3c1c4cac2.energy-utama.com  \n",
       "399  c6c2c6c2c5c6c4c6c6c2c2c2a1c6c6c5.energy-utama.com  \n",
       "400  c6c2c6c2c5c6c4c6c7c2c2c2c1c6c6ca.energy-utama.com  \n",
       "\n",
       "[401 rows x 4 columns]"
      ]
     },
     "execution_count": 3,
     "metadata": {},
     "output_type": "execute_result"
    }
   ],
   "source": [
    "df"
   ]
  },
  {
   "cell_type": "code",
   "execution_count": 4,
   "id": "bd3fc0e1",
   "metadata": {},
   "outputs": [
    {
     "data": {
      "text/html": [
       "<div>\n",
       "<style scoped>\n",
       "    .dataframe tbody tr th:only-of-type {\n",
       "        vertical-align: middle;\n",
       "    }\n",
       "\n",
       "    .dataframe tbody tr th {\n",
       "        vertical-align: top;\n",
       "    }\n",
       "\n",
       "    .dataframe thead th {\n",
       "        text-align: right;\n",
       "    }\n",
       "</style>\n",
       "<table border=\"1\" class=\"dataframe\">\n",
       "  <thead>\n",
       "    <tr style=\"text-align: right;\">\n",
       "      <th></th>\n",
       "      <th>data_combined</th>\n",
       "      <th>attack</th>\n",
       "    </tr>\n",
       "  </thead>\n",
       "  <tbody>\n",
       "    <tr>\n",
       "      <th>0</th>\n",
       "      <td>cac4c1cac7c6c2c5c1c4c1c3cac3cbc4.trtsport.cz</td>\n",
       "      <td>1</td>\n",
       "    </tr>\n",
       "    <tr>\n",
       "      <th>1</th>\n",
       "      <td>c5c3c2c4c6c0c1cbc5c2cbc1c3c7c3c7.trtsport.cz</td>\n",
       "      <td>1</td>\n",
       "    </tr>\n",
       "    <tr>\n",
       "      <th>2</th>\n",
       "      <td>c4c6cbc0c7c4c7c7cac0c6c3c1c7c1c2.trtsport.cz</td>\n",
       "      <td>1</td>\n",
       "    </tr>\n",
       "    <tr>\n",
       "      <th>3</th>\n",
       "      <td>c0cac4cac7c4c2c4c7c3c7c0c7c5c2c4.trtsport.cz</td>\n",
       "      <td>1</td>\n",
       "    </tr>\n",
       "    <tr>\n",
       "      <th>4</th>\n",
       "      <td>c3c6c1cac4cbc2c4c0c7c2cbcac0c3cb.trtsport.cz</td>\n",
       "      <td>1</td>\n",
       "    </tr>\n",
       "    <tr>\n",
       "      <th>...</th>\n",
       "      <td>...</td>\n",
       "      <td>...</td>\n",
       "    </tr>\n",
       "    <tr>\n",
       "      <th>396</th>\n",
       "      <td>c7cbc5cacac6c6cbc3c3c1cbc6c7c4c7.energy-utama.com</td>\n",
       "      <td>1</td>\n",
       "    </tr>\n",
       "    <tr>\n",
       "      <th>397</th>\n",
       "      <td>c6c2c3c0c5c5c5c6c4c4cbc2c5c2c7c2.energy-utama.com</td>\n",
       "      <td>1</td>\n",
       "    </tr>\n",
       "    <tr>\n",
       "      <th>398</th>\n",
       "      <td>c5c4c5c5c7cbc1c5c0c4c5c3c1c4cac2.energy-utama.com</td>\n",
       "      <td>1</td>\n",
       "    </tr>\n",
       "    <tr>\n",
       "      <th>399</th>\n",
       "      <td>c6c2c6c2c5c6c4c6c6c2c2c2a1c6c6c5.energy-utama.com</td>\n",
       "      <td>1</td>\n",
       "    </tr>\n",
       "    <tr>\n",
       "      <th>400</th>\n",
       "      <td>c6c2c6c2c5c6c4c6c7c2c2c2c1c6c6ca.energy-utama.com</td>\n",
       "      <td>1</td>\n",
       "    </tr>\n",
       "  </tbody>\n",
       "</table>\n",
       "<p>401 rows × 2 columns</p>\n",
       "</div>"
      ],
      "text/plain": [
       "                                         data_combined  attack\n",
       "0         cac4c1cac7c6c2c5c1c4c1c3cac3cbc4.trtsport.cz       1\n",
       "1         c5c3c2c4c6c0c1cbc5c2cbc1c3c7c3c7.trtsport.cz       1\n",
       "2         c4c6cbc0c7c4c7c7cac0c6c3c1c7c1c2.trtsport.cz       1\n",
       "3         c0cac4cac7c4c2c4c7c3c7c0c7c5c2c4.trtsport.cz       1\n",
       "4         c3c6c1cac4cbc2c4c0c7c2cbcac0c3cb.trtsport.cz       1\n",
       "..                                                 ...     ...\n",
       "396  c7cbc5cacac6c6cbc3c3c1cbc6c7c4c7.energy-utama.com       1\n",
       "397  c6c2c3c0c5c5c5c6c4c4cbc2c5c2c7c2.energy-utama.com       1\n",
       "398  c5c4c5c5c7cbc1c5c0c4c5c3c1c4cac2.energy-utama.com       1\n",
       "399  c6c2c6c2c5c6c4c6c6c2c2c2a1c6c6c5.energy-utama.com       1\n",
       "400  c6c2c6c2c5c6c4c6c7c2c2c2c1c6c6ca.energy-utama.com       1\n",
       "\n",
       "[401 rows x 2 columns]"
      ]
     },
     "execution_count": 4,
     "metadata": {},
     "output_type": "execute_result"
    }
   ],
   "source": [
    "df['data_combined']\n",
    "df_queries=pd.DataFrame(df[['data_combined','attack']])\n",
    "df_queries"
   ]
  },
  {
   "cell_type": "code",
   "execution_count": 5,
   "id": "0397b2a6",
   "metadata": {
    "scrolled": false
   },
   "outputs": [
    {
     "data": {
      "text/html": [
       "<div>\n",
       "<style scoped>\n",
       "    .dataframe tbody tr th:only-of-type {\n",
       "        vertical-align: middle;\n",
       "    }\n",
       "\n",
       "    .dataframe tbody tr th {\n",
       "        vertical-align: top;\n",
       "    }\n",
       "\n",
       "    .dataframe thead th {\n",
       "        text-align: right;\n",
       "    }\n",
       "</style>\n",
       "<table border=\"1\" class=\"dataframe\">\n",
       "  <thead>\n",
       "    <tr style=\"text-align: right;\">\n",
       "      <th></th>\n",
       "      <th>cardno</th>\n",
       "      <th>encode</th>\n",
       "      <th>attack</th>\n",
       "      <th>data_combined</th>\n",
       "    </tr>\n",
       "  </thead>\n",
       "  <tbody>\n",
       "    <tr>\n",
       "      <th>261</th>\n",
       "      <td>7.633800e+15</td>\n",
       "      <td>c6c5c2c1c6cac2c2c1c6c6c1c4cac0c2</td>\n",
       "      <td>1</td>\n",
       "      <td>c6c5c2c1c6cac2c2c1c6c6c1c4cac0c2.lakesideresor...</td>\n",
       "    </tr>\n",
       "    <tr>\n",
       "      <th>27</th>\n",
       "      <td>1.410960e+15</td>\n",
       "      <td>c3c6c3c2cbc4c0c0c4c2cbc0c1c6c6c7</td>\n",
       "      <td>1</td>\n",
       "      <td>c3c6c3c2cbc4c0c0c4c2cbc0c1c6c6c7.xo3fhvm5lcvzy...</td>\n",
       "    </tr>\n",
       "    <tr>\n",
       "      <th>396</th>\n",
       "      <td>3.168660e+15</td>\n",
       "      <td>c7cbc5cacac6c6cbc3c3c1cbc6c7c4c7</td>\n",
       "      <td>1</td>\n",
       "      <td>c7cbc5cacac6c6cbc3c3c1cbc6c7c4c7.energy-utama.com</td>\n",
       "    </tr>\n",
       "    <tr>\n",
       "      <th>258</th>\n",
       "      <td>6.085980e+15</td>\n",
       "      <td>cac4cbc3c1cbc1cbc3cac7cbc7cbc1c2</td>\n",
       "      <td>1</td>\n",
       "      <td>cac4cbc3c1cbc1cbc3cac7cbc7cbc1c2.didarmarket.com</td>\n",
       "    </tr>\n",
       "    <tr>\n",
       "      <th>54</th>\n",
       "      <td>7.665250e+15</td>\n",
       "      <td>c5c4c4c7c0c6c4cac4c3c7cac1c7c3c3</td>\n",
       "      <td>1</td>\n",
       "      <td>c5c4c4c7c0c6c4cac4c3c7cac1c7c3c3.christinelebe...</td>\n",
       "    </tr>\n",
       "  </tbody>\n",
       "</table>\n",
       "</div>"
      ],
      "text/plain": [
       "           cardno                            encode  attack  \\\n",
       "261  7.633800e+15  c6c5c2c1c6cac2c2c1c6c6c1c4cac0c2       1   \n",
       "27   1.410960e+15  c3c6c3c2cbc4c0c0c4c2cbc0c1c6c6c7       1   \n",
       "396  3.168660e+15  c7cbc5cacac6c6cbc3c3c1cbc6c7c4c7       1   \n",
       "258  6.085980e+15  cac4cbc3c1cbc1cbc3cac7cbc7cbc1c2       1   \n",
       "54   7.665250e+15  c5c4c4c7c0c6c4cac4c3c7cac1c7c3c3       1   \n",
       "\n",
       "                                         data_combined  \n",
       "261  c6c5c2c1c6cac2c2c1c6c6c1c4cac0c2.lakesideresor...  \n",
       "27   c3c6c3c2cbc4c0c0c4c2cbc0c1c6c6c7.xo3fhvm5lcvzy...  \n",
       "396  c7cbc5cacac6c6cbc3c3c1cbc6c7c4c7.energy-utama.com  \n",
       "258   cac4cbc3c1cbc1cbc3cac7cbc7cbc1c2.didarmarket.com  \n",
       "54   c5c4c4c7c0c6c4cac4c3c7cac1c7c3c3.christinelebe...  "
      ]
     },
     "execution_count": 5,
     "metadata": {},
     "output_type": "execute_result"
    }
   ],
   "source": [
    "df[df.attack==1].sample(5)"
   ]
  },
  {
   "cell_type": "markdown",
   "id": "f3259238",
   "metadata": {},
   "source": [
    "# Extracting all the required stateless features for the models by Mahdavifar et al."
   ]
  },
  {
   "cell_type": "code",
   "execution_count": 6,
   "id": "6f4f54f3",
   "metadata": {},
   "outputs": [
    {
     "name": "stderr",
     "output_type": "stream",
     "text": [
      "C:\\Users\\Romario\\AppData\\Local\\Temp\\ipykernel_16016\\4004518576.py:18: ResourceWarning: unclosed file <_io.TextIOWrapper name='.\\\\Data\\\\Other DNS Exfiltration Tools\\\\words-by-frequency.txt' mode='r' encoding='cp1252'>\n",
      "  words = open(\".\\Data\\Other DNS Exfiltration Tools\\words-by-frequency.txt\").read().split()\n",
      "ResourceWarning: Enable tracemalloc to get the object allocation traceback\n"
     ]
    }
   ],
   "source": [
    "# Code adapted from https://stackoverflow.com/questions/2979174/how-do-i-compute-the-approximate-entropy-of-a-bit-string\n",
    "\n",
    "def entropy(string):\n",
    "    \"Calculates the Shannon entropy of a string\"\n",
    "\n",
    "    # get probability of chars in string\n",
    "    prob = [ float(string.count(c)) / len(string) for c in dict.fromkeys(list(string)) ]\n",
    "\n",
    "    # calculate the entropy\n",
    "    entropy = - sum([ p * math.log(p) / math.log(2.0) for p in prob ])\n",
    "\n",
    "    return entropy\n",
    "\n",
    "\n",
    "# Code adapted from https://stackoverflow.com/questions/8870261/how-to-split-text-without-spaces-into-list-of-words\n",
    "# Build a cost dictionary, assuming Zipf's law and cost = -math.log(probability).\n",
    "\n",
    "words = open(\".\\Data\\Other DNS Exfiltration Tools\\words-by-frequency.txt\").read().split()\n",
    "wordcost = dict((k, log((i+1)*log(len(words)))) for i,k in enumerate(words))\n",
    "maxword = max(len(x) for x in words)\n",
    "def infer_spaces(s):\n",
    "    \"\"\"Uses dynamic programming to infer the location of spaces in a string\n",
    "    without spaces.\"\"\"\n",
    "\n",
    "    # Find the best match for the i first characters, assuming cost has\n",
    "    # been built for the i-1 first characters.\n",
    "    # Returns a pair (match_cost, match_length).\n",
    "    def best_match(i):\n",
    "        candidates = enumerate(reversed(cost[max(0, i-maxword):i]))\n",
    "        return min((c + wordcost.get(s[i-k-1:i], 9e999), k+1) for k,c in candidates)\n",
    "\n",
    "    # Build the cost array.\n",
    "    cost = [0]\n",
    "    for i in range(1,len(s)+1):\n",
    "        c,k = best_match(i)\n",
    "        cost.append(c)\n",
    "\n",
    "    # Backtrack to recover the minimal-cost string.\n",
    "    out = []\n",
    "    i = len(s)\n",
    "    while i>0:\n",
    "        c,k = best_match(i)\n",
    "        assert c == cost[i]\n",
    "        out.append(s[i-k:i])\n",
    "        i -= k\n",
    "\n",
    "    return \" \".join(reversed(out))\n",
    "\n",
    "def extract_features(row):\n",
    "    labels = row[\"data_combined\"].split(\".\")\n",
    "\n",
    "    row[\"FQDN_count\"] = len(row)\n",
    "    row[\"subdomain\"] = len(labels) >= 2\n",
    "    if row[\"subdomain\"]:\n",
    "        subdomain = \".\".join((row[\"data_combined\"]).split(\".\")[:-2])\n",
    "    else:\n",
    "        subdomain = \"\"\n",
    "    row[\"subdomain_length\"] = len(subdomain)\n",
    "    upper, lower, numeric, special = 0, 0, 0, 0\n",
    "    for c in row[\"data_combined\"]:\n",
    "        if c.islower():\n",
    "            lower += 1\n",
    "        if c.isupper():\n",
    "            upper += 1\n",
    "        if c.isnumeric():\n",
    "            numeric += 1\n",
    "        if not c.isalnum():\n",
    "            special += 1\n",
    "    row[\"lower\"] = lower\n",
    "    row[\"upper\"] = upper\n",
    "    row[\"numeric\"] = numeric\n",
    "    row[\"special\"] = special\n",
    "    row[\"entropy\"] = entropy(row[\"data_combined\"])\n",
    "    row[\"labels\"] = len(labels)\n",
    "    row[\"labels_max\"] = max([len(label) for label in labels])\n",
    "    row[\"labels_average\"] = mean([len(label) for label in labels])\n",
    "    row[\"sld\"] = labels[-2]\n",
    "    row[\"len\"] = row[\"subdomain_length\"] + len(labels[-2])\n",
    "    extracted_words = []\n",
    "    for label in labels:\n",
    "        extracted_words += (infer_spaces(''.join(filter(str.isalpha, label)))).split()\n",
    "    row[\"longest_word\"] = max(extracted_words, key=len)\n",
    "    return row\n"
   ]
  },
  {
   "cell_type": "code",
   "execution_count": 7,
   "id": "2a35dd9d",
   "metadata": {
    "scrolled": true
   },
   "outputs": [
    {
     "name": "stderr",
     "output_type": "stream",
     "text": [
      "100%|███████████████████████████████████████████████████████████████████████████████| 401/401 [00:03<00:00, 126.58it/s]\n"
     ]
    }
   ],
   "source": [
    "feature_extraction_start_time = time.time()\n",
    "df = df.progress_apply(extract_features, axis=1)\n",
    "feature_extraction_end_time = time.time()"
   ]
  },
  {
   "cell_type": "code",
   "execution_count": 8,
   "id": "ee3653f7",
   "metadata": {},
   "outputs": [
    {
     "name": "stdout",
     "output_type": "stream",
     "text": [
      "Time taken to extract features from the data: 3.171 for 401 queries\n",
      "Time taken to extract features per query: 0.008\n"
     ]
    }
   ],
   "source": [
    "feature_extraction_total_time = feature_extraction_end_time - feature_extraction_start_time\n",
    "print(f\"Time taken to extract features from the data: {feature_extraction_total_time:.3f} for {df.shape[0]} queries\")\n",
    "per_query_extraction_time = feature_extraction_total_time/df.shape[0]\n",
    "print(f\"Time taken to extract features per query: {per_query_extraction_time:.3f}\")"
   ]
  },
  {
   "cell_type": "code",
   "execution_count": 9,
   "id": "6621b213",
   "metadata": {},
   "outputs": [],
   "source": [
    "df.to_csv(\"Data/Data for Malware Query Generation/malware_extracted_features.csv\", index=None)"
   ]
  },
  {
   "cell_type": "code",
   "execution_count": 23,
   "id": "bb11cd7c",
   "metadata": {},
   "outputs": [],
   "source": [
    "# Use if starting from saved data:\n",
    "df = pd.read_csv(\"Data/Data for Malware Query Generation/malware_extracted_features.csv\")"
   ]
  },
  {
   "cell_type": "markdown",
   "id": "f6a53664",
   "metadata": {},
   "source": [
    "# Load saved models:"
   ]
  },
  {
   "cell_type": "markdown",
   "id": "05bdcf91",
   "metadata": {},
   "source": [
    "## LR Model baseline"
   ]
  },
  {
   "cell_type": "code",
   "execution_count": 25,
   "id": "12647528",
   "metadata": {},
   "outputs": [],
   "source": [
    "lr_baseline_column_transformer = joblib.load('models/lr_baseline_column_transformer.pkl')\n",
    "lr_baseline_model = joblib.load('models/lr_baseline_model.pkl')"
   ]
  },
  {
   "cell_type": "code",
   "execution_count": 26,
   "id": "204264e4",
   "metadata": {},
   "outputs": [
    {
     "name": "stdout",
     "output_type": "stream",
     "text": [
      "Pipeline(steps=[('lr', LogisticRegression(max_iter=500, random_state=0))])\n"
     ]
    }
   ],
   "source": [
    "print(lr_baseline_model)"
   ]
  },
  {
   "cell_type": "markdown",
   "id": "de7b2ac5",
   "metadata": {},
   "source": [
    "## RF Model baseline"
   ]
  },
  {
   "cell_type": "code",
   "execution_count": 27,
   "id": "5d20b77f",
   "metadata": {},
   "outputs": [],
   "source": [
    "rf_baseline_column_transformer = joblib.load('models/rf_baseline_column_transformer.pkl')\n",
    "rf_baseline_model = joblib.load('models/rf_baseline_model.pkl')"
   ]
  },
  {
   "cell_type": "code",
   "execution_count": 28,
   "id": "77229bf8",
   "metadata": {},
   "outputs": [
    {
     "name": "stdout",
     "output_type": "stream",
     "text": [
      "Pipeline(steps=[('rf', RandomForestClassifier(random_state=0))])\n"
     ]
    }
   ],
   "source": [
    "print(rf_baseline_model)"
   ]
  },
  {
   "cell_type": "markdown",
   "id": "50a831b7",
   "metadata": {},
   "source": [
    "# Evaluating the models on the queries from other DNS tools:"
   ]
  },
  {
   "cell_type": "markdown",
   "id": "057d0a3b",
   "metadata": {},
   "source": [
    "## Baseline LR"
   ]
  },
  {
   "cell_type": "code",
   "execution_count": 29,
   "id": "f8a1e4f2",
   "metadata": {
    "scrolled": true
   },
   "outputs": [
    {
     "data": {
      "text/html": [
       "<div>\n",
       "<style scoped>\n",
       "    .dataframe tbody tr th:only-of-type {\n",
       "        vertical-align: middle;\n",
       "    }\n",
       "\n",
       "    .dataframe tbody tr th {\n",
       "        vertical-align: top;\n",
       "    }\n",
       "\n",
       "    .dataframe thead th {\n",
       "        text-align: right;\n",
       "    }\n",
       "</style>\n",
       "<table border=\"1\" class=\"dataframe\">\n",
       "  <thead>\n",
       "    <tr style=\"text-align: right;\">\n",
       "      <th></th>\n",
       "      <th>precision</th>\n",
       "      <th>recall</th>\n",
       "      <th>f1-score</th>\n",
       "      <th>support</th>\n",
       "    </tr>\n",
       "  </thead>\n",
       "  <tbody>\n",
       "    <tr>\n",
       "      <th>0</th>\n",
       "      <td>0.0</td>\n",
       "      <td>0.0</td>\n",
       "      <td>0.0</td>\n",
       "      <td>0.0</td>\n",
       "    </tr>\n",
       "    <tr>\n",
       "      <th>1</th>\n",
       "      <td>0.0</td>\n",
       "      <td>0.0</td>\n",
       "      <td>0.0</td>\n",
       "      <td>401.0</td>\n",
       "    </tr>\n",
       "    <tr>\n",
       "      <th>accuracy</th>\n",
       "      <td>0.0</td>\n",
       "      <td>0.0</td>\n",
       "      <td>0.0</td>\n",
       "      <td>0.0</td>\n",
       "    </tr>\n",
       "    <tr>\n",
       "      <th>macro avg</th>\n",
       "      <td>0.0</td>\n",
       "      <td>0.0</td>\n",
       "      <td>0.0</td>\n",
       "      <td>401.0</td>\n",
       "    </tr>\n",
       "    <tr>\n",
       "      <th>weighted avg</th>\n",
       "      <td>0.0</td>\n",
       "      <td>0.0</td>\n",
       "      <td>0.0</td>\n",
       "      <td>401.0</td>\n",
       "    </tr>\n",
       "  </tbody>\n",
       "</table>\n",
       "</div>"
      ],
      "text/plain": [
       "              precision  recall  f1-score  support\n",
       "0                   0.0     0.0       0.0      0.0\n",
       "1                   0.0     0.0       0.0    401.0\n",
       "accuracy            0.0     0.0       0.0      0.0\n",
       "macro avg           0.0     0.0       0.0    401.0\n",
       "weighted avg        0.0     0.0       0.0    401.0"
      ]
     },
     "metadata": {},
     "output_type": "display_data"
    }
   ],
   "source": [
    "df = pd.read_csv(\"Data/Data for Malware Query Generation/malware_extracted_features.csv\")\n",
    "X = df[[col for col in df.columns if col != \"attack\"]]\n",
    "y = df[[\"attack\"]]\n",
    "\n",
    "X[\"longest_word_islower\"] = X[\"longest_word\"].apply(lambda x: str(x).islower())\n",
    "X[\"longest_word_isnumeric\"] = X[\"longest_word\"].apply(lambda x: str(x).isnumeric())\n",
    "X[\"sld_islower\"] = X[\"sld\"].apply(lambda x: str(x).islower())\n",
    "X[\"sld_isnumeric\"] = X[\"sld\"].apply(lambda x: str(x).isnumeric())\n",
    "X = lr_baseline_column_transformer.transform(X)\n",
    "predictions = lr_baseline_model.predict(X)\n",
    "df[\"predictions\"] = predictions\n",
    "\n",
    "display(pd.DataFrame(classification_report(df[\"attack\"],  df[\"predictions\"], output_dict=True)).T)"
   ]
  },
  {
   "cell_type": "markdown",
   "id": "1543bb42",
   "metadata": {},
   "source": [
    "## Baseline RF"
   ]
  },
  {
   "cell_type": "code",
   "execution_count": 30,
   "id": "c0806639",
   "metadata": {},
   "outputs": [
    {
     "data": {
      "text/html": [
       "<div>\n",
       "<style scoped>\n",
       "    .dataframe tbody tr th:only-of-type {\n",
       "        vertical-align: middle;\n",
       "    }\n",
       "\n",
       "    .dataframe tbody tr th {\n",
       "        vertical-align: top;\n",
       "    }\n",
       "\n",
       "    .dataframe thead th {\n",
       "        text-align: right;\n",
       "    }\n",
       "</style>\n",
       "<table border=\"1\" class=\"dataframe\">\n",
       "  <thead>\n",
       "    <tr style=\"text-align: right;\">\n",
       "      <th></th>\n",
       "      <th>precision</th>\n",
       "      <th>recall</th>\n",
       "      <th>f1-score</th>\n",
       "      <th>support</th>\n",
       "    </tr>\n",
       "  </thead>\n",
       "  <tbody>\n",
       "    <tr>\n",
       "      <th>0</th>\n",
       "      <td>0.0</td>\n",
       "      <td>0.0</td>\n",
       "      <td>0.0</td>\n",
       "      <td>0.0</td>\n",
       "    </tr>\n",
       "    <tr>\n",
       "      <th>1</th>\n",
       "      <td>0.0</td>\n",
       "      <td>0.0</td>\n",
       "      <td>0.0</td>\n",
       "      <td>401.0</td>\n",
       "    </tr>\n",
       "    <tr>\n",
       "      <th>accuracy</th>\n",
       "      <td>0.0</td>\n",
       "      <td>0.0</td>\n",
       "      <td>0.0</td>\n",
       "      <td>0.0</td>\n",
       "    </tr>\n",
       "    <tr>\n",
       "      <th>macro avg</th>\n",
       "      <td>0.0</td>\n",
       "      <td>0.0</td>\n",
       "      <td>0.0</td>\n",
       "      <td>401.0</td>\n",
       "    </tr>\n",
       "    <tr>\n",
       "      <th>weighted avg</th>\n",
       "      <td>0.0</td>\n",
       "      <td>0.0</td>\n",
       "      <td>0.0</td>\n",
       "      <td>401.0</td>\n",
       "    </tr>\n",
       "  </tbody>\n",
       "</table>\n",
       "</div>"
      ],
      "text/plain": [
       "              precision  recall  f1-score  support\n",
       "0                   0.0     0.0       0.0      0.0\n",
       "1                   0.0     0.0       0.0    401.0\n",
       "accuracy            0.0     0.0       0.0      0.0\n",
       "macro avg           0.0     0.0       0.0    401.0\n",
       "weighted avg        0.0     0.0       0.0    401.0"
      ]
     },
     "metadata": {},
     "output_type": "display_data"
    }
   ],
   "source": [
    "df = pd.read_csv(\"Data/Data for Malware Query Generation/malware_extracted_features.csv\")\n",
    "X = df[[col for col in df.columns if col != \"attack\"]]\n",
    "\n",
    "y = df[[\"attack\"]]\n",
    "\n",
    "X = rf_baseline_column_transformer.transform(X)\n",
    "predictions = rf_baseline_model.predict(X)\n",
    "df[\"predictions\"] = predictions\n",
    "\n",
    "display(pd.DataFrame(classification_report(df[\"attack\"],  df[\"predictions\"], output_dict=True)).T)"
   ]
  },
  {
   "cell_type": "markdown",
   "id": "61c3c662",
   "metadata": {},
   "source": [
    "# Using the models trained on optimized features:"
   ]
  },
  {
   "cell_type": "markdown",
   "id": "e0a04c91",
   "metadata": {},
   "source": [
    "## LR"
   ]
  },
  {
   "cell_type": "code",
   "execution_count": 31,
   "id": "e444a551",
   "metadata": {},
   "outputs": [],
   "source": [
    "lr_optimized_features_column_transformer = joblib.load('models/lr_optimized_features_column_transformer.pkl')\n",
    "lr_optimized_features_model = joblib.load('models/lr_optimized_features_model.pkl')"
   ]
  },
  {
   "cell_type": "code",
   "execution_count": 32,
   "id": "f44128c3",
   "metadata": {},
   "outputs": [
    {
     "data": {
      "text/html": [
       "<div>\n",
       "<style scoped>\n",
       "    .dataframe tbody tr th:only-of-type {\n",
       "        vertical-align: middle;\n",
       "    }\n",
       "\n",
       "    .dataframe tbody tr th {\n",
       "        vertical-align: top;\n",
       "    }\n",
       "\n",
       "    .dataframe thead th {\n",
       "        text-align: right;\n",
       "    }\n",
       "</style>\n",
       "<table border=\"1\" class=\"dataframe\">\n",
       "  <thead>\n",
       "    <tr style=\"text-align: right;\">\n",
       "      <th></th>\n",
       "      <th>precision</th>\n",
       "      <th>recall</th>\n",
       "      <th>f1-score</th>\n",
       "      <th>support</th>\n",
       "    </tr>\n",
       "  </thead>\n",
       "  <tbody>\n",
       "    <tr>\n",
       "      <th>0</th>\n",
       "      <td>0.000000</td>\n",
       "      <td>0.000000</td>\n",
       "      <td>0.000000</td>\n",
       "      <td>0.000000</td>\n",
       "    </tr>\n",
       "    <tr>\n",
       "      <th>1</th>\n",
       "      <td>1.000000</td>\n",
       "      <td>0.229426</td>\n",
       "      <td>0.373225</td>\n",
       "      <td>401.000000</td>\n",
       "    </tr>\n",
       "    <tr>\n",
       "      <th>accuracy</th>\n",
       "      <td>0.229426</td>\n",
       "      <td>0.229426</td>\n",
       "      <td>0.229426</td>\n",
       "      <td>0.229426</td>\n",
       "    </tr>\n",
       "    <tr>\n",
       "      <th>macro avg</th>\n",
       "      <td>0.500000</td>\n",
       "      <td>0.114713</td>\n",
       "      <td>0.186613</td>\n",
       "      <td>401.000000</td>\n",
       "    </tr>\n",
       "    <tr>\n",
       "      <th>weighted avg</th>\n",
       "      <td>1.000000</td>\n",
       "      <td>0.229426</td>\n",
       "      <td>0.373225</td>\n",
       "      <td>401.000000</td>\n",
       "    </tr>\n",
       "  </tbody>\n",
       "</table>\n",
       "</div>"
      ],
      "text/plain": [
       "              precision    recall  f1-score     support\n",
       "0              0.000000  0.000000  0.000000    0.000000\n",
       "1              1.000000  0.229426  0.373225  401.000000\n",
       "accuracy       0.229426  0.229426  0.229426    0.229426\n",
       "macro avg      0.500000  0.114713  0.186613  401.000000\n",
       "weighted avg   1.000000  0.229426  0.373225  401.000000"
      ]
     },
     "metadata": {},
     "output_type": "display_data"
    }
   ],
   "source": [
    "df = pd.read_csv(\"Data/Data for Malware Query Generation/malware_extracted_features.csv\")\n",
    "X = df[[col for col in df.columns if col != \"attack\"]]\n",
    "y = df[[\"attack\"]]\n",
    "\n",
    "X[\"longest_word_islower\"] = X[\"longest_word\"].apply(lambda x: str(x).islower())\n",
    "X[\"longest_word_isnumeric\"] = X[\"longest_word\"].apply(lambda x: str(x).isnumeric())\n",
    "X[\"sld_islower\"] = X[\"sld\"].apply(lambda x: str(x).islower())\n",
    "X[\"sld_isnumeric\"] = X[\"sld\"].apply(lambda x: str(x).isnumeric())\n",
    "\n",
    "X = lr_optimized_features_column_transformer.transform(X)\n",
    "predictions = lr_optimized_features_model.predict(X)\n",
    "df[\"predictions\"] = predictions\n",
    "\n",
    "display(pd.DataFrame(classification_report(df[\"attack\"],  df[\"predictions\"], output_dict=True)).T)"
   ]
  },
  {
   "cell_type": "markdown",
   "id": "49b834f0",
   "metadata": {},
   "source": [
    "## RF"
   ]
  },
  {
   "cell_type": "code",
   "execution_count": 33,
   "id": "a8125c14",
   "metadata": {},
   "outputs": [],
   "source": [
    "rf_optimized_features_column_transformer = joblib.load('models/rf_optimized_features_column_transformer.pkl')\n",
    "rf_optimized_features_model = joblib.load('models/rf_optimized_features_model.pkl')"
   ]
  },
  {
   "cell_type": "code",
   "execution_count": 34,
   "id": "e84e46a7",
   "metadata": {},
   "outputs": [
    {
     "data": {
      "text/html": [
       "<div>\n",
       "<style scoped>\n",
       "    .dataframe tbody tr th:only-of-type {\n",
       "        vertical-align: middle;\n",
       "    }\n",
       "\n",
       "    .dataframe tbody tr th {\n",
       "        vertical-align: top;\n",
       "    }\n",
       "\n",
       "    .dataframe thead th {\n",
       "        text-align: right;\n",
       "    }\n",
       "</style>\n",
       "<table border=\"1\" class=\"dataframe\">\n",
       "  <thead>\n",
       "    <tr style=\"text-align: right;\">\n",
       "      <th></th>\n",
       "      <th>precision</th>\n",
       "      <th>recall</th>\n",
       "      <th>f1-score</th>\n",
       "      <th>support</th>\n",
       "    </tr>\n",
       "  </thead>\n",
       "  <tbody>\n",
       "    <tr>\n",
       "      <th>0</th>\n",
       "      <td>0.0</td>\n",
       "      <td>0.0</td>\n",
       "      <td>0.0</td>\n",
       "      <td>0.0</td>\n",
       "    </tr>\n",
       "    <tr>\n",
       "      <th>1</th>\n",
       "      <td>0.0</td>\n",
       "      <td>0.0</td>\n",
       "      <td>0.0</td>\n",
       "      <td>401.0</td>\n",
       "    </tr>\n",
       "    <tr>\n",
       "      <th>accuracy</th>\n",
       "      <td>0.0</td>\n",
       "      <td>0.0</td>\n",
       "      <td>0.0</td>\n",
       "      <td>0.0</td>\n",
       "    </tr>\n",
       "    <tr>\n",
       "      <th>macro avg</th>\n",
       "      <td>0.0</td>\n",
       "      <td>0.0</td>\n",
       "      <td>0.0</td>\n",
       "      <td>401.0</td>\n",
       "    </tr>\n",
       "    <tr>\n",
       "      <th>weighted avg</th>\n",
       "      <td>0.0</td>\n",
       "      <td>0.0</td>\n",
       "      <td>0.0</td>\n",
       "      <td>401.0</td>\n",
       "    </tr>\n",
       "  </tbody>\n",
       "</table>\n",
       "</div>"
      ],
      "text/plain": [
       "              precision  recall  f1-score  support\n",
       "0                   0.0     0.0       0.0      0.0\n",
       "1                   0.0     0.0       0.0    401.0\n",
       "accuracy            0.0     0.0       0.0      0.0\n",
       "macro avg           0.0     0.0       0.0    401.0\n",
       "weighted avg        0.0     0.0       0.0    401.0"
      ]
     },
     "metadata": {},
     "output_type": "display_data"
    }
   ],
   "source": [
    "df = pd.read_csv(\"Data/Data for Malware Query Generation/malware_extracted_features.csv\")\n",
    "X = df[[col for col in df.columns if col != \"attack\"]]\n",
    "y = df[[\"attack\"]]\n",
    "\n",
    "X[\"longest_word_islower\"] = X[\"longest_word\"].apply(lambda x: str(x).islower())\n",
    "X[\"longest_word_isnumeric\"] = X[\"longest_word\"].apply(lambda x: str(x).isnumeric())\n",
    "X[\"sld_islower\"] = X[\"sld\"].apply(lambda x: str(x).islower())\n",
    "X[\"sld_isnumeric\"] = X[\"sld\"].apply(lambda x: str(x).isnumeric())\n",
    "\n",
    "X = rf_optimized_features_column_transformer.transform(X)\n",
    "predictions = rf_optimized_features_model.predict(X)\n",
    "df[\"predictions\"] = predictions\n",
    "\n",
    "display(pd.DataFrame(classification_report(df[\"attack\"],  df[\"predictions\"], output_dict=True)).T)"
   ]
  },
  {
   "cell_type": "markdown",
   "id": "41dc2424",
   "metadata": {},
   "source": [
    "Both baseline and optimized logistic regression models perform well on all the tools except tuns. Both Random forest models are unable to classify any of the queries from other DNS Exfiltration tools."
   ]
  },
  {
   "cell_type": "code",
   "execution_count": 35,
   "id": "6c41d9c5",
   "metadata": {},
   "outputs": [],
   "source": [
    "optimized_features = ['FQDN_count', 'subdomain_length', 'lower', 'numeric', 'special',\n",
    "       'labels', 'longest_word_islower',\n",
    "       'longest_word_isnumeric', 'sld_islower', 'sld_isnumeric']"
   ]
  },
  {
   "cell_type": "markdown",
   "id": "1e10409e",
   "metadata": {},
   "source": [
    "# Testing malware queries on models trained on other DNS Exfiltration tools:"
   ]
  },
  {
   "cell_type": "markdown",
   "id": "a565ded6",
   "metadata": {},
   "source": [
    "# LR"
   ]
  },
  {
   "cell_type": "code",
   "execution_count": 37,
   "id": "697a28dc",
   "metadata": {},
   "outputs": [],
   "source": [
    "lr_other_tools_column_transformer = joblib.load('models/lr_other_dns_tools_column_transformer.pkl')\n",
    "lr_other_tools_model = joblib.load('models/lr_other_dns_tools_model.pkl')"
   ]
  },
  {
   "cell_type": "code",
   "execution_count": 38,
   "id": "2a9eee09",
   "metadata": {},
   "outputs": [
    {
     "data": {
      "text/html": [
       "<div>\n",
       "<style scoped>\n",
       "    .dataframe tbody tr th:only-of-type {\n",
       "        vertical-align: middle;\n",
       "    }\n",
       "\n",
       "    .dataframe tbody tr th {\n",
       "        vertical-align: top;\n",
       "    }\n",
       "\n",
       "    .dataframe thead th {\n",
       "        text-align: right;\n",
       "    }\n",
       "</style>\n",
       "<table border=\"1\" class=\"dataframe\">\n",
       "  <thead>\n",
       "    <tr style=\"text-align: right;\">\n",
       "      <th></th>\n",
       "      <th>precision</th>\n",
       "      <th>recall</th>\n",
       "      <th>f1-score</th>\n",
       "      <th>support</th>\n",
       "    </tr>\n",
       "  </thead>\n",
       "  <tbody>\n",
       "    <tr>\n",
       "      <th>1</th>\n",
       "      <td>1.0</td>\n",
       "      <td>1.0</td>\n",
       "      <td>1.0</td>\n",
       "      <td>401.0</td>\n",
       "    </tr>\n",
       "    <tr>\n",
       "      <th>accuracy</th>\n",
       "      <td>1.0</td>\n",
       "      <td>1.0</td>\n",
       "      <td>1.0</td>\n",
       "      <td>1.0</td>\n",
       "    </tr>\n",
       "    <tr>\n",
       "      <th>macro avg</th>\n",
       "      <td>1.0</td>\n",
       "      <td>1.0</td>\n",
       "      <td>1.0</td>\n",
       "      <td>401.0</td>\n",
       "    </tr>\n",
       "    <tr>\n",
       "      <th>weighted avg</th>\n",
       "      <td>1.0</td>\n",
       "      <td>1.0</td>\n",
       "      <td>1.0</td>\n",
       "      <td>401.0</td>\n",
       "    </tr>\n",
       "  </tbody>\n",
       "</table>\n",
       "</div>"
      ],
      "text/plain": [
       "              precision  recall  f1-score  support\n",
       "1                   1.0     1.0       1.0    401.0\n",
       "accuracy            1.0     1.0       1.0      1.0\n",
       "macro avg           1.0     1.0       1.0    401.0\n",
       "weighted avg        1.0     1.0       1.0    401.0"
      ]
     },
     "metadata": {},
     "output_type": "display_data"
    }
   ],
   "source": [
    "df = pd.read_csv(\"Data/Data for Malware Query Generation/malware_extracted_features.csv\")\n",
    "X = df[[col for col in df.columns if col != \"attack\"]]\n",
    "y = df[[\"attack\"]]\n",
    "\n",
    "X[\"longest_word_islower\"] = X[\"longest_word\"].apply(lambda x: str(x).islower())\n",
    "X[\"longest_word_isnumeric\"] = X[\"longest_word\"].apply(lambda x: str(x).isnumeric())\n",
    "X[\"sld_islower\"] = X[\"sld\"].apply(lambda x: str(x).islower())\n",
    "X[\"sld_isnumeric\"] = X[\"sld\"].apply(lambda x: str(x).isnumeric())\n",
    "X = lr_other_tools_column_transformer.transform(X)\n",
    "predictions = lr_other_tools_model.predict(X)\n",
    "df[\"predictions\"] = predictions\n",
    "\n",
    "display(pd.DataFrame(classification_report(df[\"attack\"],  df[\"predictions\"], output_dict=True)).T)"
   ]
  },
  {
   "cell_type": "markdown",
   "id": "7fc7ef21",
   "metadata": {},
   "source": [
    "# RF"
   ]
  },
  {
   "cell_type": "code",
   "execution_count": 39,
   "id": "ef3cb643",
   "metadata": {},
   "outputs": [],
   "source": [
    "rf_other_tools_column_transformer = joblib.load('models/rf_other_dns_tools_column_transformer.pkl')\n",
    "rf_other_tools_model = joblib.load('models/rf_other_dns_tools_model.pkl')"
   ]
  },
  {
   "cell_type": "code",
   "execution_count": 40,
   "id": "9fdfdbaf",
   "metadata": {},
   "outputs": [
    {
     "data": {
      "text/html": [
       "<div>\n",
       "<style scoped>\n",
       "    .dataframe tbody tr th:only-of-type {\n",
       "        vertical-align: middle;\n",
       "    }\n",
       "\n",
       "    .dataframe tbody tr th {\n",
       "        vertical-align: top;\n",
       "    }\n",
       "\n",
       "    .dataframe thead th {\n",
       "        text-align: right;\n",
       "    }\n",
       "</style>\n",
       "<table border=\"1\" class=\"dataframe\">\n",
       "  <thead>\n",
       "    <tr style=\"text-align: right;\">\n",
       "      <th></th>\n",
       "      <th>precision</th>\n",
       "      <th>recall</th>\n",
       "      <th>f1-score</th>\n",
       "      <th>support</th>\n",
       "    </tr>\n",
       "  </thead>\n",
       "  <tbody>\n",
       "    <tr>\n",
       "      <th>1</th>\n",
       "      <td>1.0</td>\n",
       "      <td>1.0</td>\n",
       "      <td>1.0</td>\n",
       "      <td>401.0</td>\n",
       "    </tr>\n",
       "    <tr>\n",
       "      <th>accuracy</th>\n",
       "      <td>1.0</td>\n",
       "      <td>1.0</td>\n",
       "      <td>1.0</td>\n",
       "      <td>1.0</td>\n",
       "    </tr>\n",
       "    <tr>\n",
       "      <th>macro avg</th>\n",
       "      <td>1.0</td>\n",
       "      <td>1.0</td>\n",
       "      <td>1.0</td>\n",
       "      <td>401.0</td>\n",
       "    </tr>\n",
       "    <tr>\n",
       "      <th>weighted avg</th>\n",
       "      <td>1.0</td>\n",
       "      <td>1.0</td>\n",
       "      <td>1.0</td>\n",
       "      <td>401.0</td>\n",
       "    </tr>\n",
       "  </tbody>\n",
       "</table>\n",
       "</div>"
      ],
      "text/plain": [
       "              precision  recall  f1-score  support\n",
       "1                   1.0     1.0       1.0    401.0\n",
       "accuracy            1.0     1.0       1.0      1.0\n",
       "macro avg           1.0     1.0       1.0    401.0\n",
       "weighted avg        1.0     1.0       1.0    401.0"
      ]
     },
     "metadata": {},
     "output_type": "display_data"
    }
   ],
   "source": [
    "df = pd.read_csv(\"Data/Data for Malware Query Generation/malware_extracted_features.csv\")\n",
    "X = df[[col for col in df.columns if col != \"attack\"]]\n",
    "y = df[[\"attack\"]]\n",
    "\n",
    "X[\"longest_word_islower\"] = X[\"longest_word\"].apply(lambda x: str(x).islower())\n",
    "X[\"longest_word_isnumeric\"] = X[\"longest_word\"].apply(lambda x: str(x).isnumeric())\n",
    "X[\"sld_islower\"] = X[\"sld\"].apply(lambda x: str(x).islower())\n",
    "X[\"sld_isnumeric\"] = X[\"sld\"].apply(lambda x: str(x).isnumeric())\n",
    "\n",
    "X = rf_other_tools_column_transformer.transform(X)\n",
    "predictions = rf_other_tools_model.predict(X)\n",
    "df[\"predictions\"] = predictions\n",
    "display(pd.DataFrame(classification_report(df[\"attack\"],  df[\"predictions\"], output_dict=True)).T)"
   ]
  },
  {
   "cell_type": "code",
   "execution_count": null,
   "id": "7e6ff5dc",
   "metadata": {},
   "outputs": [],
   "source": []
  },
  {
   "cell_type": "code",
   "execution_count": null,
   "id": "74f5c69f",
   "metadata": {},
   "outputs": [],
   "source": []
  }
 ],
 "metadata": {
  "kernelspec": {
   "display_name": "Python 3 (ipykernel)",
   "language": "python",
   "name": "python3"
  },
  "language_info": {
   "codemirror_mode": {
    "name": "ipython",
    "version": 3
   },
   "file_extension": ".py",
   "mimetype": "text/x-python",
   "name": "python",
   "nbconvert_exporter": "python",
   "pygments_lexer": "ipython3",
   "version": "3.10.4"
  }
 },
 "nbformat": 4,
 "nbformat_minor": 5
}
